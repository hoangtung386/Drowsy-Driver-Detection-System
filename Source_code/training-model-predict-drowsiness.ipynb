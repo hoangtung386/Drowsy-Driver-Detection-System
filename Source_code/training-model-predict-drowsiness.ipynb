{
 "cells": [
  {
   "cell_type": "code",
   "execution_count": 1,
   "id": "e3a295a3",
   "metadata": {
    "_cell_guid": "b1076dfc-b9ad-4769-8c92-a6c4dae69d19",
    "_uuid": "8f2839f25d086af736a60e9eeb907d3b93b6e0e5",
    "execution": {
     "iopub.execute_input": "2024-12-29T07:53:11.380636Z",
     "iopub.status.busy": "2024-12-29T07:53:11.380281Z",
     "iopub.status.idle": "2024-12-29T07:53:28.020713Z",
     "shell.execute_reply": "2024-12-29T07:53:28.019729Z"
    },
    "papermill": {
     "duration": 16.654033,
     "end_time": "2024-12-29T07:53:28.023296",
     "exception": false,
     "start_time": "2024-12-29T07:53:11.369263",
     "status": "completed"
    },
    "tags": []
   },
   "outputs": [],
   "source": [
    "# This Python 3 environment comes with many helpful analytics libraries installed\n",
    "# It is defined by the kaggle/python Docker image: https://github.com/kaggle/docker-python\n",
    "# For example, here's several helpful packages to load\n",
    "\n",
    "import numpy as np # linear algebra\n",
    "import pandas as pd # data processing, CSV file I/O (e.g. pd.read_csv)\n",
    "\n",
    "# Input data files are available in the read-only \"../input/\" directory\n",
    "# For example, running this (by clicking run or pressing Shift+Enter) will list all files under the input directory\n",
    "\n",
    "import os\n",
    "for dirname, _, filenames in os.walk('/kaggle/input'):\n",
    "    for filename in filenames:\n",
    "        # print(os.path.join(dirname, filename))\n",
    "        pass\n",
    "\n",
    "# You can write up to 20GB to the current directory (/kaggle/working/) that gets preserved as output when you create a version using \"Save & Run All\" \n",
    "# You can also write temporary files to /kaggle/temp/, but they won't be saved outside of the current session"
   ]
  },
  {
   "cell_type": "markdown",
   "id": "f0788087",
   "metadata": {
    "papermill": {
     "duration": 0.012058,
     "end_time": "2024-12-29T07:53:28.049427",
     "exception": false,
     "start_time": "2024-12-29T07:53:28.037369",
     "status": "completed"
    },
    "tags": []
   },
   "source": [
    "## Cài các thư viện cần thiết"
   ]
  },
  {
   "cell_type": "code",
   "execution_count": 2,
   "id": "6ef054bc",
   "metadata": {
    "execution": {
     "iopub.execute_input": "2024-12-29T07:53:28.066444Z",
     "iopub.status.busy": "2024-12-29T07:53:28.065569Z",
     "iopub.status.idle": "2024-12-29T07:53:40.606838Z",
     "shell.execute_reply": "2024-12-29T07:53:40.606103Z"
    },
    "papermill": {
     "duration": 12.552138,
     "end_time": "2024-12-29T07:53:40.609033",
     "exception": false,
     "start_time": "2024-12-29T07:53:28.056895",
     "status": "completed"
    },
    "tags": []
   },
   "outputs": [],
   "source": [
    "import os\n",
    "import numpy as np\n",
    "import pandas as pd\n",
    "import matplotlib.pyplot as plt\n",
    "import seaborn as sns\n",
    "from sklearn.metrics import confusion_matrix, classification_report\n",
    "import tensorflow as tf\n",
    "from tensorflow.keras.models import Sequential\n",
    "from tensorflow.keras.layers import Dense, Dropout, Flatten\n",
    "from tensorflow.keras.layers import Conv2D, MaxPooling2D, BatchNormalization"
   ]
  },
  {
   "cell_type": "code",
   "execution_count": 3,
   "id": "5213d8f2",
   "metadata": {
    "execution": {
     "iopub.execute_input": "2024-12-29T07:53:40.625917Z",
     "iopub.status.busy": "2024-12-29T07:53:40.625274Z",
     "iopub.status.idle": "2024-12-29T07:53:40.796879Z",
     "shell.execute_reply": "2024-12-29T07:53:40.796198Z"
    },
    "papermill": {
     "duration": 0.181997,
     "end_time": "2024-12-29T07:53:40.798826",
     "exception": false,
     "start_time": "2024-12-29T07:53:40.616829",
     "status": "completed"
    },
    "tags": []
   },
   "outputs": [],
   "source": [
    "from tensorflow.keras.optimizers import Adam\n",
    "from tensorflow.keras.preprocessing.image import ImageDataGenerator, load_img, img_to_array\n",
    "import cv2\n",
    "from PIL import Image\n",
    "import matplotlib.image as mpimg\n",
    "from tensorflow.keras.callbacks import ModelCheckpoint, EarlyStopping, ReduceLROnPlateau"
   ]
  },
  {
   "cell_type": "markdown",
   "id": "1fc112d4",
   "metadata": {
    "papermill": {
     "duration": 0.007229,
     "end_time": "2024-12-29T07:53:40.813735",
     "exception": false,
     "start_time": "2024-12-29T07:53:40.806506",
     "status": "completed"
    },
    "tags": []
   },
   "source": [
    "## GET GPU"
   ]
  },
  {
   "cell_type": "code",
   "execution_count": 4,
   "id": "fb63cd8b",
   "metadata": {
    "execution": {
     "iopub.execute_input": "2024-12-29T07:53:40.829616Z",
     "iopub.status.busy": "2024-12-29T07:53:40.829287Z",
     "iopub.status.idle": "2024-12-29T07:53:41.181340Z",
     "shell.execute_reply": "2024-12-29T07:53:41.180484Z"
    },
    "papermill": {
     "duration": 0.362041,
     "end_time": "2024-12-29T07:53:41.183020",
     "exception": false,
     "start_time": "2024-12-29T07:53:40.820979",
     "status": "completed"
    },
    "tags": []
   },
   "outputs": [
    {
     "name": "stdout",
     "output_type": "stream",
     "text": [
      "['/device:GPU:0']\n"
     ]
    }
   ],
   "source": [
    "from tensorflow.python.client import device_lib\n",
    "\n",
    "def get_gpu():\n",
    "    local_device_protos = device_lib.list_local_devices()\n",
    "    return [x.name for x in local_device_protos if x.device_type == \"GPU\"]\n",
    "\n",
    "print(get_gpu())"
   ]
  },
  {
   "cell_type": "markdown",
   "id": "020818db",
   "metadata": {
    "papermill": {
     "duration": 0.007271,
     "end_time": "2024-12-29T07:53:41.198048",
     "exception": false,
     "start_time": "2024-12-29T07:53:41.190777",
     "status": "completed"
    },
    "tags": []
   },
   "source": [
    "## 1. Function to plot training graph"
   ]
  },
  {
   "cell_type": "code",
   "execution_count": 5,
   "id": "b8b1ad5f",
   "metadata": {
    "execution": {
     "iopub.execute_input": "2024-12-29T07:53:41.214060Z",
     "iopub.status.busy": "2024-12-29T07:53:41.213698Z",
     "iopub.status.idle": "2024-12-29T07:53:41.220263Z",
     "shell.execute_reply": "2024-12-29T07:53:41.219559Z"
    },
    "papermill": {
     "duration": 0.016479,
     "end_time": "2024-12-29T07:53:41.221847",
     "exception": false,
     "start_time": "2024-12-29T07:53:41.205368",
     "status": "completed"
    },
    "tags": []
   },
   "outputs": [],
   "source": [
    "def plot_model_history(model_history):\n",
    "    \"\"\"\n",
    "    Plot Accuracy and Loss curves given the model_history\n",
    "    \"\"\"\n",
    "    acc = model_history.history['accuracy']\n",
    "    val_acc = model_history.history['val_accuracy']\n",
    "    loss = model_history.history['loss']\n",
    "    val_loss = model_history.history['val_loss']\n",
    "    epochs = range(len(acc))\n",
    "\n",
    "    # Plot training and validation accuracy\n",
    "    fig, (ax1, ax2) = plt.subplots(1, 2, figsize=(10, 4))\n",
    "\n",
    "    # Vẽ đồ thị độ chính xác trong subplot đầu tiên\n",
    "    ax1.plot(epochs, acc, 'teal', label='Training acc')\n",
    "    ax1.plot(epochs, val_acc, 'orange', label='Validation acc')\n",
    "    ax1.set_title('Training and validation accuracy')\n",
    "    ax1.set_xlabel('Epochs')\n",
    "    ax1.set_ylabel('Accuracy')\n",
    "    ax1.legend()\n",
    "\n",
    "    # Plot training and validation loss\n",
    "    ax2.plot(epochs, loss, 'teal', label='Training loss')\n",
    "    ax2.plot(epochs, val_loss, 'orange', label='Validation loss')\n",
    "    ax2.set_title('Training and validation loss')\n",
    "    ax2.set_xlabel('Epochs')\n",
    "    ax2.set_ylabel('Loss')\n",
    "    ax2.legend()\n",
    "\n",
    "    plt.tight_layout()\n",
    "    plt.show()"
   ]
  },
  {
   "cell_type": "markdown",
   "id": "0ecf70ce",
   "metadata": {
    "papermill": {
     "duration": 0.007289,
     "end_time": "2024-12-29T07:53:41.236612",
     "exception": false,
     "start_time": "2024-12-29T07:53:41.229323",
     "status": "completed"
    },
    "tags": []
   },
   "source": [
    "## Define dataset link and specify class usage"
   ]
  },
  {
   "cell_type": "code",
   "execution_count": 6,
   "id": "573a6688",
   "metadata": {
    "execution": {
     "iopub.execute_input": "2024-12-29T07:53:41.252780Z",
     "iopub.status.busy": "2024-12-29T07:53:41.252473Z",
     "iopub.status.idle": "2024-12-29T07:53:41.256814Z",
     "shell.execute_reply": "2024-12-29T07:53:41.256144Z"
    },
    "papermill": {
     "duration": 0.014326,
     "end_time": "2024-12-29T07:53:41.258321",
     "exception": false,
     "start_time": "2024-12-29T07:53:41.243995",
     "status": "completed"
    },
    "tags": []
   },
   "outputs": [],
   "source": [
    "# Define directories\n",
    "train_dir = '/kaggle/input/drowsiness-dataset/Dataset/Train'\n",
    "test_dir = '/kaggle/input/drowsiness-dataset/Dataset/Test'\n",
    "val_dir = '/kaggle/input/drowsiness-dataset/Dataset/Val'\n",
    "\n",
    "# Define classes\n",
    "CLASSES = ['Closed_Eyes', 'Open_Eyes']\n",
    "\n",
    "# Parameters\n",
    "num_train = 0  # To be calculated\n",
    "num_val = 0    # To be calculated\n",
    "batch_size = 16\n",
    "num_epoch = 100\n",
    "IMG_WIDTH = 128\n",
    "IMG_HEIGHT = 128"
   ]
  },
  {
   "cell_type": "markdown",
   "id": "c55e7d79",
   "metadata": {
    "papermill": {
     "duration": 0.007064,
     "end_time": "2024-12-29T07:53:41.272728",
     "exception": false,
     "start_time": "2024-12-29T07:53:41.265664",
     "status": "completed"
    },
    "tags": []
   },
   "source": [
    "## Image preprocessing function"
   ]
  },
  {
   "cell_type": "code",
   "execution_count": 7,
   "id": "6e95c120",
   "metadata": {
    "execution": {
     "iopub.execute_input": "2024-12-29T07:53:41.288585Z",
     "iopub.status.busy": "2024-12-29T07:53:41.288259Z",
     "iopub.status.idle": "2024-12-29T07:53:41.293173Z",
     "shell.execute_reply": "2024-12-29T07:53:41.292307Z"
    },
    "papermill": {
     "duration": 0.014963,
     "end_time": "2024-12-29T07:53:41.294849",
     "exception": false,
     "start_time": "2024-12-29T07:53:41.279886",
     "status": "completed"
    },
    "tags": []
   },
   "outputs": [],
   "source": [
    "def preprocess_image(image_path):\n",
    "    img = load_img(image_path)\n",
    "    img = img_to_array(img)\n",
    "    img = cv2.cvtColor(img, cv2.COLOR_RGB2GRAY) # Chuyển thành ảnh xám\n",
    "    img = cv2.resize(img, (IMG_WIDTH, IMG_HEIGHT), interpolation=cv2.INTER_LINEAR)  # Resize và làm nét\n",
    "    img = img.astype('float32') / 255.0  # Chuẩn hóa về [0, 1]\n",
    "    return img.reshape(IMG_HEIGHT, IMG_WIDTH, 1) # Đưa chiều channel vào"
   ]
  },
  {
   "cell_type": "markdown",
   "id": "84bb91cf",
   "metadata": {
    "papermill": {
     "duration": 0.007031,
     "end_time": "2024-12-29T07:53:41.309248",
     "exception": false,
     "start_time": "2024-12-29T07:53:41.302217",
     "status": "completed"
    },
    "tags": []
   },
   "source": [
    "## Custom Data Generator"
   ]
  },
  {
   "cell_type": "code",
   "execution_count": 8,
   "id": "55a894d1",
   "metadata": {
    "execution": {
     "iopub.execute_input": "2024-12-29T07:53:41.325193Z",
     "iopub.status.busy": "2024-12-29T07:53:41.324559Z",
     "iopub.status.idle": "2024-12-29T07:53:41.332773Z",
     "shell.execute_reply": "2024-12-29T07:53:41.332005Z"
    },
    "papermill": {
     "duration": 0.01808,
     "end_time": "2024-12-29T07:53:41.334428",
     "exception": false,
     "start_time": "2024-12-29T07:53:41.316348",
     "status": "completed"
    },
    "tags": []
   },
   "outputs": [],
   "source": [
    "# Custom data generator\n",
    "class CustomDataGenerator(tf.keras.utils.Sequence):\n",
    "    def __init__(self, directory, classes, batch_size, shuffle=True):\n",
    "      self.directory = directory\n",
    "      self.classes = classes\n",
    "      self.batch_size = batch_size\n",
    "      self.shuffle = shuffle\n",
    "      self.image_paths = []\n",
    "      self.labels = []\n",
    "      self.class_indices = {label: i for i, label in enumerate(classes)}\n",
    "\n",
    "      # Get list of all image paths and their labels\n",
    "      for c in classes:\n",
    "          class_path = os.path.join(directory, c)\n",
    "          for filename in os.listdir(class_path):\n",
    "              image_path = os.path.join(class_path, filename)\n",
    "              self.image_paths.append(image_path)\n",
    "              self.labels.append(self.class_indices[c])\n",
    "      \n",
    "      # Store class numbers in integer for labels\n",
    "      self.labels = np.array(self.labels)\n",
    "\n",
    "      self.on_epoch_end()\n",
    "\n",
    "    def __len__(self):\n",
    "      return int(np.ceil(len(self.image_paths) / float(self.batch_size)))\n",
    "    \n",
    "    def __getitem__(self, idx):\n",
    "      batch_paths = self.image_paths[idx * self.batch_size:(idx + 1) * self.batch_size]\n",
    "      batch_labels = self.labels[idx * self.batch_size:(idx + 1) * self.batch_size]\n",
    "      batch_images = [preprocess_image(path) for path in batch_paths]\n",
    "      batch_images = np.array(batch_images)\n",
    "      batch_labels = tf.keras.utils.to_categorical(batch_labels, num_classes=len(self.classes)) # One-hot encode\n",
    "      return batch_images, batch_labels\n",
    "\n",
    "    def on_epoch_end(self):\n",
    "        if self.shuffle:\n",
    "            combined = list(zip(self.image_paths, self.labels))\n",
    "            np.random.shuffle(combined)\n",
    "            self.image_paths, self.labels = zip(*combined)"
   ]
  },
  {
   "cell_type": "markdown",
   "id": "f4541d16",
   "metadata": {
    "papermill": {
     "duration": 0.007023,
     "end_time": "2024-12-29T07:53:41.348725",
     "exception": false,
     "start_time": "2024-12-29T07:53:41.341702",
     "status": "completed"
    },
    "tags": []
   },
   "source": [
    "## Generate training data"
   ]
  },
  {
   "cell_type": "code",
   "execution_count": 9,
   "id": "b38ceb5f",
   "metadata": {
    "execution": {
     "iopub.execute_input": "2024-12-29T07:53:41.364554Z",
     "iopub.status.busy": "2024-12-29T07:53:41.363919Z",
     "iopub.status.idle": "2024-12-29T07:53:41.383963Z",
     "shell.execute_reply": "2024-12-29T07:53:41.383317Z"
    },
    "papermill": {
     "duration": 0.029742,
     "end_time": "2024-12-29T07:53:41.385579",
     "exception": false,
     "start_time": "2024-12-29T07:53:41.355837",
     "status": "completed"
    },
    "tags": []
   },
   "outputs": [],
   "source": [
    "train_generator = CustomDataGenerator(train_dir, CLASSES, batch_size, shuffle=True)\n",
    "validation_generator = CustomDataGenerator(val_dir, CLASSES, batch_size, shuffle=True)\n",
    "test_generator = CustomDataGenerator(test_dir, CLASSES, batch_size, shuffle=True)\n",
    "\n",
    "num_train = len(train_generator.image_paths)\n",
    "num_val = len(validation_generator.image_paths)\n",
    "num_test = len(test_generator.image_paths)"
   ]
  },
  {
   "cell_type": "markdown",
   "id": "7d1376af",
   "metadata": {
    "papermill": {
     "duration": 0.007032,
     "end_time": "2024-12-29T07:53:41.400087",
     "exception": false,
     "start_time": "2024-12-29T07:53:41.393055",
     "status": "completed"
    },
    "tags": []
   },
   "source": [
    "## Function to count images per class"
   ]
  },
  {
   "cell_type": "code",
   "execution_count": 10,
   "id": "41855003",
   "metadata": {
    "execution": {
     "iopub.execute_input": "2024-12-29T07:53:41.417177Z",
     "iopub.status.busy": "2024-12-29T07:53:41.416450Z",
     "iopub.status.idle": "2024-12-29T07:53:41.427769Z",
     "shell.execute_reply": "2024-12-29T07:53:41.426977Z"
    },
    "papermill": {
     "duration": 0.021813,
     "end_time": "2024-12-29T07:53:41.429401",
     "exception": false,
     "start_time": "2024-12-29T07:53:41.407588",
     "status": "completed"
    },
    "tags": []
   },
   "outputs": [
    {
     "name": "stdout",
     "output_type": "stream",
     "text": [
      "Train images:\n",
      "Class Open_Eyes: 2204 images\n",
      "Class Closed_Eyes: 2029 images\n",
      "\n",
      "Validation images:\n",
      "Class Open_Eyes: 336 images\n",
      "Class Closed_Eyes: 336 images\n",
      "\n",
      "Test images:\n",
      "Class Open_Eyes: 186 images\n",
      "Class Closed_Eyes: 361 images\n"
     ]
    }
   ],
   "source": [
    "def count_images_in_classes(path):\n",
    "    classes = os.listdir(path)\n",
    "    for c in classes:\n",
    "        if c in CLASSES:\n",
    "            num_images = len(os.listdir(os.path.join(path, c)))\n",
    "            print(f\"Class {c}: {num_images} images\")\n",
    "\n",
    "# Count the number of images in each class for training, testing and validation sets\n",
    "print(\"Train images:\")\n",
    "count_images_in_classes(train_dir)\n",
    "\n",
    "print(\"\\nValidation images:\")\n",
    "count_images_in_classes(val_dir)\n",
    "\n",
    "print(\"\\nTest images:\")\n",
    "count_images_in_classes(test_dir)"
   ]
  },
  {
   "cell_type": "markdown",
   "id": "613ad168",
   "metadata": {
    "papermill": {
     "duration": 0.00711,
     "end_time": "2024-12-29T07:53:41.443968",
     "exception": false,
     "start_time": "2024-12-29T07:53:41.436858",
     "status": "completed"
    },
    "tags": []
   },
   "source": [
    "# I. Using the basic CNN model\n",
    "*The first thing when thinking about the image prediction problem is to look at the size, it can be seen that the eye image is a basic image. With a small size, light weight and not many details, I will use the basic CNN model to train*\n",
    "\n",
    "![Simple CNN architecture image](https://user-images.githubusercontent.com/34989887/206905433-34b42cbf-3ce3-4703-a575-d48f2cc95c09.png)\n",
    "\n",
    "You can see more details at [Simple-CNN-Guide](https://github.com/Bengal1/Simple-CNN-Guide)"
   ]
  },
  {
   "cell_type": "code",
   "execution_count": 11,
   "id": "6ede0dba",
   "metadata": {
    "execution": {
     "iopub.execute_input": "2024-12-29T07:53:41.459582Z",
     "iopub.status.busy": "2024-12-29T07:53:41.459274Z",
     "iopub.status.idle": "2024-12-29T07:53:42.007912Z",
     "shell.execute_reply": "2024-12-29T07:53:42.006980Z"
    },
    "papermill": {
     "duration": 0.558453,
     "end_time": "2024-12-29T07:53:42.009626",
     "exception": false,
     "start_time": "2024-12-29T07:53:41.451173",
     "status": "completed"
    },
    "tags": []
   },
   "outputs": [
    {
     "name": "stderr",
     "output_type": "stream",
     "text": [
      "/opt/conda/lib/python3.10/site-packages/keras/src/layers/convolutional/base_conv.py:107: UserWarning: Do not pass an `input_shape`/`input_dim` argument to a layer. When using Sequential models, prefer using an `Input(shape)` object as the first layer in the model instead.\n",
      "  super().__init__(activity_regularizer=activity_regularizer, **kwargs)\n"
     ]
    }
   ],
   "source": [
    "with tf.device('/device:GPU:0'):\n",
    "    model = Sequential([\n",
    "        # Block 1\n",
    "        Conv2D(32, (3, 3), activation='relu', padding='same', input_shape=(IMG_HEIGHT, IMG_WIDTH, 1)),\n",
    "        BatchNormalization(),\n",
    "        Conv2D(32, (3, 3), activation='relu', padding='same'),\n",
    "        BatchNormalization(),\n",
    "        MaxPooling2D(pool_size=(2, 2)),\n",
    "        Dropout(0.25),\n",
    "    \n",
    "        # Block 2\n",
    "        Conv2D(64, (3, 3), activation='relu', padding='same'),\n",
    "        BatchNormalization(),\n",
    "        Conv2D(64, (3, 3), activation='relu', padding='same'),\n",
    "        BatchNormalization(),\n",
    "        MaxPooling2D(pool_size=(2, 2)),\n",
    "        Dropout(0.25),\n",
    "    \n",
    "        # Block 3\n",
    "        Conv2D(128, (3, 3), activation='relu', padding='same'),\n",
    "        BatchNormalization(),\n",
    "        Conv2D(128, (3, 3), activation='relu', padding='same'),\n",
    "        BatchNormalization(),\n",
    "        MaxPooling2D(pool_size=(2, 2)),\n",
    "        Dropout(0.25),\n",
    "    \n",
    "        # Dense layers\n",
    "        Flatten(),\n",
    "        Dense(512, activation='relu'),\n",
    "        BatchNormalization(),\n",
    "        Dropout(0.5),\n",
    "        Dense(len(CLASSES), activation='softmax')\n",
    "    ])"
   ]
  },
  {
   "cell_type": "code",
   "execution_count": 12,
   "id": "def72eb5",
   "metadata": {
    "execution": {
     "iopub.execute_input": "2024-12-29T07:53:42.026430Z",
     "iopub.status.busy": "2024-12-29T07:53:42.026119Z",
     "iopub.status.idle": "2024-12-29T07:53:42.054717Z",
     "shell.execute_reply": "2024-12-29T07:53:42.053809Z"
    },
    "papermill": {
     "duration": 0.03899,
     "end_time": "2024-12-29T07:53:42.056355",
     "exception": false,
     "start_time": "2024-12-29T07:53:42.017365",
     "status": "completed"
    },
    "tags": []
   },
   "outputs": [
    {
     "data": {
      "text/html": [
       "<pre style=\"white-space:pre;overflow-x:auto;line-height:normal;font-family:Menlo,'DejaVu Sans Mono',consolas,'Courier New',monospace\"><span style=\"font-weight: bold\">Model: \"sequential\"</span>\n",
       "</pre>\n"
      ],
      "text/plain": [
       "\u001b[1mModel: \"sequential\"\u001b[0m\n"
      ]
     },
     "metadata": {},
     "output_type": "display_data"
    },
    {
     "data": {
      "text/html": [
       "<pre style=\"white-space:pre;overflow-x:auto;line-height:normal;font-family:Menlo,'DejaVu Sans Mono',consolas,'Courier New',monospace\">┏━━━━━━━━━━━━━━━━━━━━━━━━━━━━━━━━━┳━━━━━━━━━━━━━━━━━━━━━━━━┳━━━━━━━━━━━━━━━┓\n",
       "┃<span style=\"font-weight: bold\"> Layer (type)                    </span>┃<span style=\"font-weight: bold\"> Output Shape           </span>┃<span style=\"font-weight: bold\">       Param # </span>┃\n",
       "┡━━━━━━━━━━━━━━━━━━━━━━━━━━━━━━━━━╇━━━━━━━━━━━━━━━━━━━━━━━━╇━━━━━━━━━━━━━━━┩\n",
       "│ conv2d (<span style=\"color: #0087ff; text-decoration-color: #0087ff\">Conv2D</span>)                 │ (<span style=\"color: #00d7ff; text-decoration-color: #00d7ff\">None</span>, <span style=\"color: #00af00; text-decoration-color: #00af00\">128</span>, <span style=\"color: #00af00; text-decoration-color: #00af00\">128</span>, <span style=\"color: #00af00; text-decoration-color: #00af00\">32</span>)   │           <span style=\"color: #00af00; text-decoration-color: #00af00\">320</span> │\n",
       "├─────────────────────────────────┼────────────────────────┼───────────────┤\n",
       "│ batch_normalization             │ (<span style=\"color: #00d7ff; text-decoration-color: #00d7ff\">None</span>, <span style=\"color: #00af00; text-decoration-color: #00af00\">128</span>, <span style=\"color: #00af00; text-decoration-color: #00af00\">128</span>, <span style=\"color: #00af00; text-decoration-color: #00af00\">32</span>)   │           <span style=\"color: #00af00; text-decoration-color: #00af00\">128</span> │\n",
       "│ (<span style=\"color: #0087ff; text-decoration-color: #0087ff\">BatchNormalization</span>)            │                        │               │\n",
       "├─────────────────────────────────┼────────────────────────┼───────────────┤\n",
       "│ conv2d_1 (<span style=\"color: #0087ff; text-decoration-color: #0087ff\">Conv2D</span>)               │ (<span style=\"color: #00d7ff; text-decoration-color: #00d7ff\">None</span>, <span style=\"color: #00af00; text-decoration-color: #00af00\">128</span>, <span style=\"color: #00af00; text-decoration-color: #00af00\">128</span>, <span style=\"color: #00af00; text-decoration-color: #00af00\">32</span>)   │         <span style=\"color: #00af00; text-decoration-color: #00af00\">9,248</span> │\n",
       "├─────────────────────────────────┼────────────────────────┼───────────────┤\n",
       "│ batch_normalization_1           │ (<span style=\"color: #00d7ff; text-decoration-color: #00d7ff\">None</span>, <span style=\"color: #00af00; text-decoration-color: #00af00\">128</span>, <span style=\"color: #00af00; text-decoration-color: #00af00\">128</span>, <span style=\"color: #00af00; text-decoration-color: #00af00\">32</span>)   │           <span style=\"color: #00af00; text-decoration-color: #00af00\">128</span> │\n",
       "│ (<span style=\"color: #0087ff; text-decoration-color: #0087ff\">BatchNormalization</span>)            │                        │               │\n",
       "├─────────────────────────────────┼────────────────────────┼───────────────┤\n",
       "│ max_pooling2d (<span style=\"color: #0087ff; text-decoration-color: #0087ff\">MaxPooling2D</span>)    │ (<span style=\"color: #00d7ff; text-decoration-color: #00d7ff\">None</span>, <span style=\"color: #00af00; text-decoration-color: #00af00\">64</span>, <span style=\"color: #00af00; text-decoration-color: #00af00\">64</span>, <span style=\"color: #00af00; text-decoration-color: #00af00\">32</span>)     │             <span style=\"color: #00af00; text-decoration-color: #00af00\">0</span> │\n",
       "├─────────────────────────────────┼────────────────────────┼───────────────┤\n",
       "│ dropout (<span style=\"color: #0087ff; text-decoration-color: #0087ff\">Dropout</span>)               │ (<span style=\"color: #00d7ff; text-decoration-color: #00d7ff\">None</span>, <span style=\"color: #00af00; text-decoration-color: #00af00\">64</span>, <span style=\"color: #00af00; text-decoration-color: #00af00\">64</span>, <span style=\"color: #00af00; text-decoration-color: #00af00\">32</span>)     │             <span style=\"color: #00af00; text-decoration-color: #00af00\">0</span> │\n",
       "├─────────────────────────────────┼────────────────────────┼───────────────┤\n",
       "│ conv2d_2 (<span style=\"color: #0087ff; text-decoration-color: #0087ff\">Conv2D</span>)               │ (<span style=\"color: #00d7ff; text-decoration-color: #00d7ff\">None</span>, <span style=\"color: #00af00; text-decoration-color: #00af00\">64</span>, <span style=\"color: #00af00; text-decoration-color: #00af00\">64</span>, <span style=\"color: #00af00; text-decoration-color: #00af00\">64</span>)     │        <span style=\"color: #00af00; text-decoration-color: #00af00\">18,496</span> │\n",
       "├─────────────────────────────────┼────────────────────────┼───────────────┤\n",
       "│ batch_normalization_2           │ (<span style=\"color: #00d7ff; text-decoration-color: #00d7ff\">None</span>, <span style=\"color: #00af00; text-decoration-color: #00af00\">64</span>, <span style=\"color: #00af00; text-decoration-color: #00af00\">64</span>, <span style=\"color: #00af00; text-decoration-color: #00af00\">64</span>)     │           <span style=\"color: #00af00; text-decoration-color: #00af00\">256</span> │\n",
       "│ (<span style=\"color: #0087ff; text-decoration-color: #0087ff\">BatchNormalization</span>)            │                        │               │\n",
       "├─────────────────────────────────┼────────────────────────┼───────────────┤\n",
       "│ conv2d_3 (<span style=\"color: #0087ff; text-decoration-color: #0087ff\">Conv2D</span>)               │ (<span style=\"color: #00d7ff; text-decoration-color: #00d7ff\">None</span>, <span style=\"color: #00af00; text-decoration-color: #00af00\">64</span>, <span style=\"color: #00af00; text-decoration-color: #00af00\">64</span>, <span style=\"color: #00af00; text-decoration-color: #00af00\">64</span>)     │        <span style=\"color: #00af00; text-decoration-color: #00af00\">36,928</span> │\n",
       "├─────────────────────────────────┼────────────────────────┼───────────────┤\n",
       "│ batch_normalization_3           │ (<span style=\"color: #00d7ff; text-decoration-color: #00d7ff\">None</span>, <span style=\"color: #00af00; text-decoration-color: #00af00\">64</span>, <span style=\"color: #00af00; text-decoration-color: #00af00\">64</span>, <span style=\"color: #00af00; text-decoration-color: #00af00\">64</span>)     │           <span style=\"color: #00af00; text-decoration-color: #00af00\">256</span> │\n",
       "│ (<span style=\"color: #0087ff; text-decoration-color: #0087ff\">BatchNormalization</span>)            │                        │               │\n",
       "├─────────────────────────────────┼────────────────────────┼───────────────┤\n",
       "│ max_pooling2d_1 (<span style=\"color: #0087ff; text-decoration-color: #0087ff\">MaxPooling2D</span>)  │ (<span style=\"color: #00d7ff; text-decoration-color: #00d7ff\">None</span>, <span style=\"color: #00af00; text-decoration-color: #00af00\">32</span>, <span style=\"color: #00af00; text-decoration-color: #00af00\">32</span>, <span style=\"color: #00af00; text-decoration-color: #00af00\">64</span>)     │             <span style=\"color: #00af00; text-decoration-color: #00af00\">0</span> │\n",
       "├─────────────────────────────────┼────────────────────────┼───────────────┤\n",
       "│ dropout_1 (<span style=\"color: #0087ff; text-decoration-color: #0087ff\">Dropout</span>)             │ (<span style=\"color: #00d7ff; text-decoration-color: #00d7ff\">None</span>, <span style=\"color: #00af00; text-decoration-color: #00af00\">32</span>, <span style=\"color: #00af00; text-decoration-color: #00af00\">32</span>, <span style=\"color: #00af00; text-decoration-color: #00af00\">64</span>)     │             <span style=\"color: #00af00; text-decoration-color: #00af00\">0</span> │\n",
       "├─────────────────────────────────┼────────────────────────┼───────────────┤\n",
       "│ conv2d_4 (<span style=\"color: #0087ff; text-decoration-color: #0087ff\">Conv2D</span>)               │ (<span style=\"color: #00d7ff; text-decoration-color: #00d7ff\">None</span>, <span style=\"color: #00af00; text-decoration-color: #00af00\">32</span>, <span style=\"color: #00af00; text-decoration-color: #00af00\">32</span>, <span style=\"color: #00af00; text-decoration-color: #00af00\">128</span>)    │        <span style=\"color: #00af00; text-decoration-color: #00af00\">73,856</span> │\n",
       "├─────────────────────────────────┼────────────────────────┼───────────────┤\n",
       "│ batch_normalization_4           │ (<span style=\"color: #00d7ff; text-decoration-color: #00d7ff\">None</span>, <span style=\"color: #00af00; text-decoration-color: #00af00\">32</span>, <span style=\"color: #00af00; text-decoration-color: #00af00\">32</span>, <span style=\"color: #00af00; text-decoration-color: #00af00\">128</span>)    │           <span style=\"color: #00af00; text-decoration-color: #00af00\">512</span> │\n",
       "│ (<span style=\"color: #0087ff; text-decoration-color: #0087ff\">BatchNormalization</span>)            │                        │               │\n",
       "├─────────────────────────────────┼────────────────────────┼───────────────┤\n",
       "│ conv2d_5 (<span style=\"color: #0087ff; text-decoration-color: #0087ff\">Conv2D</span>)               │ (<span style=\"color: #00d7ff; text-decoration-color: #00d7ff\">None</span>, <span style=\"color: #00af00; text-decoration-color: #00af00\">32</span>, <span style=\"color: #00af00; text-decoration-color: #00af00\">32</span>, <span style=\"color: #00af00; text-decoration-color: #00af00\">128</span>)    │       <span style=\"color: #00af00; text-decoration-color: #00af00\">147,584</span> │\n",
       "├─────────────────────────────────┼────────────────────────┼───────────────┤\n",
       "│ batch_normalization_5           │ (<span style=\"color: #00d7ff; text-decoration-color: #00d7ff\">None</span>, <span style=\"color: #00af00; text-decoration-color: #00af00\">32</span>, <span style=\"color: #00af00; text-decoration-color: #00af00\">32</span>, <span style=\"color: #00af00; text-decoration-color: #00af00\">128</span>)    │           <span style=\"color: #00af00; text-decoration-color: #00af00\">512</span> │\n",
       "│ (<span style=\"color: #0087ff; text-decoration-color: #0087ff\">BatchNormalization</span>)            │                        │               │\n",
       "├─────────────────────────────────┼────────────────────────┼───────────────┤\n",
       "│ max_pooling2d_2 (<span style=\"color: #0087ff; text-decoration-color: #0087ff\">MaxPooling2D</span>)  │ (<span style=\"color: #00d7ff; text-decoration-color: #00d7ff\">None</span>, <span style=\"color: #00af00; text-decoration-color: #00af00\">16</span>, <span style=\"color: #00af00; text-decoration-color: #00af00\">16</span>, <span style=\"color: #00af00; text-decoration-color: #00af00\">128</span>)    │             <span style=\"color: #00af00; text-decoration-color: #00af00\">0</span> │\n",
       "├─────────────────────────────────┼────────────────────────┼───────────────┤\n",
       "│ dropout_2 (<span style=\"color: #0087ff; text-decoration-color: #0087ff\">Dropout</span>)             │ (<span style=\"color: #00d7ff; text-decoration-color: #00d7ff\">None</span>, <span style=\"color: #00af00; text-decoration-color: #00af00\">16</span>, <span style=\"color: #00af00; text-decoration-color: #00af00\">16</span>, <span style=\"color: #00af00; text-decoration-color: #00af00\">128</span>)    │             <span style=\"color: #00af00; text-decoration-color: #00af00\">0</span> │\n",
       "├─────────────────────────────────┼────────────────────────┼───────────────┤\n",
       "│ flatten (<span style=\"color: #0087ff; text-decoration-color: #0087ff\">Flatten</span>)               │ (<span style=\"color: #00d7ff; text-decoration-color: #00d7ff\">None</span>, <span style=\"color: #00af00; text-decoration-color: #00af00\">32768</span>)          │             <span style=\"color: #00af00; text-decoration-color: #00af00\">0</span> │\n",
       "├─────────────────────────────────┼────────────────────────┼───────────────┤\n",
       "│ dense (<span style=\"color: #0087ff; text-decoration-color: #0087ff\">Dense</span>)                   │ (<span style=\"color: #00d7ff; text-decoration-color: #00d7ff\">None</span>, <span style=\"color: #00af00; text-decoration-color: #00af00\">512</span>)            │    <span style=\"color: #00af00; text-decoration-color: #00af00\">16,777,728</span> │\n",
       "├─────────────────────────────────┼────────────────────────┼───────────────┤\n",
       "│ batch_normalization_6           │ (<span style=\"color: #00d7ff; text-decoration-color: #00d7ff\">None</span>, <span style=\"color: #00af00; text-decoration-color: #00af00\">512</span>)            │         <span style=\"color: #00af00; text-decoration-color: #00af00\">2,048</span> │\n",
       "│ (<span style=\"color: #0087ff; text-decoration-color: #0087ff\">BatchNormalization</span>)            │                        │               │\n",
       "├─────────────────────────────────┼────────────────────────┼───────────────┤\n",
       "│ dropout_3 (<span style=\"color: #0087ff; text-decoration-color: #0087ff\">Dropout</span>)             │ (<span style=\"color: #00d7ff; text-decoration-color: #00d7ff\">None</span>, <span style=\"color: #00af00; text-decoration-color: #00af00\">512</span>)            │             <span style=\"color: #00af00; text-decoration-color: #00af00\">0</span> │\n",
       "├─────────────────────────────────┼────────────────────────┼───────────────┤\n",
       "│ dense_1 (<span style=\"color: #0087ff; text-decoration-color: #0087ff\">Dense</span>)                 │ (<span style=\"color: #00d7ff; text-decoration-color: #00d7ff\">None</span>, <span style=\"color: #00af00; text-decoration-color: #00af00\">2</span>)              │         <span style=\"color: #00af00; text-decoration-color: #00af00\">1,026</span> │\n",
       "└─────────────────────────────────┴────────────────────────┴───────────────┘\n",
       "</pre>\n"
      ],
      "text/plain": [
       "┏━━━━━━━━━━━━━━━━━━━━━━━━━━━━━━━━━┳━━━━━━━━━━━━━━━━━━━━━━━━┳━━━━━━━━━━━━━━━┓\n",
       "┃\u001b[1m \u001b[0m\u001b[1mLayer (type)                   \u001b[0m\u001b[1m \u001b[0m┃\u001b[1m \u001b[0m\u001b[1mOutput Shape          \u001b[0m\u001b[1m \u001b[0m┃\u001b[1m \u001b[0m\u001b[1m      Param #\u001b[0m\u001b[1m \u001b[0m┃\n",
       "┡━━━━━━━━━━━━━━━━━━━━━━━━━━━━━━━━━╇━━━━━━━━━━━━━━━━━━━━━━━━╇━━━━━━━━━━━━━━━┩\n",
       "│ conv2d (\u001b[38;5;33mConv2D\u001b[0m)                 │ (\u001b[38;5;45mNone\u001b[0m, \u001b[38;5;34m128\u001b[0m, \u001b[38;5;34m128\u001b[0m, \u001b[38;5;34m32\u001b[0m)   │           \u001b[38;5;34m320\u001b[0m │\n",
       "├─────────────────────────────────┼────────────────────────┼───────────────┤\n",
       "│ batch_normalization             │ (\u001b[38;5;45mNone\u001b[0m, \u001b[38;5;34m128\u001b[0m, \u001b[38;5;34m128\u001b[0m, \u001b[38;5;34m32\u001b[0m)   │           \u001b[38;5;34m128\u001b[0m │\n",
       "│ (\u001b[38;5;33mBatchNormalization\u001b[0m)            │                        │               │\n",
       "├─────────────────────────────────┼────────────────────────┼───────────────┤\n",
       "│ conv2d_1 (\u001b[38;5;33mConv2D\u001b[0m)               │ (\u001b[38;5;45mNone\u001b[0m, \u001b[38;5;34m128\u001b[0m, \u001b[38;5;34m128\u001b[0m, \u001b[38;5;34m32\u001b[0m)   │         \u001b[38;5;34m9,248\u001b[0m │\n",
       "├─────────────────────────────────┼────────────────────────┼───────────────┤\n",
       "│ batch_normalization_1           │ (\u001b[38;5;45mNone\u001b[0m, \u001b[38;5;34m128\u001b[0m, \u001b[38;5;34m128\u001b[0m, \u001b[38;5;34m32\u001b[0m)   │           \u001b[38;5;34m128\u001b[0m │\n",
       "│ (\u001b[38;5;33mBatchNormalization\u001b[0m)            │                        │               │\n",
       "├─────────────────────────────────┼────────────────────────┼───────────────┤\n",
       "│ max_pooling2d (\u001b[38;5;33mMaxPooling2D\u001b[0m)    │ (\u001b[38;5;45mNone\u001b[0m, \u001b[38;5;34m64\u001b[0m, \u001b[38;5;34m64\u001b[0m, \u001b[38;5;34m32\u001b[0m)     │             \u001b[38;5;34m0\u001b[0m │\n",
       "├─────────────────────────────────┼────────────────────────┼───────────────┤\n",
       "│ dropout (\u001b[38;5;33mDropout\u001b[0m)               │ (\u001b[38;5;45mNone\u001b[0m, \u001b[38;5;34m64\u001b[0m, \u001b[38;5;34m64\u001b[0m, \u001b[38;5;34m32\u001b[0m)     │             \u001b[38;5;34m0\u001b[0m │\n",
       "├─────────────────────────────────┼────────────────────────┼───────────────┤\n",
       "│ conv2d_2 (\u001b[38;5;33mConv2D\u001b[0m)               │ (\u001b[38;5;45mNone\u001b[0m, \u001b[38;5;34m64\u001b[0m, \u001b[38;5;34m64\u001b[0m, \u001b[38;5;34m64\u001b[0m)     │        \u001b[38;5;34m18,496\u001b[0m │\n",
       "├─────────────────────────────────┼────────────────────────┼───────────────┤\n",
       "│ batch_normalization_2           │ (\u001b[38;5;45mNone\u001b[0m, \u001b[38;5;34m64\u001b[0m, \u001b[38;5;34m64\u001b[0m, \u001b[38;5;34m64\u001b[0m)     │           \u001b[38;5;34m256\u001b[0m │\n",
       "│ (\u001b[38;5;33mBatchNormalization\u001b[0m)            │                        │               │\n",
       "├─────────────────────────────────┼────────────────────────┼───────────────┤\n",
       "│ conv2d_3 (\u001b[38;5;33mConv2D\u001b[0m)               │ (\u001b[38;5;45mNone\u001b[0m, \u001b[38;5;34m64\u001b[0m, \u001b[38;5;34m64\u001b[0m, \u001b[38;5;34m64\u001b[0m)     │        \u001b[38;5;34m36,928\u001b[0m │\n",
       "├─────────────────────────────────┼────────────────────────┼───────────────┤\n",
       "│ batch_normalization_3           │ (\u001b[38;5;45mNone\u001b[0m, \u001b[38;5;34m64\u001b[0m, \u001b[38;5;34m64\u001b[0m, \u001b[38;5;34m64\u001b[0m)     │           \u001b[38;5;34m256\u001b[0m │\n",
       "│ (\u001b[38;5;33mBatchNormalization\u001b[0m)            │                        │               │\n",
       "├─────────────────────────────────┼────────────────────────┼───────────────┤\n",
       "│ max_pooling2d_1 (\u001b[38;5;33mMaxPooling2D\u001b[0m)  │ (\u001b[38;5;45mNone\u001b[0m, \u001b[38;5;34m32\u001b[0m, \u001b[38;5;34m32\u001b[0m, \u001b[38;5;34m64\u001b[0m)     │             \u001b[38;5;34m0\u001b[0m │\n",
       "├─────────────────────────────────┼────────────────────────┼───────────────┤\n",
       "│ dropout_1 (\u001b[38;5;33mDropout\u001b[0m)             │ (\u001b[38;5;45mNone\u001b[0m, \u001b[38;5;34m32\u001b[0m, \u001b[38;5;34m32\u001b[0m, \u001b[38;5;34m64\u001b[0m)     │             \u001b[38;5;34m0\u001b[0m │\n",
       "├─────────────────────────────────┼────────────────────────┼───────────────┤\n",
       "│ conv2d_4 (\u001b[38;5;33mConv2D\u001b[0m)               │ (\u001b[38;5;45mNone\u001b[0m, \u001b[38;5;34m32\u001b[0m, \u001b[38;5;34m32\u001b[0m, \u001b[38;5;34m128\u001b[0m)    │        \u001b[38;5;34m73,856\u001b[0m │\n",
       "├─────────────────────────────────┼────────────────────────┼───────────────┤\n",
       "│ batch_normalization_4           │ (\u001b[38;5;45mNone\u001b[0m, \u001b[38;5;34m32\u001b[0m, \u001b[38;5;34m32\u001b[0m, \u001b[38;5;34m128\u001b[0m)    │           \u001b[38;5;34m512\u001b[0m │\n",
       "│ (\u001b[38;5;33mBatchNormalization\u001b[0m)            │                        │               │\n",
       "├─────────────────────────────────┼────────────────────────┼───────────────┤\n",
       "│ conv2d_5 (\u001b[38;5;33mConv2D\u001b[0m)               │ (\u001b[38;5;45mNone\u001b[0m, \u001b[38;5;34m32\u001b[0m, \u001b[38;5;34m32\u001b[0m, \u001b[38;5;34m128\u001b[0m)    │       \u001b[38;5;34m147,584\u001b[0m │\n",
       "├─────────────────────────────────┼────────────────────────┼───────────────┤\n",
       "│ batch_normalization_5           │ (\u001b[38;5;45mNone\u001b[0m, \u001b[38;5;34m32\u001b[0m, \u001b[38;5;34m32\u001b[0m, \u001b[38;5;34m128\u001b[0m)    │           \u001b[38;5;34m512\u001b[0m │\n",
       "│ (\u001b[38;5;33mBatchNormalization\u001b[0m)            │                        │               │\n",
       "├─────────────────────────────────┼────────────────────────┼───────────────┤\n",
       "│ max_pooling2d_2 (\u001b[38;5;33mMaxPooling2D\u001b[0m)  │ (\u001b[38;5;45mNone\u001b[0m, \u001b[38;5;34m16\u001b[0m, \u001b[38;5;34m16\u001b[0m, \u001b[38;5;34m128\u001b[0m)    │             \u001b[38;5;34m0\u001b[0m │\n",
       "├─────────────────────────────────┼────────────────────────┼───────────────┤\n",
       "│ dropout_2 (\u001b[38;5;33mDropout\u001b[0m)             │ (\u001b[38;5;45mNone\u001b[0m, \u001b[38;5;34m16\u001b[0m, \u001b[38;5;34m16\u001b[0m, \u001b[38;5;34m128\u001b[0m)    │             \u001b[38;5;34m0\u001b[0m │\n",
       "├─────────────────────────────────┼────────────────────────┼───────────────┤\n",
       "│ flatten (\u001b[38;5;33mFlatten\u001b[0m)               │ (\u001b[38;5;45mNone\u001b[0m, \u001b[38;5;34m32768\u001b[0m)          │             \u001b[38;5;34m0\u001b[0m │\n",
       "├─────────────────────────────────┼────────────────────────┼───────────────┤\n",
       "│ dense (\u001b[38;5;33mDense\u001b[0m)                   │ (\u001b[38;5;45mNone\u001b[0m, \u001b[38;5;34m512\u001b[0m)            │    \u001b[38;5;34m16,777,728\u001b[0m │\n",
       "├─────────────────────────────────┼────────────────────────┼───────────────┤\n",
       "│ batch_normalization_6           │ (\u001b[38;5;45mNone\u001b[0m, \u001b[38;5;34m512\u001b[0m)            │         \u001b[38;5;34m2,048\u001b[0m │\n",
       "│ (\u001b[38;5;33mBatchNormalization\u001b[0m)            │                        │               │\n",
       "├─────────────────────────────────┼────────────────────────┼───────────────┤\n",
       "│ dropout_3 (\u001b[38;5;33mDropout\u001b[0m)             │ (\u001b[38;5;45mNone\u001b[0m, \u001b[38;5;34m512\u001b[0m)            │             \u001b[38;5;34m0\u001b[0m │\n",
       "├─────────────────────────────────┼────────────────────────┼───────────────┤\n",
       "│ dense_1 (\u001b[38;5;33mDense\u001b[0m)                 │ (\u001b[38;5;45mNone\u001b[0m, \u001b[38;5;34m2\u001b[0m)              │         \u001b[38;5;34m1,026\u001b[0m │\n",
       "└─────────────────────────────────┴────────────────────────┴───────────────┘\n"
      ]
     },
     "metadata": {},
     "output_type": "display_data"
    },
    {
     "data": {
      "text/html": [
       "<pre style=\"white-space:pre;overflow-x:auto;line-height:normal;font-family:Menlo,'DejaVu Sans Mono',consolas,'Courier New',monospace\"><span style=\"font-weight: bold\"> Total params: </span><span style=\"color: #00af00; text-decoration-color: #00af00\">17,069,026</span> (65.11 MB)\n",
       "</pre>\n"
      ],
      "text/plain": [
       "\u001b[1m Total params: \u001b[0m\u001b[38;5;34m17,069,026\u001b[0m (65.11 MB)\n"
      ]
     },
     "metadata": {},
     "output_type": "display_data"
    },
    {
     "data": {
      "text/html": [
       "<pre style=\"white-space:pre;overflow-x:auto;line-height:normal;font-family:Menlo,'DejaVu Sans Mono',consolas,'Courier New',monospace\"><span style=\"font-weight: bold\"> Trainable params: </span><span style=\"color: #00af00; text-decoration-color: #00af00\">17,067,106</span> (65.11 MB)\n",
       "</pre>\n"
      ],
      "text/plain": [
       "\u001b[1m Trainable params: \u001b[0m\u001b[38;5;34m17,067,106\u001b[0m (65.11 MB)\n"
      ]
     },
     "metadata": {},
     "output_type": "display_data"
    },
    {
     "data": {
      "text/html": [
       "<pre style=\"white-space:pre;overflow-x:auto;line-height:normal;font-family:Menlo,'DejaVu Sans Mono',consolas,'Courier New',monospace\"><span style=\"font-weight: bold\"> Non-trainable params: </span><span style=\"color: #00af00; text-decoration-color: #00af00\">1,920</span> (7.50 KB)\n",
       "</pre>\n"
      ],
      "text/plain": [
       "\u001b[1m Non-trainable params: \u001b[0m\u001b[38;5;34m1,920\u001b[0m (7.50 KB)\n"
      ]
     },
     "metadata": {},
     "output_type": "display_data"
    }
   ],
   "source": [
    "model.summary()"
   ]
  },
  {
   "cell_type": "markdown",
   "id": "f5f5d47e",
   "metadata": {
    "papermill": {
     "duration": 0.008083,
     "end_time": "2024-12-29T07:53:42.072715",
     "exception": false,
     "start_time": "2024-12-29T07:53:42.064632",
     "status": "completed"
    },
    "tags": []
   },
   "source": [
    "## 2. Learning rate schedule"
   ]
  },
  {
   "cell_type": "code",
   "execution_count": 13,
   "id": "5baa71c7",
   "metadata": {
    "execution": {
     "iopub.execute_input": "2024-12-29T07:53:42.090271Z",
     "iopub.status.busy": "2024-12-29T07:53:42.089917Z",
     "iopub.status.idle": "2024-12-29T07:53:42.093907Z",
     "shell.execute_reply": "2024-12-29T07:53:42.093244Z"
    },
    "papermill": {
     "duration": 0.0146,
     "end_time": "2024-12-29T07:53:42.095502",
     "exception": false,
     "start_time": "2024-12-29T07:53:42.080902",
     "status": "completed"
    },
    "tags": []
   },
   "outputs": [],
   "source": [
    "lr_schedule = tf.keras.optimizers.schedules.ExponentialDecay(\n",
    "    initial_learning_rate=0.0001,\n",
    "    decay_steps=10000,\n",
    "    decay_rate=0.96,\n",
    "    staircase=True)"
   ]
  },
  {
   "cell_type": "code",
   "execution_count": 14,
   "id": "6fe820b8",
   "metadata": {
    "execution": {
     "iopub.execute_input": "2024-12-29T07:53:42.113527Z",
     "iopub.status.busy": "2024-12-29T07:53:42.112839Z",
     "iopub.status.idle": "2024-12-29T07:53:42.117029Z",
     "shell.execute_reply": "2024-12-29T07:53:42.116259Z"
    },
    "papermill": {
     "duration": 0.01505,
     "end_time": "2024-12-29T07:53:42.118667",
     "exception": false,
     "start_time": "2024-12-29T07:53:42.103617",
     "status": "completed"
    },
    "tags": []
   },
   "outputs": [],
   "source": [
    "# Callbacks\n",
    "checkpoint = ModelCheckpoint(\n",
    "    'simple_CNN_eye_modelV6_3.keras',  # Changed to .keras\n",
    "    monitor='val_accuracy',\n",
    "    save_best_only=True,\n",
    "    mode='max',\n",
    "    verbose=1\n",
    ")\n",
    "\n",
    "early_stopping = EarlyStopping(\n",
    "    monitor='val_accuracy',\n",
    "    patience=40,\n",
    "    restore_best_weights=True\n",
    ")"
   ]
  },
  {
   "cell_type": "code",
   "execution_count": 15,
   "id": "3ff8a732",
   "metadata": {
    "execution": {
     "iopub.execute_input": "2024-12-29T07:53:42.136658Z",
     "iopub.status.busy": "2024-12-29T07:53:42.136034Z",
     "iopub.status.idle": "2024-12-29T07:53:42.147485Z",
     "shell.execute_reply": "2024-12-29T07:53:42.146850Z"
    },
    "papermill": {
     "duration": 0.0221,
     "end_time": "2024-12-29T07:53:42.149082",
     "exception": false,
     "start_time": "2024-12-29T07:53:42.126982",
     "status": "completed"
    },
    "tags": []
   },
   "outputs": [],
   "source": [
    "# Compile Model\n",
    "with tf.device('/device:GPU:0'):\n",
    "    model.compile(optimizer=tf.keras.optimizers.Adam(learning_rate=lr_schedule),\n",
    "                  loss='categorical_crossentropy',  # Changed to categorical_crossentropy\n",
    "                  metrics=['accuracy'])"
   ]
  },
  {
   "cell_type": "markdown",
   "id": "8a6abed1",
   "metadata": {
    "papermill": {
     "duration": 0.008173,
     "end_time": "2024-12-29T07:53:42.165535",
     "exception": false,
     "start_time": "2024-12-29T07:53:42.157362",
     "status": "completed"
    },
    "tags": []
   },
   "source": [
    "## 3. Training a simple CNN model"
   ]
  },
  {
   "cell_type": "code",
   "execution_count": 16,
   "id": "3801e24a",
   "metadata": {
    "execution": {
     "iopub.execute_input": "2024-12-29T07:53:42.183193Z",
     "iopub.status.busy": "2024-12-29T07:53:42.182886Z",
     "iopub.status.idle": "2024-12-29T08:02:08.016611Z",
     "shell.execute_reply": "2024-12-29T08:02:08.015840Z"
    },
    "papermill": {
     "duration": 505.844822,
     "end_time": "2024-12-29T08:02:08.018547",
     "exception": false,
     "start_time": "2024-12-29T07:53:42.173725",
     "status": "completed"
    },
    "tags": []
   },
   "outputs": [
    {
     "name": "stdout",
     "output_type": "stream",
     "text": [
      "Epoch 1/100\n"
     ]
    },
    {
     "name": "stderr",
     "output_type": "stream",
     "text": [
      "/opt/conda/lib/python3.10/site-packages/keras/src/trainers/data_adapters/py_dataset_adapter.py:121: UserWarning: Your `PyDataset` class should call `super().__init__(**kwargs)` in its constructor. `**kwargs` can include `workers`, `use_multiprocessing`, `max_queue_size`. Do not pass these arguments to `fit()`, as they will be ignored.\n",
      "  self._warn_if_super_not_called()\n",
      "WARNING: All log messages before absl::InitializeLog() is called are written to STDERR\n",
      "I0000 00:00:1735458827.351822      67 service.cc:145] XLA service 0x7b8858009b30 initialized for platform CUDA (this does not guarantee that XLA will be used). Devices:\n",
      "I0000 00:00:1735458827.351881      67 service.cc:153]   StreamExecutor device (0): Tesla P100-PCIE-16GB, Compute Capability 6.0\n"
     ]
    },
    {
     "name": "stdout",
     "output_type": "stream",
     "text": [
      "\u001b[1m  3/265\u001b[0m \u001b[37m━━━━━━━━━━━━━━━━━━━━\u001b[0m \u001b[1m14s\u001b[0m 55ms/step - accuracy: 0.5486 - loss: 1.1313   "
     ]
    },
    {
     "name": "stderr",
     "output_type": "stream",
     "text": [
      "I0000 00:00:1735458837.495373      67 device_compiler.h:188] Compiled cluster using XLA!  This line is logged at most once for the lifetime of the process.\n"
     ]
    },
    {
     "name": "stdout",
     "output_type": "stream",
     "text": [
      "\u001b[1m262/265\u001b[0m \u001b[32m━━━━━━━━━━━━━━━━━━━\u001b[0m\u001b[37m━\u001b[0m \u001b[1m0s\u001b[0m 108ms/step - accuracy: 0.8761 - loss: 0.3650\n",
      "Epoch 1: val_accuracy improved from -inf to 0.50000, saving model to simple_CNN_eye_modelV6_3.keras\n",
      "\u001b[1m265/265\u001b[0m \u001b[32m━━━━━━━━━━━━━━━━━━━━\u001b[0m\u001b[37m\u001b[0m \u001b[1m49s\u001b[0m 128ms/step - accuracy: 0.8767 - loss: 0.3633 - val_accuracy: 0.5000 - val_loss: 5.8073\n",
      "Epoch 2/100\n",
      "\u001b[1m263/265\u001b[0m \u001b[32m━━━━━━━━━━━━━━━━━━━\u001b[0m\u001b[37m━\u001b[0m \u001b[1m0s\u001b[0m 32ms/step - accuracy: 0.9421 - loss: 0.1654\n",
      "Epoch 2: val_accuracy improved from 0.50000 to 0.53125, saving model to simple_CNN_eye_modelV6_3.keras\n",
      "\u001b[1m265/265\u001b[0m \u001b[32m━━━━━━━━━━━━━━━━━━━━\u001b[0m\u001b[37m\u001b[0m \u001b[1m11s\u001b[0m 39ms/step - accuracy: 0.9423 - loss: 0.1651 - val_accuracy: 0.5312 - val_loss: 1.8790\n",
      "Epoch 3/100\n",
      "\u001b[1m264/265\u001b[0m \u001b[32m━━━━━━━━━━━━━━━━━━━\u001b[0m\u001b[37m━\u001b[0m \u001b[1m0s\u001b[0m 30ms/step - accuracy: 0.9678 - loss: 0.0994\n",
      "Epoch 3: val_accuracy improved from 0.53125 to 0.90774, saving model to simple_CNN_eye_modelV6_3.keras\n",
      "\u001b[1m265/265\u001b[0m \u001b[32m━━━━━━━━━━━━━━━━━━━━\u001b[0m\u001b[37m\u001b[0m \u001b[1m10s\u001b[0m 38ms/step - accuracy: 0.9678 - loss: 0.0995 - val_accuracy: 0.9077 - val_loss: 0.2458\n",
      "Epoch 4/100\n",
      "\u001b[1m264/265\u001b[0m \u001b[32m━━━━━━━━━━━━━━━━━━━\u001b[0m\u001b[37m━\u001b[0m \u001b[1m0s\u001b[0m 29ms/step - accuracy: 0.9687 - loss: 0.0987\n",
      "Epoch 4: val_accuracy did not improve from 0.90774\n",
      "\u001b[1m265/265\u001b[0m \u001b[32m━━━━━━━━━━━━━━━━━━━━\u001b[0m\u001b[37m\u001b[0m \u001b[1m9s\u001b[0m 33ms/step - accuracy: 0.9687 - loss: 0.0985 - val_accuracy: 0.8229 - val_loss: 0.4027\n",
      "Epoch 5/100\n",
      "\u001b[1m263/265\u001b[0m \u001b[32m━━━━━━━━━━━━━━━━━━━\u001b[0m\u001b[37m━\u001b[0m \u001b[1m0s\u001b[0m 32ms/step - accuracy: 0.9788 - loss: 0.0620\n",
      "Epoch 5: val_accuracy did not improve from 0.90774\n",
      "\u001b[1m265/265\u001b[0m \u001b[32m━━━━━━━━━━━━━━━━━━━━\u001b[0m\u001b[37m\u001b[0m \u001b[1m10s\u001b[0m 35ms/step - accuracy: 0.9788 - loss: 0.0620 - val_accuracy: 0.8661 - val_loss: 0.5427\n",
      "Epoch 6/100\n",
      "\u001b[1m265/265\u001b[0m \u001b[32m━━━━━━━━━━━━━━━━━━━━\u001b[0m\u001b[37m\u001b[0m \u001b[1m0s\u001b[0m 27ms/step - accuracy: 0.9813 - loss: 0.0485\n",
      "Epoch 6: val_accuracy improved from 0.90774 to 0.96131, saving model to simple_CNN_eye_modelV6_3.keras\n",
      "\u001b[1m265/265\u001b[0m \u001b[32m━━━━━━━━━━━━━━━━━━━━\u001b[0m\u001b[37m\u001b[0m \u001b[1m9s\u001b[0m 35ms/step - accuracy: 0.9814 - loss: 0.0485 - val_accuracy: 0.9613 - val_loss: 0.1476\n",
      "Epoch 7/100\n",
      "\u001b[1m262/265\u001b[0m \u001b[32m━━━━━━━━━━━━━━━━━━━\u001b[0m\u001b[37m━\u001b[0m \u001b[1m0s\u001b[0m 28ms/step - accuracy: 0.9862 - loss: 0.0419\n",
      "Epoch 7: val_accuracy improved from 0.96131 to 0.97917, saving model to simple_CNN_eye_modelV6_3.keras\n",
      "\u001b[1m265/265\u001b[0m \u001b[32m━━━━━━━━━━━━━━━━━━━━\u001b[0m\u001b[37m\u001b[0m \u001b[1m9s\u001b[0m 35ms/step - accuracy: 0.9862 - loss: 0.0418 - val_accuracy: 0.9792 - val_loss: 0.1384\n",
      "Epoch 8/100\n",
      "\u001b[1m262/265\u001b[0m \u001b[32m━━━━━━━━━━━━━━━━━━━\u001b[0m\u001b[37m━\u001b[0m \u001b[1m0s\u001b[0m 30ms/step - accuracy: 0.9895 - loss: 0.0362\n",
      "Epoch 8: val_accuracy improved from 0.97917 to 0.98958, saving model to simple_CNN_eye_modelV6_3.keras\n",
      "\u001b[1m265/265\u001b[0m \u001b[32m━━━━━━━━━━━━━━━━━━━━\u001b[0m\u001b[37m\u001b[0m \u001b[1m10s\u001b[0m 37ms/step - accuracy: 0.9895 - loss: 0.0362 - val_accuracy: 0.9896 - val_loss: 0.0412\n",
      "Epoch 9/100\n",
      "\u001b[1m262/265\u001b[0m \u001b[32m━━━━━━━━━━━━━━━━━━━\u001b[0m\u001b[37m━\u001b[0m \u001b[1m0s\u001b[0m 29ms/step - accuracy: 0.9887 - loss: 0.0342\n",
      "Epoch 9: val_accuracy did not improve from 0.98958\n",
      "\u001b[1m265/265\u001b[0m \u001b[32m━━━━━━━━━━━━━━━━━━━━\u001b[0m\u001b[37m\u001b[0m \u001b[1m9s\u001b[0m 34ms/step - accuracy: 0.9886 - loss: 0.0344 - val_accuracy: 0.9643 - val_loss: 0.0690\n",
      "Epoch 10/100\n",
      "\u001b[1m262/265\u001b[0m \u001b[32m━━━━━━━━━━━━━━━━━━━\u001b[0m\u001b[37m━\u001b[0m \u001b[1m0s\u001b[0m 29ms/step - accuracy: 0.9937 - loss: 0.0195\n",
      "Epoch 10: val_accuracy did not improve from 0.98958\n",
      "\u001b[1m265/265\u001b[0m \u001b[32m━━━━━━━━━━━━━━━━━━━━\u001b[0m\u001b[37m\u001b[0m \u001b[1m9s\u001b[0m 32ms/step - accuracy: 0.9937 - loss: 0.0195 - val_accuracy: 0.8676 - val_loss: 0.3104\n",
      "Epoch 11/100\n",
      "\u001b[1m264/265\u001b[0m \u001b[32m━━━━━━━━━━━━━━━━━━━\u001b[0m\u001b[37m━\u001b[0m \u001b[1m0s\u001b[0m 28ms/step - accuracy: 0.9907 - loss: 0.0281\n",
      "Epoch 11: val_accuracy improved from 0.98958 to 0.99256, saving model to simple_CNN_eye_modelV6_3.keras\n",
      "\u001b[1m265/265\u001b[0m \u001b[32m━━━━━━━━━━━━━━━━━━━━\u001b[0m\u001b[37m\u001b[0m \u001b[1m10s\u001b[0m 36ms/step - accuracy: 0.9908 - loss: 0.0281 - val_accuracy: 0.9926 - val_loss: 0.0271\n",
      "Epoch 12/100\n",
      "\u001b[1m262/265\u001b[0m \u001b[32m━━━━━━━━━━━━━━━━━━━\u001b[0m\u001b[37m━\u001b[0m \u001b[1m0s\u001b[0m 28ms/step - accuracy: 0.9949 - loss: 0.0217\n",
      "Epoch 12: val_accuracy improved from 0.99256 to 0.99405, saving model to simple_CNN_eye_modelV6_3.keras\n",
      "\u001b[1m265/265\u001b[0m \u001b[32m━━━━━━━━━━━━━━━━━━━━\u001b[0m\u001b[37m\u001b[0m \u001b[1m9s\u001b[0m 35ms/step - accuracy: 0.9948 - loss: 0.0216 - val_accuracy: 0.9940 - val_loss: 0.0483\n",
      "Epoch 13/100\n",
      "\u001b[1m262/265\u001b[0m \u001b[32m━━━━━━━━━━━━━━━━━━━\u001b[0m\u001b[37m━\u001b[0m \u001b[1m0s\u001b[0m 25ms/step - accuracy: 0.9942 - loss: 0.0201\n",
      "Epoch 13: val_accuracy did not improve from 0.99405\n",
      "\u001b[1m265/265\u001b[0m \u001b[32m━━━━━━━━━━━━━━━━━━━━\u001b[0m\u001b[37m\u001b[0m \u001b[1m7s\u001b[0m 27ms/step - accuracy: 0.9942 - loss: 0.0201 - val_accuracy: 0.9851 - val_loss: 0.0637\n",
      "Epoch 14/100\n",
      "\u001b[1m263/265\u001b[0m \u001b[32m━━━━━━━━━━━━━━━━━━━\u001b[0m\u001b[37m━\u001b[0m \u001b[1m0s\u001b[0m 25ms/step - accuracy: 0.9927 - loss: 0.0279\n",
      "Epoch 14: val_accuracy did not improve from 0.99405\n",
      "\u001b[1m265/265\u001b[0m \u001b[32m━━━━━━━━━━━━━━━━━━━━\u001b[0m\u001b[37m\u001b[0m \u001b[1m8s\u001b[0m 27ms/step - accuracy: 0.9927 - loss: 0.0279 - val_accuracy: 0.9494 - val_loss: 0.1183\n",
      "Epoch 15/100\n",
      "\u001b[1m264/265\u001b[0m \u001b[32m━━━━━━━━━━━━━━━━━━━\u001b[0m\u001b[37m━\u001b[0m \u001b[1m0s\u001b[0m 26ms/step - accuracy: 0.9922 - loss: 0.0251\n",
      "Epoch 15: val_accuracy did not improve from 0.99405\n",
      "\u001b[1m265/265\u001b[0m \u001b[32m━━━━━━━━━━━━━━━━━━━━\u001b[0m\u001b[37m\u001b[0m \u001b[1m8s\u001b[0m 29ms/step - accuracy: 0.9922 - loss: 0.0251 - val_accuracy: 0.9821 - val_loss: 0.0507\n",
      "Epoch 16/100\n",
      "\u001b[1m264/265\u001b[0m \u001b[32m━━━━━━━━━━━━━━━━━━━\u001b[0m\u001b[37m━\u001b[0m \u001b[1m0s\u001b[0m 26ms/step - accuracy: 0.9952 - loss: 0.0139\n",
      "Epoch 16: val_accuracy improved from 0.99405 to 0.99851, saving model to simple_CNN_eye_modelV6_3.keras\n",
      "\u001b[1m265/265\u001b[0m \u001b[32m━━━━━━━━━━━━━━━━━━━━\u001b[0m\u001b[37m\u001b[0m \u001b[1m9s\u001b[0m 34ms/step - accuracy: 0.9952 - loss: 0.0139 - val_accuracy: 0.9985 - val_loss: 0.0102\n",
      "Epoch 17/100\n",
      "\u001b[1m264/265\u001b[0m \u001b[32m━━━━━━━━━━━━━━━━━━━\u001b[0m\u001b[37m━\u001b[0m \u001b[1m0s\u001b[0m 27ms/step - accuracy: 0.9934 - loss: 0.0212\n",
      "Epoch 17: val_accuracy did not improve from 0.99851\n",
      "\u001b[1m265/265\u001b[0m \u001b[32m━━━━━━━━━━━━━━━━━━━━\u001b[0m\u001b[37m\u001b[0m \u001b[1m8s\u001b[0m 30ms/step - accuracy: 0.9934 - loss: 0.0212 - val_accuracy: 0.9613 - val_loss: 0.3904\n",
      "Epoch 18/100\n",
      "\u001b[1m262/265\u001b[0m \u001b[32m━━━━━━━━━━━━━━━━━━━\u001b[0m\u001b[37m━\u001b[0m \u001b[1m0s\u001b[0m 25ms/step - accuracy: 0.9941 - loss: 0.0170\n",
      "Epoch 18: val_accuracy did not improve from 0.99851\n",
      "\u001b[1m265/265\u001b[0m \u001b[32m━━━━━━━━━━━━━━━━━━━━\u001b[0m\u001b[37m\u001b[0m \u001b[1m8s\u001b[0m 28ms/step - accuracy: 0.9941 - loss: 0.0170 - val_accuracy: 0.9792 - val_loss: 0.0467\n",
      "Epoch 19/100\n",
      "\u001b[1m264/265\u001b[0m \u001b[32m━━━━━━━━━━━━━━━━━━━\u001b[0m\u001b[37m━\u001b[0m \u001b[1m0s\u001b[0m 25ms/step - accuracy: 0.9972 - loss: 0.0160\n",
      "Epoch 19: val_accuracy did not improve from 0.99851\n",
      "\u001b[1m265/265\u001b[0m \u001b[32m━━━━━━━━━━━━━━━━━━━━\u001b[0m\u001b[37m\u001b[0m \u001b[1m7s\u001b[0m 28ms/step - accuracy: 0.9972 - loss: 0.0160 - val_accuracy: 0.9851 - val_loss: 0.0385\n",
      "Epoch 20/100\n",
      "\u001b[1m265/265\u001b[0m \u001b[32m━━━━━━━━━━━━━━━━━━━━\u001b[0m\u001b[37m\u001b[0m \u001b[1m0s\u001b[0m 26ms/step - accuracy: 0.9975 - loss: 0.0077\n",
      "Epoch 20: val_accuracy did not improve from 0.99851\n",
      "\u001b[1m265/265\u001b[0m \u001b[32m━━━━━━━━━━━━━━━━━━━━\u001b[0m\u001b[37m\u001b[0m \u001b[1m8s\u001b[0m 29ms/step - accuracy: 0.9975 - loss: 0.0077 - val_accuracy: 0.9970 - val_loss: 0.0131\n",
      "Epoch 21/100\n",
      "\u001b[1m265/265\u001b[0m \u001b[32m━━━━━━━━━━━━━━━━━━━━\u001b[0m\u001b[37m\u001b[0m \u001b[1m0s\u001b[0m 25ms/step - accuracy: 0.9952 - loss: 0.0177\n",
      "Epoch 21: val_accuracy did not improve from 0.99851\n",
      "\u001b[1m265/265\u001b[0m \u001b[32m━━━━━━━━━━━━━━━━━━━━\u001b[0m\u001b[37m\u001b[0m \u001b[1m8s\u001b[0m 28ms/step - accuracy: 0.9952 - loss: 0.0177 - val_accuracy: 0.9717 - val_loss: 0.0691\n",
      "Epoch 22/100\n",
      "\u001b[1m262/265\u001b[0m \u001b[32m━━━━━━━━━━━━━━━━━━━\u001b[0m\u001b[37m━\u001b[0m \u001b[1m0s\u001b[0m 26ms/step - accuracy: 0.9958 - loss: 0.0115\n",
      "Epoch 22: val_accuracy did not improve from 0.99851\n",
      "\u001b[1m265/265\u001b[0m \u001b[32m━━━━━━━━━━━━━━━━━━━━\u001b[0m\u001b[37m\u001b[0m \u001b[1m8s\u001b[0m 29ms/step - accuracy: 0.9958 - loss: 0.0116 - val_accuracy: 0.9598 - val_loss: 0.1142\n",
      "Epoch 23/100\n",
      "\u001b[1m262/265\u001b[0m \u001b[32m━━━━━━━━━━━━━━━━━━━\u001b[0m\u001b[37m━\u001b[0m \u001b[1m0s\u001b[0m 27ms/step - accuracy: 0.9952 - loss: 0.0145\n",
      "Epoch 23: val_accuracy did not improve from 0.99851\n",
      "\u001b[1m265/265\u001b[0m \u001b[32m━━━━━━━━━━━━━━━━━━━━\u001b[0m\u001b[37m\u001b[0m \u001b[1m8s\u001b[0m 31ms/step - accuracy: 0.9952 - loss: 0.0145 - val_accuracy: 0.9940 - val_loss: 0.0272\n",
      "Epoch 24/100\n",
      "\u001b[1m264/265\u001b[0m \u001b[32m━━━━━━━━━━━━━━━━━━━\u001b[0m\u001b[37m━\u001b[0m \u001b[1m0s\u001b[0m 27ms/step - accuracy: 0.9983 - loss: 0.0054\n",
      "Epoch 24: val_accuracy did not improve from 0.99851\n",
      "\u001b[1m265/265\u001b[0m \u001b[32m━━━━━━━━━━━━━━━━━━━━\u001b[0m\u001b[37m\u001b[0m \u001b[1m8s\u001b[0m 30ms/step - accuracy: 0.9983 - loss: 0.0054 - val_accuracy: 0.9688 - val_loss: 0.0817\n",
      "Epoch 25/100\n",
      "\u001b[1m263/265\u001b[0m \u001b[32m━━━━━━━━━━━━━━━━━━━\u001b[0m\u001b[37m━\u001b[0m \u001b[1m0s\u001b[0m 37ms/step - accuracy: 0.9976 - loss: 0.0071\n",
      "Epoch 25: val_accuracy did not improve from 0.99851\n",
      "\u001b[1m265/265\u001b[0m \u001b[32m━━━━━━━━━━━━━━━━━━━━\u001b[0m\u001b[37m\u001b[0m \u001b[1m12s\u001b[0m 43ms/step - accuracy: 0.9976 - loss: 0.0071 - val_accuracy: 0.9926 - val_loss: 0.0301\n",
      "Epoch 26/100\n",
      "\u001b[1m262/265\u001b[0m \u001b[32m━━━━━━━━━━━━━━━━━━━\u001b[0m\u001b[37m━\u001b[0m \u001b[1m0s\u001b[0m 26ms/step - accuracy: 0.9975 - loss: 0.0091\n",
      "Epoch 26: val_accuracy did not improve from 0.99851\n",
      "\u001b[1m265/265\u001b[0m \u001b[32m━━━━━━━━━━━━━━━━━━━━\u001b[0m\u001b[37m\u001b[0m \u001b[1m8s\u001b[0m 29ms/step - accuracy: 0.9975 - loss: 0.0092 - val_accuracy: 0.9048 - val_loss: 0.2633\n",
      "Epoch 27/100\n",
      "\u001b[1m264/265\u001b[0m \u001b[32m━━━━━━━━━━━━━━━━━━━\u001b[0m\u001b[37m━\u001b[0m \u001b[1m0s\u001b[0m 24ms/step - accuracy: 0.9955 - loss: 0.0204\n",
      "Epoch 27: val_accuracy did not improve from 0.99851\n",
      "\u001b[1m265/265\u001b[0m \u001b[32m━━━━━━━━━━━━━━━━━━━━\u001b[0m\u001b[37m\u001b[0m \u001b[1m7s\u001b[0m 27ms/step - accuracy: 0.9955 - loss: 0.0203 - val_accuracy: 0.9420 - val_loss: 0.1175\n",
      "Epoch 28/100\n",
      "\u001b[1m263/265\u001b[0m \u001b[32m━━━━━━━━━━━━━━━━━━━\u001b[0m\u001b[37m━\u001b[0m \u001b[1m0s\u001b[0m 24ms/step - accuracy: 0.9972 - loss: 0.0084\n",
      "Epoch 28: val_accuracy did not improve from 0.99851\n",
      "\u001b[1m265/265\u001b[0m \u001b[32m━━━━━━━━━━━━━━━━━━━━\u001b[0m\u001b[37m\u001b[0m \u001b[1m7s\u001b[0m 27ms/step - accuracy: 0.9972 - loss: 0.0084 - val_accuracy: 0.9211 - val_loss: 0.1884\n",
      "Epoch 29/100\n",
      "\u001b[1m264/265\u001b[0m \u001b[32m━━━━━━━━━━━━━━━━━━━\u001b[0m\u001b[37m━\u001b[0m \u001b[1m0s\u001b[0m 24ms/step - accuracy: 0.9959 - loss: 0.0132\n",
      "Epoch 29: val_accuracy did not improve from 0.99851\n",
      "\u001b[1m265/265\u001b[0m \u001b[32m━━━━━━━━━━━━━━━━━━━━\u001b[0m\u001b[37m\u001b[0m \u001b[1m7s\u001b[0m 26ms/step - accuracy: 0.9959 - loss: 0.0132 - val_accuracy: 0.9509 - val_loss: 0.1310\n",
      "Epoch 30/100\n",
      "\u001b[1m263/265\u001b[0m \u001b[32m━━━━━━━━━━━━━━━━━━━\u001b[0m\u001b[37m━\u001b[0m \u001b[1m0s\u001b[0m 25ms/step - accuracy: 0.9915 - loss: 0.0269\n",
      "Epoch 30: val_accuracy did not improve from 0.99851\n",
      "\u001b[1m265/265\u001b[0m \u001b[32m━━━━━━━━━━━━━━━━━━━━\u001b[0m\u001b[37m\u001b[0m \u001b[1m7s\u001b[0m 27ms/step - accuracy: 0.9915 - loss: 0.0269 - val_accuracy: 0.9301 - val_loss: 0.5338\n",
      "Epoch 31/100\n",
      "\u001b[1m264/265\u001b[0m \u001b[32m━━━━━━━━━━━━━━━━━━━\u001b[0m\u001b[37m━\u001b[0m \u001b[1m0s\u001b[0m 26ms/step - accuracy: 0.9943 - loss: 0.0167\n",
      "Epoch 31: val_accuracy did not improve from 0.99851\n",
      "\u001b[1m265/265\u001b[0m \u001b[32m━━━━━━━━━━━━━━━━━━━━\u001b[0m\u001b[37m\u001b[0m \u001b[1m8s\u001b[0m 30ms/step - accuracy: 0.9943 - loss: 0.0167 - val_accuracy: 0.9435 - val_loss: 0.1757\n",
      "Epoch 32/100\n",
      "\u001b[1m263/265\u001b[0m \u001b[32m━━━━━━━━━━━━━━━━━━━\u001b[0m\u001b[37m━\u001b[0m \u001b[1m0s\u001b[0m 25ms/step - accuracy: 0.9961 - loss: 0.0099\n",
      "Epoch 32: val_accuracy did not improve from 0.99851\n",
      "\u001b[1m265/265\u001b[0m \u001b[32m━━━━━━━━━━━━━━━━━━━━\u001b[0m\u001b[37m\u001b[0m \u001b[1m8s\u001b[0m 28ms/step - accuracy: 0.9961 - loss: 0.0099 - val_accuracy: 0.9062 - val_loss: 0.3293\n",
      "Epoch 33/100\n",
      "\u001b[1m263/265\u001b[0m \u001b[32m━━━━━━━━━━━━━━━━━━━\u001b[0m\u001b[37m━\u001b[0m \u001b[1m0s\u001b[0m 24ms/step - accuracy: 0.9975 - loss: 0.0077\n",
      "Epoch 33: val_accuracy did not improve from 0.99851\n",
      "\u001b[1m265/265\u001b[0m \u001b[32m━━━━━━━━━━━━━━━━━━━━\u001b[0m\u001b[37m\u001b[0m \u001b[1m7s\u001b[0m 27ms/step - accuracy: 0.9975 - loss: 0.0077 - val_accuracy: 0.9673 - val_loss: 0.1239\n",
      "Epoch 34/100\n",
      "\u001b[1m263/265\u001b[0m \u001b[32m━━━━━━━━━━━━━━━━━━━\u001b[0m\u001b[37m━\u001b[0m \u001b[1m0s\u001b[0m 24ms/step - accuracy: 0.9991 - loss: 0.0064\n",
      "Epoch 34: val_accuracy did not improve from 0.99851\n",
      "\u001b[1m265/265\u001b[0m \u001b[32m━━━━━━━━━━━━━━━━━━━━\u001b[0m\u001b[37m\u001b[0m \u001b[1m7s\u001b[0m 27ms/step - accuracy: 0.9991 - loss: 0.0064 - val_accuracy: 0.9926 - val_loss: 0.0155\n",
      "Epoch 35/100\n",
      "\u001b[1m262/265\u001b[0m \u001b[32m━━━━━━━━━━━━━━━━━━━\u001b[0m\u001b[37m━\u001b[0m \u001b[1m0s\u001b[0m 23ms/step - accuracy: 0.9988 - loss: 0.0027\n",
      "Epoch 35: val_accuracy did not improve from 0.99851\n",
      "\u001b[1m265/265\u001b[0m \u001b[32m━━━━━━━━━━━━━━━━━━━━\u001b[0m\u001b[37m\u001b[0m \u001b[1m7s\u001b[0m 26ms/step - accuracy: 0.9988 - loss: 0.0027 - val_accuracy: 0.9911 - val_loss: 0.0233\n",
      "Epoch 36/100\n",
      "\u001b[1m265/265\u001b[0m \u001b[32m━━━━━━━━━━━━━━━━━━━━\u001b[0m\u001b[37m\u001b[0m \u001b[1m0s\u001b[0m 25ms/step - accuracy: 0.9952 - loss: 0.0133\n",
      "Epoch 36: val_accuracy did not improve from 0.99851\n",
      "\u001b[1m265/265\u001b[0m \u001b[32m━━━━━━━━━━━━━━━━━━━━\u001b[0m\u001b[37m\u001b[0m \u001b[1m7s\u001b[0m 27ms/step - accuracy: 0.9952 - loss: 0.0133 - val_accuracy: 0.9449 - val_loss: 0.1210\n",
      "Epoch 37/100\n",
      "\u001b[1m264/265\u001b[0m \u001b[32m━━━━━━━━━━━━━━━━━━━\u001b[0m\u001b[37m━\u001b[0m \u001b[1m0s\u001b[0m 24ms/step - accuracy: 0.9988 - loss: 0.0033\n",
      "Epoch 37: val_accuracy did not improve from 0.99851\n",
      "\u001b[1m265/265\u001b[0m \u001b[32m━━━━━━━━━━━━━━━━━━━━\u001b[0m\u001b[37m\u001b[0m \u001b[1m7s\u001b[0m 27ms/step - accuracy: 0.9988 - loss: 0.0033 - val_accuracy: 0.9494 - val_loss: 0.1636\n",
      "Epoch 38/100\n",
      "\u001b[1m262/265\u001b[0m \u001b[32m━━━━━━━━━━━━━━━━━━━\u001b[0m\u001b[37m━\u001b[0m \u001b[1m0s\u001b[0m 28ms/step - accuracy: 1.0000 - loss: 0.0013\n",
      "Epoch 38: val_accuracy did not improve from 0.99851\n",
      "\u001b[1m265/265\u001b[0m \u001b[32m━━━━━━━━━━━━━━━━━━━━\u001b[0m\u001b[37m\u001b[0m \u001b[1m8s\u001b[0m 31ms/step - accuracy: 1.0000 - loss: 0.0013 - val_accuracy: 0.9688 - val_loss: 0.0782\n",
      "Epoch 39/100\n",
      "\u001b[1m262/265\u001b[0m \u001b[32m━━━━━━━━━━━━━━━━━━━\u001b[0m\u001b[37m━\u001b[0m \u001b[1m0s\u001b[0m 27ms/step - accuracy: 1.0000 - loss: 8.6813e-04\n",
      "Epoch 39: val_accuracy did not improve from 0.99851\n",
      "\u001b[1m265/265\u001b[0m \u001b[32m━━━━━━━━━━━━━━━━━━━━\u001b[0m\u001b[37m\u001b[0m \u001b[1m8s\u001b[0m 31ms/step - accuracy: 1.0000 - loss: 8.7005e-04 - val_accuracy: 0.9821 - val_loss: 0.0445\n",
      "Epoch 40/100\n",
      "\u001b[1m262/265\u001b[0m \u001b[32m━━━━━━━━━━━━━━━━━━━\u001b[0m\u001b[37m━\u001b[0m \u001b[1m0s\u001b[0m 27ms/step - accuracy: 0.9994 - loss: 0.0022\n",
      "Epoch 40: val_accuracy did not improve from 0.99851\n",
      "\u001b[1m265/265\u001b[0m \u001b[32m━━━━━━━━━━━━━━━━━━━━\u001b[0m\u001b[37m\u001b[0m \u001b[1m8s\u001b[0m 29ms/step - accuracy: 0.9994 - loss: 0.0022 - val_accuracy: 0.9628 - val_loss: 0.0992\n",
      "Epoch 41/100\n",
      "\u001b[1m265/265\u001b[0m \u001b[32m━━━━━━━━━━━━━━━━━━━━\u001b[0m\u001b[37m\u001b[0m \u001b[1m0s\u001b[0m 28ms/step - accuracy: 0.9996 - loss: 0.0021\n",
      "Epoch 41: val_accuracy did not improve from 0.99851\n",
      "\u001b[1m265/265\u001b[0m \u001b[32m━━━━━━━━━━━━━━━━━━━━\u001b[0m\u001b[37m\u001b[0m \u001b[1m8s\u001b[0m 31ms/step - accuracy: 0.9996 - loss: 0.0021 - val_accuracy: 0.9360 - val_loss: 0.2568\n",
      "Epoch 42/100\n",
      "\u001b[1m262/265\u001b[0m \u001b[32m━━━━━━━━━━━━━━━━━━━\u001b[0m\u001b[37m━\u001b[0m \u001b[1m0s\u001b[0m 26ms/step - accuracy: 0.9981 - loss: 0.0054\n",
      "Epoch 42: val_accuracy did not improve from 0.99851\n",
      "\u001b[1m265/265\u001b[0m \u001b[32m━━━━━━━━━━━━━━━━━━━━\u001b[0m\u001b[37m\u001b[0m \u001b[1m8s\u001b[0m 28ms/step - accuracy: 0.9981 - loss: 0.0053 - val_accuracy: 0.9896 - val_loss: 0.0310\n",
      "Epoch 43/100\n",
      "\u001b[1m264/265\u001b[0m \u001b[32m━━━━━━━━━━━━━━━━━━━\u001b[0m\u001b[37m━\u001b[0m \u001b[1m0s\u001b[0m 29ms/step - accuracy: 0.9975 - loss: 0.0059\n",
      "Epoch 43: val_accuracy did not improve from 0.99851\n",
      "\u001b[1m265/265\u001b[0m \u001b[32m━━━━━━━━━━━━━━━━━━━━\u001b[0m\u001b[37m\u001b[0m \u001b[1m9s\u001b[0m 32ms/step - accuracy: 0.9975 - loss: 0.0060 - val_accuracy: 0.9940 - val_loss: 0.0226\n",
      "Epoch 44/100\n",
      "\u001b[1m262/265\u001b[0m \u001b[32m━━━━━━━━━━━━━━━━━━━\u001b[0m\u001b[37m━\u001b[0m \u001b[1m0s\u001b[0m 30ms/step - accuracy: 0.9961 - loss: 0.0125\n",
      "Epoch 44: val_accuracy did not improve from 0.99851\n",
      "\u001b[1m265/265\u001b[0m \u001b[32m━━━━━━━━━━━━━━━━━━━━\u001b[0m\u001b[37m\u001b[0m \u001b[1m9s\u001b[0m 33ms/step - accuracy: 0.9960 - loss: 0.0126 - val_accuracy: 0.9375 - val_loss: 0.2211\n",
      "Epoch 45/100\n",
      "\u001b[1m262/265\u001b[0m \u001b[32m━━━━━━━━━━━━━━━━━━━\u001b[0m\u001b[37m━\u001b[0m \u001b[1m0s\u001b[0m 27ms/step - accuracy: 0.9952 - loss: 0.0115\n",
      "Epoch 45: val_accuracy did not improve from 0.99851\n",
      "\u001b[1m265/265\u001b[0m \u001b[32m━━━━━━━━━━━━━━━━━━━━\u001b[0m\u001b[37m\u001b[0m \u001b[1m8s\u001b[0m 29ms/step - accuracy: 0.9952 - loss: 0.0115 - val_accuracy: 0.9717 - val_loss: 0.0890\n",
      "Epoch 46/100\n",
      "\u001b[1m262/265\u001b[0m \u001b[32m━━━━━━━━━━━━━━━━━━━\u001b[0m\u001b[37m━\u001b[0m \u001b[1m0s\u001b[0m 29ms/step - accuracy: 0.9950 - loss: 0.0132\n",
      "Epoch 46: val_accuracy did not improve from 0.99851\n",
      "\u001b[1m265/265\u001b[0m \u001b[32m━━━━━━━━━━━━━━━━━━━━\u001b[0m\u001b[37m\u001b[0m \u001b[1m9s\u001b[0m 32ms/step - accuracy: 0.9950 - loss: 0.0131 - val_accuracy: 0.9688 - val_loss: 0.1296\n",
      "Epoch 47/100\n",
      "\u001b[1m263/265\u001b[0m \u001b[32m━━━━━━━━━━━━━━━━━━━\u001b[0m\u001b[37m━\u001b[0m \u001b[1m0s\u001b[0m 27ms/step - accuracy: 0.9933 - loss: 0.0236\n",
      "Epoch 47: val_accuracy did not improve from 0.99851\n",
      "\u001b[1m265/265\u001b[0m \u001b[32m━━━━━━━━━━━━━━━━━━━━\u001b[0m\u001b[37m\u001b[0m \u001b[1m8s\u001b[0m 31ms/step - accuracy: 0.9934 - loss: 0.0234 - val_accuracy: 0.9702 - val_loss: 0.0710\n",
      "Epoch 48/100\n",
      "\u001b[1m262/265\u001b[0m \u001b[32m━━━━━━━━━━━━━━━━━━━\u001b[0m\u001b[37m━\u001b[0m \u001b[1m0s\u001b[0m 28ms/step - accuracy: 0.9978 - loss: 0.0050\n",
      "Epoch 48: val_accuracy did not improve from 0.99851\n",
      "\u001b[1m265/265\u001b[0m \u001b[32m━━━━━━━━━━━━━━━━━━━━\u001b[0m\u001b[37m\u001b[0m \u001b[1m8s\u001b[0m 30ms/step - accuracy: 0.9978 - loss: 0.0049 - val_accuracy: 0.9702 - val_loss: 0.0949\n",
      "Epoch 49/100\n",
      "\u001b[1m264/265\u001b[0m \u001b[32m━━━━━━━━━━━━━━━━━━━\u001b[0m\u001b[37m━\u001b[0m \u001b[1m0s\u001b[0m 27ms/step - accuracy: 0.9997 - loss: 0.0014\n",
      "Epoch 49: val_accuracy did not improve from 0.99851\n",
      "\u001b[1m265/265\u001b[0m \u001b[32m━━━━━━━━━━━━━━━━━━━━\u001b[0m\u001b[37m\u001b[0m \u001b[1m8s\u001b[0m 30ms/step - accuracy: 0.9997 - loss: 0.0014 - val_accuracy: 0.9851 - val_loss: 0.0501\n",
      "Epoch 50/100\n",
      "\u001b[1m263/265\u001b[0m \u001b[32m━━━━━━━━━━━━━━━━━━━\u001b[0m\u001b[37m━\u001b[0m \u001b[1m0s\u001b[0m 25ms/step - accuracy: 0.9991 - loss: 0.0024\n",
      "Epoch 50: val_accuracy did not improve from 0.99851\n",
      "\u001b[1m265/265\u001b[0m \u001b[32m━━━━━━━━━━━━━━━━━━━━\u001b[0m\u001b[37m\u001b[0m \u001b[1m8s\u001b[0m 28ms/step - accuracy: 0.9990 - loss: 0.0024 - val_accuracy: 0.9821 - val_loss: 0.0388\n",
      "Epoch 51/100\n",
      "\u001b[1m264/265\u001b[0m \u001b[32m━━━━━━━━━━━━━━━━━━━\u001b[0m\u001b[37m━\u001b[0m \u001b[1m0s\u001b[0m 28ms/step - accuracy: 0.9992 - loss: 0.0031\n",
      "Epoch 51: val_accuracy did not improve from 0.99851\n",
      "\u001b[1m265/265\u001b[0m \u001b[32m━━━━━━━━━━━━━━━━━━━━\u001b[0m\u001b[37m\u001b[0m \u001b[1m8s\u001b[0m 31ms/step - accuracy: 0.9992 - loss: 0.0031 - val_accuracy: 0.8943 - val_loss: 0.3725\n",
      "Epoch 52/100\n",
      "\u001b[1m262/265\u001b[0m \u001b[32m━━━━━━━━━━━━━━━━━━━\u001b[0m\u001b[37m━\u001b[0m \u001b[1m0s\u001b[0m 26ms/step - accuracy: 1.0000 - loss: 7.3876e-04\n",
      "Epoch 52: val_accuracy did not improve from 0.99851\n",
      "\u001b[1m265/265\u001b[0m \u001b[32m━━━━━━━━━━━━━━━━━━━━\u001b[0m\u001b[37m\u001b[0m \u001b[1m8s\u001b[0m 29ms/step - accuracy: 1.0000 - loss: 7.4582e-04 - val_accuracy: 0.9702 - val_loss: 0.0925\n",
      "Epoch 53/100\n",
      "\u001b[1m262/265\u001b[0m \u001b[32m━━━━━━━━━━━━━━━━━━━\u001b[0m\u001b[37m━\u001b[0m \u001b[1m0s\u001b[0m 26ms/step - accuracy: 0.9977 - loss: 0.0099\n",
      "Epoch 53: val_accuracy did not improve from 0.99851\n",
      "\u001b[1m265/265\u001b[0m \u001b[32m━━━━━━━━━━━━━━━━━━━━\u001b[0m\u001b[37m\u001b[0m \u001b[1m8s\u001b[0m 28ms/step - accuracy: 0.9977 - loss: 0.0100 - val_accuracy: 0.9003 - val_loss: 0.3534\n",
      "Epoch 54/100\n",
      "\u001b[1m264/265\u001b[0m \u001b[32m━━━━━━━━━━━━━━━━━━━\u001b[0m\u001b[37m━\u001b[0m \u001b[1m0s\u001b[0m 26ms/step - accuracy: 0.9982 - loss: 0.0063\n",
      "Epoch 54: val_accuracy did not improve from 0.99851\n",
      "\u001b[1m265/265\u001b[0m \u001b[32m━━━━━━━━━━━━━━━━━━━━\u001b[0m\u001b[37m\u001b[0m \u001b[1m8s\u001b[0m 29ms/step - accuracy: 0.9982 - loss: 0.0063 - val_accuracy: 0.9836 - val_loss: 0.0576\n",
      "Epoch 55/100\n",
      "\u001b[1m263/265\u001b[0m \u001b[32m━━━━━━━━━━━━━━━━━━━\u001b[0m\u001b[37m━\u001b[0m \u001b[1m0s\u001b[0m 26ms/step - accuracy: 0.9983 - loss: 0.0046\n",
      "Epoch 55: val_accuracy did not improve from 0.99851\n",
      "\u001b[1m265/265\u001b[0m \u001b[32m━━━━━━━━━━━━━━━━━━━━\u001b[0m\u001b[37m\u001b[0m \u001b[1m8s\u001b[0m 29ms/step - accuracy: 0.9983 - loss: 0.0046 - val_accuracy: 0.9732 - val_loss: 0.0840\n",
      "Epoch 56/100\n",
      "\u001b[1m263/265\u001b[0m \u001b[32m━━━━━━━━━━━━━━━━━━━\u001b[0m\u001b[37m━\u001b[0m \u001b[1m0s\u001b[0m 26ms/step - accuracy: 0.9988 - loss: 0.0053\n",
      "Epoch 56: val_accuracy did not improve from 0.99851\n",
      "\u001b[1m265/265\u001b[0m \u001b[32m━━━━━━━━━━━━━━━━━━━━\u001b[0m\u001b[37m\u001b[0m \u001b[1m8s\u001b[0m 31ms/step - accuracy: 0.9987 - loss: 0.0054 - val_accuracy: 0.9137 - val_loss: 0.2928\n"
     ]
    }
   ],
   "source": [
    "with tf.device('/device:GPU:0'):\n",
    "    model_info = model.fit(\n",
    "        train_generator,\n",
    "        epochs=num_epoch,\n",
    "        validation_data=validation_generator,\n",
    "        callbacks=[checkpoint, early_stopping]\n",
    "    )"
   ]
  },
  {
   "cell_type": "code",
   "execution_count": 17,
   "id": "f97e807d",
   "metadata": {
    "execution": {
     "iopub.execute_input": "2024-12-29T08:02:08.663782Z",
     "iopub.status.busy": "2024-12-29T08:02:08.663432Z",
     "iopub.status.idle": "2024-12-29T08:02:09.679189Z",
     "shell.execute_reply": "2024-12-29T08:02:09.678246Z"
    },
    "papermill": {
     "duration": 1.318579,
     "end_time": "2024-12-29T08:02:09.681251",
     "exception": false,
     "start_time": "2024-12-29T08:02:08.362672",
     "status": "completed"
    },
    "tags": []
   },
   "outputs": [],
   "source": [
    "model_path = \"simple_CNN_eye_modelV6_3.keras\"\n",
    "model.save(model_path)"
   ]
  },
  {
   "cell_type": "markdown",
   "id": "4fed1685",
   "metadata": {
    "papermill": {
     "duration": 0.342506,
     "end_time": "2024-12-29T08:02:10.324605",
     "exception": false,
     "start_time": "2024-12-29T08:02:09.982099",
     "status": "completed"
    },
    "tags": []
   },
   "source": [
    "## 4. Plot the training graph of model 1"
   ]
  },
  {
   "cell_type": "code",
   "execution_count": 18,
   "id": "71d419e8",
   "metadata": {
    "execution": {
     "iopub.execute_input": "2024-12-29T08:02:10.927739Z",
     "iopub.status.busy": "2024-12-29T08:02:10.927398Z",
     "iopub.status.idle": "2024-12-29T08:02:11.331145Z",
     "shell.execute_reply": "2024-12-29T08:02:11.330315Z"
    },
    "papermill": {
     "duration": 0.709812,
     "end_time": "2024-12-29T08:02:11.333380",
     "exception": false,
     "start_time": "2024-12-29T08:02:10.623568",
     "status": "completed"
    },
    "tags": []
   },
   "outputs": [
    {
     "data": {
      "image/png": "[encoded data removed]",
      "text/plain": [
       "<Figure size 1000x400 with 2 Axes>"
      ]
     },
     "metadata": {},
     "output_type": "display_data"
    }
   ],
   "source": [
    "# Vẽ đồ thị training\n",
    "plot_model_history(model_info)"
   ]
  },
  {
   "cell_type": "markdown",
   "id": "9fbe6b86",
   "metadata": {
    "papermill": {
     "duration": 0.298247,
     "end_time": "2024-12-29T08:02:11.969726",
     "exception": false,
     "start_time": "2024-12-29T08:02:11.671479",
     "status": "completed"
    },
    "tags": []
   },
   "source": [
    "## 5. Testing"
   ]
  },
  {
   "cell_type": "code",
   "execution_count": 19,
   "id": "4fd1789f",
   "metadata": {
    "execution": {
     "iopub.execute_input": "2024-12-29T08:02:12.573572Z",
     "iopub.status.busy": "2024-12-29T08:02:12.573222Z",
     "iopub.status.idle": "2024-12-29T08:02:16.432741Z",
     "shell.execute_reply": "2024-12-29T08:02:16.431791Z"
    },
    "papermill": {
     "duration": 4.164968,
     "end_time": "2024-12-29T08:02:16.434353",
     "exception": false,
     "start_time": "2024-12-29T08:02:12.269385",
     "status": "completed"
    },
    "tags": []
   },
   "outputs": [
    {
     "data": {
      "image/png": "[encoded data removed]",
      "text/plain": [
       "<Figure size 640x480 with 1 Axes>"
      ]
     },
     "metadata": {},
     "output_type": "display_data"
    },
    {
     "name": "stdout",
     "output_type": "stream",
     "text": [
      "\u001b[1m1/1\u001b[0m \u001b[32m━━━━━━━━━━━━━━━━━━━━\u001b[0m\u001b[37m\u001b[0m \u001b[1m1s\u001b[0m 724ms/step\n",
      "[[2.514516e-09 1.000000e+00]]\n",
      "Predicted class: Open Eyes\n"
     ]
    }
   ],
   "source": [
    "CLASS_LABELS = {0: \"Closed Eyes\", 1: \"Open Eyes\"}\n",
    "\n",
    "model = tf.keras.models.load_model(model_path)\n",
    "\n",
    "path = '/kaggle/input/drowsiness-dataset/Dataset/Test/Open_Eyes/_495.jpg'\n",
    "\n",
    "plt.imshow(mpimg.imread(path))\n",
    "plt.show()\n",
    "\n",
    "# Open image, convert to grayscale and resize\n",
    "img = preprocess_image(path)\n",
    "x = np.expand_dims(img, axis=0)\n",
    "\n",
    "y_predict = model.predict(x)\n",
    "print(y_predict)\n",
    "\n",
    "# Get the predicted class and label\n",
    "prediction = int(np.argmax(y_predict))\n",
    "print(\"Predicted class:\", CLASS_LABELS[prediction])"
   ]
  },
  {
   "cell_type": "markdown",
   "id": "17e629ed",
   "metadata": {
    "papermill": {
     "duration": 0.311213,
     "end_time": "2024-12-29T08:02:17.090254",
     "exception": false,
     "start_time": "2024-12-29T08:02:16.779041",
     "status": "completed"
    },
    "tags": []
   },
   "source": [
    "## 6. Get actual and predicted labels for confusion matrix and classification report"
   ]
  },
  {
   "cell_type": "code",
   "execution_count": 20,
   "id": "449038ce",
   "metadata": {
    "execution": {
     "iopub.execute_input": "2024-12-29T08:02:17.726413Z",
     "iopub.status.busy": "2024-12-29T08:02:17.726065Z",
     "iopub.status.idle": "2024-12-29T08:02:23.566197Z",
     "shell.execute_reply": "2024-12-29T08:02:23.565478Z"
    },
    "papermill": {
     "duration": 6.16662,
     "end_time": "2024-12-29T08:02:23.567838",
     "exception": false,
     "start_time": "2024-12-29T08:02:17.401218",
     "status": "completed"
    },
    "tags": []
   },
   "outputs": [
    {
     "name": "stdout",
     "output_type": "stream",
     "text": [
      "\u001b[1m1/1\u001b[0m \u001b[32m━━━━━━━━━━━━━━━━━━━━\u001b[0m\u001b[37m\u001b[0m \u001b[1m0s\u001b[0m 454ms/step\n",
      "\u001b[1m1/1\u001b[0m \u001b[32m━━━━━━━━━━━━━━━━━━━━\u001b[0m\u001b[37m\u001b[0m \u001b[1m0s\u001b[0m 18ms/step\n",
      "\u001b[1m1/1\u001b[0m \u001b[32m━━━━━━━━━━━━━━━━━━━━\u001b[0m\u001b[37m\u001b[0m \u001b[1m0s\u001b[0m 18ms/step\n",
      "\u001b[1m1/1\u001b[0m \u001b[32m━━━━━━━━━━━━━━━━━━━━\u001b[0m\u001b[37m\u001b[0m \u001b[1m0s\u001b[0m 17ms/step\n",
      "\u001b[1m1/1\u001b[0m \u001b[32m━━━━━━━━━━━━━━━━━━━━\u001b[0m\u001b[37m\u001b[0m \u001b[1m0s\u001b[0m 18ms/step\n",
      "\u001b[1m1/1\u001b[0m \u001b[32m━━━━━━━━━━━━━━━━━━━━\u001b[0m\u001b[37m\u001b[0m \u001b[1m0s\u001b[0m 17ms/step\n",
      "\u001b[1m1/1\u001b[0m \u001b[32m━━━━━━━━━━━━━━━━━━━━\u001b[0m\u001b[37m\u001b[0m \u001b[1m0s\u001b[0m 18ms/step\n",
      "\u001b[1m1/1\u001b[0m \u001b[32m━━━━━━━━━━━━━━━━━━━━\u001b[0m\u001b[37m\u001b[0m \u001b[1m0s\u001b[0m 16ms/step\n",
      "\u001b[1m1/1\u001b[0m \u001b[32m━━━━━━━━━━━━━━━━━━━━\u001b[0m\u001b[37m\u001b[0m \u001b[1m0s\u001b[0m 17ms/step\n",
      "\u001b[1m1/1\u001b[0m \u001b[32m━━━━━━━━━━━━━━━━━━━━\u001b[0m\u001b[37m\u001b[0m \u001b[1m0s\u001b[0m 18ms/step\n",
      "\u001b[1m1/1\u001b[0m \u001b[32m━━━━━━━━━━━━━━━━━━━━\u001b[0m\u001b[37m\u001b[0m \u001b[1m0s\u001b[0m 16ms/step\n",
      "\u001b[1m1/1\u001b[0m \u001b[32m━━━━━━━━━━━━━━━━━━━━\u001b[0m\u001b[37m\u001b[0m \u001b[1m0s\u001b[0m 17ms/step\n",
      "\u001b[1m1/1\u001b[0m \u001b[32m━━━━━━━━━━━━━━━━━━━━\u001b[0m\u001b[37m\u001b[0m \u001b[1m0s\u001b[0m 17ms/step\n",
      "\u001b[1m1/1\u001b[0m \u001b[32m━━━━━━━━━━━━━━━━━━━━\u001b[0m\u001b[37m\u001b[0m \u001b[1m0s\u001b[0m 17ms/step\n",
      "\u001b[1m1/1\u001b[0m \u001b[32m━━━━━━━━━━━━━━━━━━━━\u001b[0m\u001b[37m\u001b[0m \u001b[1m0s\u001b[0m 18ms/step\n",
      "\u001b[1m1/1\u001b[0m \u001b[32m━━━━━━━━━━━━━━━━━━━━\u001b[0m\u001b[37m\u001b[0m \u001b[1m0s\u001b[0m 17ms/step\n",
      "\u001b[1m1/1\u001b[0m \u001b[32m━━━━━━━━━━━━━━━━━━━━\u001b[0m\u001b[37m\u001b[0m \u001b[1m0s\u001b[0m 17ms/step\n",
      "\u001b[1m1/1\u001b[0m \u001b[32m━━━━━━━━━━━━━━━━━━━━\u001b[0m\u001b[37m\u001b[0m \u001b[1m0s\u001b[0m 16ms/step\n",
      "\u001b[1m1/1\u001b[0m \u001b[32m━━━━━━━━━━━━━━━━━━━━\u001b[0m\u001b[37m\u001b[0m \u001b[1m0s\u001b[0m 18ms/step\n",
      "\u001b[1m1/1\u001b[0m \u001b[32m━━━━━━━━━━━━━━━━━━━━\u001b[0m\u001b[37m\u001b[0m \u001b[1m0s\u001b[0m 17ms/step\n",
      "\u001b[1m1/1\u001b[0m \u001b[32m━━━━━━━━━━━━━━━━━━━━\u001b[0m\u001b[37m\u001b[0m \u001b[1m0s\u001b[0m 17ms/step\n",
      "\u001b[1m1/1\u001b[0m \u001b[32m━━━━━━━━━━━━━━━━━━━━\u001b[0m\u001b[37m\u001b[0m \u001b[1m0s\u001b[0m 16ms/step\n",
      "\u001b[1m1/1\u001b[0m \u001b[32m━━━━━━━━━━━━━━━━━━━━\u001b[0m\u001b[37m\u001b[0m \u001b[1m0s\u001b[0m 17ms/step\n",
      "\u001b[1m1/1\u001b[0m \u001b[32m━━━━━━━━━━━━━━━━━━━━\u001b[0m\u001b[37m\u001b[0m \u001b[1m0s\u001b[0m 18ms/step\n",
      "\u001b[1m1/1\u001b[0m \u001b[32m━━━━━━━━━━━━━━━━━━━━\u001b[0m\u001b[37m\u001b[0m \u001b[1m0s\u001b[0m 18ms/step\n",
      "\u001b[1m1/1\u001b[0m \u001b[32m━━━━━━━━━━━━━━━━━━━━\u001b[0m\u001b[37m\u001b[0m \u001b[1m0s\u001b[0m 18ms/step\n",
      "\u001b[1m1/1\u001b[0m \u001b[32m━━━━━━━━━━━━━━━━━━━━\u001b[0m\u001b[37m\u001b[0m \u001b[1m0s\u001b[0m 17ms/step\n",
      "\u001b[1m1/1\u001b[0m \u001b[32m━━━━━━━━━━━━━━━━━━━━\u001b[0m\u001b[37m\u001b[0m \u001b[1m0s\u001b[0m 18ms/step\n",
      "\u001b[1m1/1\u001b[0m \u001b[32m━━━━━━━━━━━━━━━━━━━━\u001b[0m\u001b[37m\u001b[0m \u001b[1m0s\u001b[0m 17ms/step\n",
      "\u001b[1m1/1\u001b[0m \u001b[32m━━━━━━━━━━━━━━━━━━━━\u001b[0m\u001b[37m\u001b[0m \u001b[1m0s\u001b[0m 19ms/step\n",
      "\u001b[1m1/1\u001b[0m \u001b[32m━━━━━━━━━━━━━━━━━━━━\u001b[0m\u001b[37m\u001b[0m \u001b[1m0s\u001b[0m 17ms/step\n",
      "\u001b[1m1/1\u001b[0m \u001b[32m━━━━━━━━━━━━━━━━━━━━\u001b[0m\u001b[37m\u001b[0m \u001b[1m0s\u001b[0m 17ms/step\n",
      "\u001b[1m1/1\u001b[0m \u001b[32m━━━━━━━━━━━━━━━━━━━━\u001b[0m\u001b[37m\u001b[0m \u001b[1m0s\u001b[0m 17ms/step\n",
      "\u001b[1m1/1\u001b[0m \u001b[32m━━━━━━━━━━━━━━━━━━━━\u001b[0m\u001b[37m\u001b[0m \u001b[1m0s\u001b[0m 18ms/step\n",
      "\u001b[1m1/1\u001b[0m \u001b[32m━━━━━━━━━━━━━━━━━━━━\u001b[0m\u001b[37m\u001b[0m \u001b[1m1s\u001b[0m 583ms/step\n"
     ]
    }
   ],
   "source": [
    "y_test = []\n",
    "y_pred = []\n",
    "\n",
    "for i in range(len(test_generator)):\n",
    "  batch_images, batch_labels = test_generator[i]\n",
    "  batch_predictions = model.predict(batch_images)\n",
    "  batch_pred_labels = np.argmax(batch_predictions, axis=1)\n",
    "  y_test.extend(np.argmax(batch_labels, axis=1))\n",
    "  y_pred.extend(batch_pred_labels)\n",
    "\n",
    "y_test = np.array(y_test)\n",
    "y_pred = np.array(y_pred)\n",
    "# Check shapes for matching\n",
    "if len(y_test) != len(y_pred):\n",
    "    print(\"Kích thước của y_test và y_pred không khớp. Điều chỉnh số bước (steps) hoặc batch_size.\")\n",
    "# Confusion matrix\n",
    "conf_mat = confusion_matrix(y_test, y_pred)"
   ]
  },
  {
   "cell_type": "markdown",
   "id": "c325be82",
   "metadata": {
    "papermill": {
     "duration": 0.344719,
     "end_time": "2024-12-29T08:02:24.218566",
     "exception": false,
     "start_time": "2024-12-29T08:02:23.873847",
     "status": "completed"
    },
    "tags": []
   },
   "source": [
    "## 7. Print confusion matrix of model 1"
   ]
  },
  {
   "cell_type": "code",
   "execution_count": 21,
   "id": "76167588",
   "metadata": {
    "execution": {
     "iopub.execute_input": "2024-12-29T08:02:24.831135Z",
     "iopub.status.busy": "2024-12-29T08:02:24.830391Z",
     "iopub.status.idle": "2024-12-29T08:02:25.089606Z",
     "shell.execute_reply": "2024-12-29T08:02:25.088660Z"
    },
    "papermill": {
     "duration": 0.569285,
     "end_time": "2024-12-29T08:02:25.091348",
     "exception": false,
     "start_time": "2024-12-29T08:02:24.522063",
     "status": "completed"
    },
    "tags": []
   },
   "outputs": [
    {
     "data": {
      "image/png": "[encoded data removed]",
      "text/plain": [
       "<Figure size 1000x700 with 2 Axes>"
      ]
     },
     "metadata": {},
     "output_type": "display_data"
    }
   ],
   "source": [
    "cm = pd.DataFrame(conf_mat, columns=CLASSES, index=CLASSES)\n",
    "cm.index.name = 'Actual'\n",
    "cm.columns.name = 'Predicted'\n",
    "plt.figure(figsize=(10,7))\n",
    "sns.heatmap(cm, annot=True, fmt='d', cmap='Blues')\n",
    "plt.title('Confusion Matrix')\n",
    "plt.show()"
   ]
  },
  {
   "cell_type": "markdown",
   "id": "bbe9838e",
   "metadata": {
    "papermill": {
     "duration": 0.314705,
     "end_time": "2024-12-29T08:02:25.758270",
     "exception": false,
     "start_time": "2024-12-29T08:02:25.443565",
     "status": "completed"
    },
    "tags": []
   },
   "source": [
    "## 8. Print classification report of model 1"
   ]
  },
  {
   "cell_type": "code",
   "execution_count": 22,
   "id": "208e5717",
   "metadata": {
    "execution": {
     "iopub.execute_input": "2024-12-29T08:02:26.432681Z",
     "iopub.status.busy": "2024-12-29T08:02:26.431832Z",
     "iopub.status.idle": "2024-12-29T08:02:26.445170Z",
     "shell.execute_reply": "2024-12-29T08:02:26.444253Z"
    },
    "papermill": {
     "duration": 0.381859,
     "end_time": "2024-12-29T08:02:26.446813",
     "exception": false,
     "start_time": "2024-12-29T08:02:26.064954",
     "status": "completed"
    },
    "tags": []
   },
   "outputs": [
    {
     "name": "stdout",
     "output_type": "stream",
     "text": [
      "              precision    recall  f1-score   support\n",
      "\n",
      " Closed_Eyes       1.00      0.91      0.95       361\n",
      "   Open_Eyes       0.86      0.99      0.92       186\n",
      "\n",
      "    accuracy                           0.94       547\n",
      "   macro avg       0.93      0.95      0.94       547\n",
      "weighted avg       0.95      0.94      0.94       547\n",
      "\n"
     ]
    }
   ],
   "source": [
    "print(classification_report(y_test, y_pred, target_names=CLASSES))"
   ]
  },
  {
   "cell_type": "markdown",
   "id": "10602198",
   "metadata": {
    "papermill": {
     "duration": 0.307228,
     "end_time": "2024-12-29T08:02:27.058589",
     "exception": false,
     "start_time": "2024-12-29T08:02:26.751361",
     "status": "completed"
    },
    "tags": []
   },
   "source": [
    "# II. Continue using simple CNN to predict for the mouth"
   ]
  },
  {
   "cell_type": "markdown",
   "id": "4821b71e",
   "metadata": {
    "papermill": {
     "duration": 0.373649,
     "end_time": "2024-12-29T08:02:27.742139",
     "exception": false,
     "start_time": "2024-12-29T08:02:27.368490",
     "status": "completed"
    },
    "tags": []
   },
   "source": [
    "## 1. Okay, let's get started!"
   ]
  },
  {
   "cell_type": "code",
   "execution_count": 23,
   "id": "677e63ac",
   "metadata": {
    "execution": {
     "iopub.execute_input": "2024-12-29T08:02:28.360029Z",
     "iopub.status.busy": "2024-12-29T08:02:28.359670Z",
     "iopub.status.idle": "2024-12-29T08:02:28.363900Z",
     "shell.execute_reply": "2024-12-29T08:02:28.363162Z"
    },
    "papermill": {
     "duration": 0.314386,
     "end_time": "2024-12-29T08:02:28.365574",
     "exception": false,
     "start_time": "2024-12-29T08:02:28.051188",
     "status": "completed"
    },
    "tags": []
   },
   "outputs": [],
   "source": [
    "# Define classes\n",
    "CLASSES = ['No_yawn', 'Yawn']\n",
    "\n",
    "# Parameters\n",
    "num_train = 0  # To be calculated\n",
    "num_val = 0    # To be calculated\n",
    "batch_size = 16\n",
    "num_epoch = 100\n",
    "IMG_WIDTH = 256\n",
    "IMG_HEIGHT = 256"
   ]
  },
  {
   "cell_type": "code",
   "execution_count": 24,
   "id": "1d512878",
   "metadata": {
    "execution": {
     "iopub.execute_input": "2024-12-29T08:02:29.019893Z",
     "iopub.status.busy": "2024-12-29T08:02:29.018161Z",
     "iopub.status.idle": "2024-12-29T08:02:29.040394Z",
     "shell.execute_reply": "2024-12-29T08:02:29.039720Z"
    },
    "papermill": {
     "duration": 0.370199,
     "end_time": "2024-12-29T08:02:29.042061",
     "exception": false,
     "start_time": "2024-12-29T08:02:28.671862",
     "status": "completed"
    },
    "tags": []
   },
   "outputs": [],
   "source": [
    "# Create Data Generators\n",
    "train_generator = CustomDataGenerator(train_dir, CLASSES, batch_size, shuffle=True)\n",
    "validation_generator = CustomDataGenerator(val_dir, CLASSES, batch_size, shuffle=True)\n",
    "test_generator = CustomDataGenerator(test_dir, CLASSES, batch_size, shuffle=True)\n",
    "\n",
    "num_train = len(train_generator.image_paths)\n",
    "num_val = len(validation_generator.image_paths)\n",
    "num_test = len(test_generator.image_paths)"
   ]
  },
  {
   "cell_type": "code",
   "execution_count": 25,
   "id": "a3be4221",
   "metadata": {
    "execution": {
     "iopub.execute_input": "2024-12-29T08:02:29.673481Z",
     "iopub.status.busy": "2024-12-29T08:02:29.673120Z",
     "iopub.status.idle": "2024-12-29T08:02:29.689093Z",
     "shell.execute_reply": "2024-12-29T08:02:29.687990Z"
    },
    "papermill": {
     "duration": 0.339569,
     "end_time": "2024-12-29T08:02:29.690726",
     "exception": false,
     "start_time": "2024-12-29T08:02:29.351157",
     "status": "completed"
    },
    "tags": []
   },
   "outputs": [
    {
     "name": "stdout",
     "output_type": "stream",
     "text": [
      "Train images:\n",
      "Class Yawn: 2150 images\n",
      "Class No_yawn: 2165 images\n",
      "\n",
      "Validation images:\n",
      "Class Yawn: 427 images\n",
      "Class No_yawn: 455 images\n",
      "\n",
      "Test images:\n",
      "Class Yawn: 448 images\n",
      "Class No_yawn: 469 images\n"
     ]
    }
   ],
   "source": [
    "# Count the number of images in each class for training, testing and validation sets\n",
    "print(\"Train images:\")\n",
    "count_images_in_classes(train_dir)\n",
    "\n",
    "print(\"\\nValidation images:\")\n",
    "count_images_in_classes(val_dir)\n",
    "\n",
    "print(\"\\nTest images:\")\n",
    "count_images_in_classes(test_dir)"
   ]
  },
  {
   "cell_type": "markdown",
   "id": "6489d6db",
   "metadata": {
    "papermill": {
     "duration": 0.304062,
     "end_time": "2024-12-29T08:02:30.347090",
     "exception": false,
     "start_time": "2024-12-29T08:02:30.043028",
     "status": "completed"
    },
    "tags": []
   },
   "source": [
    "## Model 2 changes the height and width of the input image so the model architecture will have to be redesigned"
   ]
  },
  {
   "cell_type": "code",
   "execution_count": 26,
   "id": "91b0222d",
   "metadata": {
    "execution": {
     "iopub.execute_input": "2024-12-29T08:02:30.997798Z",
     "iopub.status.busy": "2024-12-29T08:02:30.996777Z",
     "iopub.status.idle": "2024-12-29T08:02:31.109410Z",
     "shell.execute_reply": "2024-12-29T08:02:31.108489Z"
    },
    "papermill": {
     "duration": 0.464123,
     "end_time": "2024-12-29T08:02:31.110977",
     "exception": false,
     "start_time": "2024-12-29T08:02:30.646854",
     "status": "completed"
    },
    "tags": []
   },
   "outputs": [
    {
     "name": "stderr",
     "output_type": "stream",
     "text": [
      "/opt/conda/lib/python3.10/site-packages/keras/src/layers/convolutional/base_conv.py:107: UserWarning: Do not pass an `input_shape`/`input_dim` argument to a layer. When using Sequential models, prefer using an `Input(shape)` object as the first layer in the model instead.\n",
      "  super().__init__(activity_regularizer=activity_regularizer, **kwargs)\n"
     ]
    }
   ],
   "source": [
    "with tf.device('/device:GPU:0'):\n",
    "    model = Sequential([\n",
    "        # Block 1\n",
    "        Conv2D(32, (3, 3), activation='relu', padding='same', input_shape=(IMG_HEIGHT, IMG_WIDTH, 1)),\n",
    "        BatchNormalization(),\n",
    "        Conv2D(32, (3, 3), activation='relu', padding='same'),\n",
    "        BatchNormalization(),\n",
    "        MaxPooling2D(pool_size=(2, 2)),\n",
    "        Dropout(0.25),\n",
    "    \n",
    "        # Block 2\n",
    "        Conv2D(64, (3, 3), activation='relu', padding='same'),\n",
    "        BatchNormalization(),\n",
    "        Conv2D(64, (3, 3), activation='relu', padding='same'),\n",
    "        BatchNormalization(),\n",
    "        MaxPooling2D(pool_size=(2, 2)),\n",
    "        Dropout(0.25),\n",
    "    \n",
    "        # Block 3\n",
    "        Conv2D(128, (3, 3), activation='relu', padding='same'),\n",
    "        BatchNormalization(),\n",
    "        Conv2D(128, (3, 3), activation='relu', padding='same'),\n",
    "        BatchNormalization(),\n",
    "        MaxPooling2D(pool_size=(2, 2)),\n",
    "        Dropout(0.3),\n",
    "    \n",
    "        # Dense layers\n",
    "        Flatten(),\n",
    "        Dense(512, activation='relu'),\n",
    "        BatchNormalization(),\n",
    "        Dropout(0.5),\n",
    "        Dense(len(CLASSES), activation='softmax')\n",
    "    ])"
   ]
  },
  {
   "cell_type": "code",
   "execution_count": 27,
   "id": "262f5128",
   "metadata": {
    "execution": {
     "iopub.execute_input": "2024-12-29T08:02:31.718699Z",
     "iopub.status.busy": "2024-12-29T08:02:31.718346Z",
     "iopub.status.idle": "2024-12-29T08:02:31.746367Z",
     "shell.execute_reply": "2024-12-29T08:02:31.745522Z"
    },
    "papermill": {
     "duration": 0.333314,
     "end_time": "2024-12-29T08:02:31.747970",
     "exception": false,
     "start_time": "2024-12-29T08:02:31.414656",
     "status": "completed"
    },
    "tags": []
   },
   "outputs": [
    {
     "data": {
      "text/html": [
       "<pre style=\"white-space:pre;overflow-x:auto;line-height:normal;font-family:Menlo,'DejaVu Sans Mono',consolas,'Courier New',monospace\"><span style=\"font-weight: bold\">Model: \"sequential_1\"</span>\n",
       "</pre>\n"
      ],
      "text/plain": [
       "\u001b[1mModel: \"sequential_1\"\u001b[0m\n"
      ]
     },
     "metadata": {},
     "output_type": "display_data"
    },
    {
     "data": {
      "text/html": [
       "<pre style=\"white-space:pre;overflow-x:auto;line-height:normal;font-family:Menlo,'DejaVu Sans Mono',consolas,'Courier New',monospace\">┏━━━━━━━━━━━━━━━━━━━━━━━━━━━━━━━━━┳━━━━━━━━━━━━━━━━━━━━━━━━┳━━━━━━━━━━━━━━━┓\n",
       "┃<span style=\"font-weight: bold\"> Layer (type)                    </span>┃<span style=\"font-weight: bold\"> Output Shape           </span>┃<span style=\"font-weight: bold\">       Param # </span>┃\n",
       "┡━━━━━━━━━━━━━━━━━━━━━━━━━━━━━━━━━╇━━━━━━━━━━━━━━━━━━━━━━━━╇━━━━━━━━━━━━━━━┩\n",
       "│ conv2d_6 (<span style=\"color: #0087ff; text-decoration-color: #0087ff\">Conv2D</span>)               │ (<span style=\"color: #00d7ff; text-decoration-color: #00d7ff\">None</span>, <span style=\"color: #00af00; text-decoration-color: #00af00\">256</span>, <span style=\"color: #00af00; text-decoration-color: #00af00\">256</span>, <span style=\"color: #00af00; text-decoration-color: #00af00\">32</span>)   │           <span style=\"color: #00af00; text-decoration-color: #00af00\">320</span> │\n",
       "├─────────────────────────────────┼────────────────────────┼───────────────┤\n",
       "│ batch_normalization_7           │ (<span style=\"color: #00d7ff; text-decoration-color: #00d7ff\">None</span>, <span style=\"color: #00af00; text-decoration-color: #00af00\">256</span>, <span style=\"color: #00af00; text-decoration-color: #00af00\">256</span>, <span style=\"color: #00af00; text-decoration-color: #00af00\">32</span>)   │           <span style=\"color: #00af00; text-decoration-color: #00af00\">128</span> │\n",
       "│ (<span style=\"color: #0087ff; text-decoration-color: #0087ff\">BatchNormalization</span>)            │                        │               │\n",
       "├─────────────────────────────────┼────────────────────────┼───────────────┤\n",
       "│ conv2d_7 (<span style=\"color: #0087ff; text-decoration-color: #0087ff\">Conv2D</span>)               │ (<span style=\"color: #00d7ff; text-decoration-color: #00d7ff\">None</span>, <span style=\"color: #00af00; text-decoration-color: #00af00\">256</span>, <span style=\"color: #00af00; text-decoration-color: #00af00\">256</span>, <span style=\"color: #00af00; text-decoration-color: #00af00\">32</span>)   │         <span style=\"color: #00af00; text-decoration-color: #00af00\">9,248</span> │\n",
       "├─────────────────────────────────┼────────────────────────┼───────────────┤\n",
       "│ batch_normalization_8           │ (<span style=\"color: #00d7ff; text-decoration-color: #00d7ff\">None</span>, <span style=\"color: #00af00; text-decoration-color: #00af00\">256</span>, <span style=\"color: #00af00; text-decoration-color: #00af00\">256</span>, <span style=\"color: #00af00; text-decoration-color: #00af00\">32</span>)   │           <span style=\"color: #00af00; text-decoration-color: #00af00\">128</span> │\n",
       "│ (<span style=\"color: #0087ff; text-decoration-color: #0087ff\">BatchNormalization</span>)            │                        │               │\n",
       "├─────────────────────────────────┼────────────────────────┼───────────────┤\n",
       "│ max_pooling2d_3 (<span style=\"color: #0087ff; text-decoration-color: #0087ff\">MaxPooling2D</span>)  │ (<span style=\"color: #00d7ff; text-decoration-color: #00d7ff\">None</span>, <span style=\"color: #00af00; text-decoration-color: #00af00\">128</span>, <span style=\"color: #00af00; text-decoration-color: #00af00\">128</span>, <span style=\"color: #00af00; text-decoration-color: #00af00\">32</span>)   │             <span style=\"color: #00af00; text-decoration-color: #00af00\">0</span> │\n",
       "├─────────────────────────────────┼────────────────────────┼───────────────┤\n",
       "│ dropout_4 (<span style=\"color: #0087ff; text-decoration-color: #0087ff\">Dropout</span>)             │ (<span style=\"color: #00d7ff; text-decoration-color: #00d7ff\">None</span>, <span style=\"color: #00af00; text-decoration-color: #00af00\">128</span>, <span style=\"color: #00af00; text-decoration-color: #00af00\">128</span>, <span style=\"color: #00af00; text-decoration-color: #00af00\">32</span>)   │             <span style=\"color: #00af00; text-decoration-color: #00af00\">0</span> │\n",
       "├─────────────────────────────────┼────────────────────────┼───────────────┤\n",
       "│ conv2d_8 (<span style=\"color: #0087ff; text-decoration-color: #0087ff\">Conv2D</span>)               │ (<span style=\"color: #00d7ff; text-decoration-color: #00d7ff\">None</span>, <span style=\"color: #00af00; text-decoration-color: #00af00\">128</span>, <span style=\"color: #00af00; text-decoration-color: #00af00\">128</span>, <span style=\"color: #00af00; text-decoration-color: #00af00\">64</span>)   │        <span style=\"color: #00af00; text-decoration-color: #00af00\">18,496</span> │\n",
       "├─────────────────────────────────┼────────────────────────┼───────────────┤\n",
       "│ batch_normalization_9           │ (<span style=\"color: #00d7ff; text-decoration-color: #00d7ff\">None</span>, <span style=\"color: #00af00; text-decoration-color: #00af00\">128</span>, <span style=\"color: #00af00; text-decoration-color: #00af00\">128</span>, <span style=\"color: #00af00; text-decoration-color: #00af00\">64</span>)   │           <span style=\"color: #00af00; text-decoration-color: #00af00\">256</span> │\n",
       "│ (<span style=\"color: #0087ff; text-decoration-color: #0087ff\">BatchNormalization</span>)            │                        │               │\n",
       "├─────────────────────────────────┼────────────────────────┼───────────────┤\n",
       "│ conv2d_9 (<span style=\"color: #0087ff; text-decoration-color: #0087ff\">Conv2D</span>)               │ (<span style=\"color: #00d7ff; text-decoration-color: #00d7ff\">None</span>, <span style=\"color: #00af00; text-decoration-color: #00af00\">128</span>, <span style=\"color: #00af00; text-decoration-color: #00af00\">128</span>, <span style=\"color: #00af00; text-decoration-color: #00af00\">64</span>)   │        <span style=\"color: #00af00; text-decoration-color: #00af00\">36,928</span> │\n",
       "├─────────────────────────────────┼────────────────────────┼───────────────┤\n",
       "│ batch_normalization_10          │ (<span style=\"color: #00d7ff; text-decoration-color: #00d7ff\">None</span>, <span style=\"color: #00af00; text-decoration-color: #00af00\">128</span>, <span style=\"color: #00af00; text-decoration-color: #00af00\">128</span>, <span style=\"color: #00af00; text-decoration-color: #00af00\">64</span>)   │           <span style=\"color: #00af00; text-decoration-color: #00af00\">256</span> │\n",
       "│ (<span style=\"color: #0087ff; text-decoration-color: #0087ff\">BatchNormalization</span>)            │                        │               │\n",
       "├─────────────────────────────────┼────────────────────────┼───────────────┤\n",
       "│ max_pooling2d_4 (<span style=\"color: #0087ff; text-decoration-color: #0087ff\">MaxPooling2D</span>)  │ (<span style=\"color: #00d7ff; text-decoration-color: #00d7ff\">None</span>, <span style=\"color: #00af00; text-decoration-color: #00af00\">64</span>, <span style=\"color: #00af00; text-decoration-color: #00af00\">64</span>, <span style=\"color: #00af00; text-decoration-color: #00af00\">64</span>)     │             <span style=\"color: #00af00; text-decoration-color: #00af00\">0</span> │\n",
       "├─────────────────────────────────┼────────────────────────┼───────────────┤\n",
       "│ dropout_5 (<span style=\"color: #0087ff; text-decoration-color: #0087ff\">Dropout</span>)             │ (<span style=\"color: #00d7ff; text-decoration-color: #00d7ff\">None</span>, <span style=\"color: #00af00; text-decoration-color: #00af00\">64</span>, <span style=\"color: #00af00; text-decoration-color: #00af00\">64</span>, <span style=\"color: #00af00; text-decoration-color: #00af00\">64</span>)     │             <span style=\"color: #00af00; text-decoration-color: #00af00\">0</span> │\n",
       "├─────────────────────────────────┼────────────────────────┼───────────────┤\n",
       "│ conv2d_10 (<span style=\"color: #0087ff; text-decoration-color: #0087ff\">Conv2D</span>)              │ (<span style=\"color: #00d7ff; text-decoration-color: #00d7ff\">None</span>, <span style=\"color: #00af00; text-decoration-color: #00af00\">64</span>, <span style=\"color: #00af00; text-decoration-color: #00af00\">64</span>, <span style=\"color: #00af00; text-decoration-color: #00af00\">128</span>)    │        <span style=\"color: #00af00; text-decoration-color: #00af00\">73,856</span> │\n",
       "├─────────────────────────────────┼────────────────────────┼───────────────┤\n",
       "│ batch_normalization_11          │ (<span style=\"color: #00d7ff; text-decoration-color: #00d7ff\">None</span>, <span style=\"color: #00af00; text-decoration-color: #00af00\">64</span>, <span style=\"color: #00af00; text-decoration-color: #00af00\">64</span>, <span style=\"color: #00af00; text-decoration-color: #00af00\">128</span>)    │           <span style=\"color: #00af00; text-decoration-color: #00af00\">512</span> │\n",
       "│ (<span style=\"color: #0087ff; text-decoration-color: #0087ff\">BatchNormalization</span>)            │                        │               │\n",
       "├─────────────────────────────────┼────────────────────────┼───────────────┤\n",
       "│ conv2d_11 (<span style=\"color: #0087ff; text-decoration-color: #0087ff\">Conv2D</span>)              │ (<span style=\"color: #00d7ff; text-decoration-color: #00d7ff\">None</span>, <span style=\"color: #00af00; text-decoration-color: #00af00\">64</span>, <span style=\"color: #00af00; text-decoration-color: #00af00\">64</span>, <span style=\"color: #00af00; text-decoration-color: #00af00\">128</span>)    │       <span style=\"color: #00af00; text-decoration-color: #00af00\">147,584</span> │\n",
       "├─────────────────────────────────┼────────────────────────┼───────────────┤\n",
       "│ batch_normalization_12          │ (<span style=\"color: #00d7ff; text-decoration-color: #00d7ff\">None</span>, <span style=\"color: #00af00; text-decoration-color: #00af00\">64</span>, <span style=\"color: #00af00; text-decoration-color: #00af00\">64</span>, <span style=\"color: #00af00; text-decoration-color: #00af00\">128</span>)    │           <span style=\"color: #00af00; text-decoration-color: #00af00\">512</span> │\n",
       "│ (<span style=\"color: #0087ff; text-decoration-color: #0087ff\">BatchNormalization</span>)            │                        │               │\n",
       "├─────────────────────────────────┼────────────────────────┼───────────────┤\n",
       "│ max_pooling2d_5 (<span style=\"color: #0087ff; text-decoration-color: #0087ff\">MaxPooling2D</span>)  │ (<span style=\"color: #00d7ff; text-decoration-color: #00d7ff\">None</span>, <span style=\"color: #00af00; text-decoration-color: #00af00\">32</span>, <span style=\"color: #00af00; text-decoration-color: #00af00\">32</span>, <span style=\"color: #00af00; text-decoration-color: #00af00\">128</span>)    │             <span style=\"color: #00af00; text-decoration-color: #00af00\">0</span> │\n",
       "├─────────────────────────────────┼────────────────────────┼───────────────┤\n",
       "│ dropout_6 (<span style=\"color: #0087ff; text-decoration-color: #0087ff\">Dropout</span>)             │ (<span style=\"color: #00d7ff; text-decoration-color: #00d7ff\">None</span>, <span style=\"color: #00af00; text-decoration-color: #00af00\">32</span>, <span style=\"color: #00af00; text-decoration-color: #00af00\">32</span>, <span style=\"color: #00af00; text-decoration-color: #00af00\">128</span>)    │             <span style=\"color: #00af00; text-decoration-color: #00af00\">0</span> │\n",
       "├─────────────────────────────────┼────────────────────────┼───────────────┤\n",
       "│ flatten_1 (<span style=\"color: #0087ff; text-decoration-color: #0087ff\">Flatten</span>)             │ (<span style=\"color: #00d7ff; text-decoration-color: #00d7ff\">None</span>, <span style=\"color: #00af00; text-decoration-color: #00af00\">131072</span>)         │             <span style=\"color: #00af00; text-decoration-color: #00af00\">0</span> │\n",
       "├─────────────────────────────────┼────────────────────────┼───────────────┤\n",
       "│ dense_2 (<span style=\"color: #0087ff; text-decoration-color: #0087ff\">Dense</span>)                 │ (<span style=\"color: #00d7ff; text-decoration-color: #00d7ff\">None</span>, <span style=\"color: #00af00; text-decoration-color: #00af00\">512</span>)            │    <span style=\"color: #00af00; text-decoration-color: #00af00\">67,109,376</span> │\n",
       "├─────────────────────────────────┼────────────────────────┼───────────────┤\n",
       "│ batch_normalization_13          │ (<span style=\"color: #00d7ff; text-decoration-color: #00d7ff\">None</span>, <span style=\"color: #00af00; text-decoration-color: #00af00\">512</span>)            │         <span style=\"color: #00af00; text-decoration-color: #00af00\">2,048</span> │\n",
       "│ (<span style=\"color: #0087ff; text-decoration-color: #0087ff\">BatchNormalization</span>)            │                        │               │\n",
       "├─────────────────────────────────┼────────────────────────┼───────────────┤\n",
       "│ dropout_7 (<span style=\"color: #0087ff; text-decoration-color: #0087ff\">Dropout</span>)             │ (<span style=\"color: #00d7ff; text-decoration-color: #00d7ff\">None</span>, <span style=\"color: #00af00; text-decoration-color: #00af00\">512</span>)            │             <span style=\"color: #00af00; text-decoration-color: #00af00\">0</span> │\n",
       "├─────────────────────────────────┼────────────────────────┼───────────────┤\n",
       "│ dense_3 (<span style=\"color: #0087ff; text-decoration-color: #0087ff\">Dense</span>)                 │ (<span style=\"color: #00d7ff; text-decoration-color: #00d7ff\">None</span>, <span style=\"color: #00af00; text-decoration-color: #00af00\">2</span>)              │         <span style=\"color: #00af00; text-decoration-color: #00af00\">1,026</span> │\n",
       "└─────────────────────────────────┴────────────────────────┴───────────────┘\n",
       "</pre>\n"
      ],
      "text/plain": [
       "┏━━━━━━━━━━━━━━━━━━━━━━━━━━━━━━━━━┳━━━━━━━━━━━━━━━━━━━━━━━━┳━━━━━━━━━━━━━━━┓\n",
       "┃\u001b[1m \u001b[0m\u001b[1mLayer (type)                   \u001b[0m\u001b[1m \u001b[0m┃\u001b[1m \u001b[0m\u001b[1mOutput Shape          \u001b[0m\u001b[1m \u001b[0m┃\u001b[1m \u001b[0m\u001b[1m      Param #\u001b[0m\u001b[1m \u001b[0m┃\n",
       "┡━━━━━━━━━━━━━━━━━━━━━━━━━━━━━━━━━╇━━━━━━━━━━━━━━━━━━━━━━━━╇━━━━━━━━━━━━━━━┩\n",
       "│ conv2d_6 (\u001b[38;5;33mConv2D\u001b[0m)               │ (\u001b[38;5;45mNone\u001b[0m, \u001b[38;5;34m256\u001b[0m, \u001b[38;5;34m256\u001b[0m, \u001b[38;5;34m32\u001b[0m)   │           \u001b[38;5;34m320\u001b[0m │\n",
       "├─────────────────────────────────┼────────────────────────┼───────────────┤\n",
       "│ batch_normalization_7           │ (\u001b[38;5;45mNone\u001b[0m, \u001b[38;5;34m256\u001b[0m, \u001b[38;5;34m256\u001b[0m, \u001b[38;5;34m32\u001b[0m)   │           \u001b[38;5;34m128\u001b[0m │\n",
       "│ (\u001b[38;5;33mBatchNormalization\u001b[0m)            │                        │               │\n",
       "├─────────────────────────────────┼────────────────────────┼───────────────┤\n",
       "│ conv2d_7 (\u001b[38;5;33mConv2D\u001b[0m)               │ (\u001b[38;5;45mNone\u001b[0m, \u001b[38;5;34m256\u001b[0m, \u001b[38;5;34m256\u001b[0m, \u001b[38;5;34m32\u001b[0m)   │         \u001b[38;5;34m9,248\u001b[0m │\n",
       "├─────────────────────────────────┼────────────────────────┼───────────────┤\n",
       "│ batch_normalization_8           │ (\u001b[38;5;45mNone\u001b[0m, \u001b[38;5;34m256\u001b[0m, \u001b[38;5;34m256\u001b[0m, \u001b[38;5;34m32\u001b[0m)   │           \u001b[38;5;34m128\u001b[0m │\n",
       "│ (\u001b[38;5;33mBatchNormalization\u001b[0m)            │                        │               │\n",
       "├─────────────────────────────────┼────────────────────────┼───────────────┤\n",
       "│ max_pooling2d_3 (\u001b[38;5;33mMaxPooling2D\u001b[0m)  │ (\u001b[38;5;45mNone\u001b[0m, \u001b[38;5;34m128\u001b[0m, \u001b[38;5;34m128\u001b[0m, \u001b[38;5;34m32\u001b[0m)   │             \u001b[38;5;34m0\u001b[0m │\n",
       "├─────────────────────────────────┼────────────────────────┼───────────────┤\n",
       "│ dropout_4 (\u001b[38;5;33mDropout\u001b[0m)             │ (\u001b[38;5;45mNone\u001b[0m, \u001b[38;5;34m128\u001b[0m, \u001b[38;5;34m128\u001b[0m, \u001b[38;5;34m32\u001b[0m)   │             \u001b[38;5;34m0\u001b[0m │\n",
       "├─────────────────────────────────┼────────────────────────┼───────────────┤\n",
       "│ conv2d_8 (\u001b[38;5;33mConv2D\u001b[0m)               │ (\u001b[38;5;45mNone\u001b[0m, \u001b[38;5;34m128\u001b[0m, \u001b[38;5;34m128\u001b[0m, \u001b[38;5;34m64\u001b[0m)   │        \u001b[38;5;34m18,496\u001b[0m │\n",
       "├─────────────────────────────────┼────────────────────────┼───────────────┤\n",
       "│ batch_normalization_9           │ (\u001b[38;5;45mNone\u001b[0m, \u001b[38;5;34m128\u001b[0m, \u001b[38;5;34m128\u001b[0m, \u001b[38;5;34m64\u001b[0m)   │           \u001b[38;5;34m256\u001b[0m │\n",
       "│ (\u001b[38;5;33mBatchNormalization\u001b[0m)            │                        │               │\n",
       "├─────────────────────────────────┼────────────────────────┼───────────────┤\n",
       "│ conv2d_9 (\u001b[38;5;33mConv2D\u001b[0m)               │ (\u001b[38;5;45mNone\u001b[0m, \u001b[38;5;34m128\u001b[0m, \u001b[38;5;34m128\u001b[0m, \u001b[38;5;34m64\u001b[0m)   │        \u001b[38;5;34m36,928\u001b[0m │\n",
       "├─────────────────────────────────┼────────────────────────┼───────────────┤\n",
       "│ batch_normalization_10          │ (\u001b[38;5;45mNone\u001b[0m, \u001b[38;5;34m128\u001b[0m, \u001b[38;5;34m128\u001b[0m, \u001b[38;5;34m64\u001b[0m)   │           \u001b[38;5;34m256\u001b[0m │\n",
       "│ (\u001b[38;5;33mBatchNormalization\u001b[0m)            │                        │               │\n",
       "├─────────────────────────────────┼────────────────────────┼───────────────┤\n",
       "│ max_pooling2d_4 (\u001b[38;5;33mMaxPooling2D\u001b[0m)  │ (\u001b[38;5;45mNone\u001b[0m, \u001b[38;5;34m64\u001b[0m, \u001b[38;5;34m64\u001b[0m, \u001b[38;5;34m64\u001b[0m)     │             \u001b[38;5;34m0\u001b[0m │\n",
       "├─────────────────────────────────┼────────────────────────┼───────────────┤\n",
       "│ dropout_5 (\u001b[38;5;33mDropout\u001b[0m)             │ (\u001b[38;5;45mNone\u001b[0m, \u001b[38;5;34m64\u001b[0m, \u001b[38;5;34m64\u001b[0m, \u001b[38;5;34m64\u001b[0m)     │             \u001b[38;5;34m0\u001b[0m │\n",
       "├─────────────────────────────────┼────────────────────────┼───────────────┤\n",
       "│ conv2d_10 (\u001b[38;5;33mConv2D\u001b[0m)              │ (\u001b[38;5;45mNone\u001b[0m, \u001b[38;5;34m64\u001b[0m, \u001b[38;5;34m64\u001b[0m, \u001b[38;5;34m128\u001b[0m)    │        \u001b[38;5;34m73,856\u001b[0m │\n",
       "├─────────────────────────────────┼────────────────────────┼───────────────┤\n",
       "│ batch_normalization_11          │ (\u001b[38;5;45mNone\u001b[0m, \u001b[38;5;34m64\u001b[0m, \u001b[38;5;34m64\u001b[0m, \u001b[38;5;34m128\u001b[0m)    │           \u001b[38;5;34m512\u001b[0m │\n",
       "│ (\u001b[38;5;33mBatchNormalization\u001b[0m)            │                        │               │\n",
       "├─────────────────────────────────┼────────────────────────┼───────────────┤\n",
       "│ conv2d_11 (\u001b[38;5;33mConv2D\u001b[0m)              │ (\u001b[38;5;45mNone\u001b[0m, \u001b[38;5;34m64\u001b[0m, \u001b[38;5;34m64\u001b[0m, \u001b[38;5;34m128\u001b[0m)    │       \u001b[38;5;34m147,584\u001b[0m │\n",
       "├─────────────────────────────────┼────────────────────────┼───────────────┤\n",
       "│ batch_normalization_12          │ (\u001b[38;5;45mNone\u001b[0m, \u001b[38;5;34m64\u001b[0m, \u001b[38;5;34m64\u001b[0m, \u001b[38;5;34m128\u001b[0m)    │           \u001b[38;5;34m512\u001b[0m │\n",
       "│ (\u001b[38;5;33mBatchNormalization\u001b[0m)            │                        │               │\n",
       "├─────────────────────────────────┼────────────────────────┼───────────────┤\n",
       "│ max_pooling2d_5 (\u001b[38;5;33mMaxPooling2D\u001b[0m)  │ (\u001b[38;5;45mNone\u001b[0m, \u001b[38;5;34m32\u001b[0m, \u001b[38;5;34m32\u001b[0m, \u001b[38;5;34m128\u001b[0m)    │             \u001b[38;5;34m0\u001b[0m │\n",
       "├─────────────────────────────────┼────────────────────────┼───────────────┤\n",
       "│ dropout_6 (\u001b[38;5;33mDropout\u001b[0m)             │ (\u001b[38;5;45mNone\u001b[0m, \u001b[38;5;34m32\u001b[0m, \u001b[38;5;34m32\u001b[0m, \u001b[38;5;34m128\u001b[0m)    │             \u001b[38;5;34m0\u001b[0m │\n",
       "├─────────────────────────────────┼────────────────────────┼───────────────┤\n",
       "│ flatten_1 (\u001b[38;5;33mFlatten\u001b[0m)             │ (\u001b[38;5;45mNone\u001b[0m, \u001b[38;5;34m131072\u001b[0m)         │             \u001b[38;5;34m0\u001b[0m │\n",
       "├─────────────────────────────────┼────────────────────────┼───────────────┤\n",
       "│ dense_2 (\u001b[38;5;33mDense\u001b[0m)                 │ (\u001b[38;5;45mNone\u001b[0m, \u001b[38;5;34m512\u001b[0m)            │    \u001b[38;5;34m67,109,376\u001b[0m │\n",
       "├─────────────────────────────────┼────────────────────────┼───────────────┤\n",
       "│ batch_normalization_13          │ (\u001b[38;5;45mNone\u001b[0m, \u001b[38;5;34m512\u001b[0m)            │         \u001b[38;5;34m2,048\u001b[0m │\n",
       "│ (\u001b[38;5;33mBatchNormalization\u001b[0m)            │                        │               │\n",
       "├─────────────────────────────────┼────────────────────────┼───────────────┤\n",
       "│ dropout_7 (\u001b[38;5;33mDropout\u001b[0m)             │ (\u001b[38;5;45mNone\u001b[0m, \u001b[38;5;34m512\u001b[0m)            │             \u001b[38;5;34m0\u001b[0m │\n",
       "├─────────────────────────────────┼────────────────────────┼───────────────┤\n",
       "│ dense_3 (\u001b[38;5;33mDense\u001b[0m)                 │ (\u001b[38;5;45mNone\u001b[0m, \u001b[38;5;34m2\u001b[0m)              │         \u001b[38;5;34m1,026\u001b[0m │\n",
       "└─────────────────────────────────┴────────────────────────┴───────────────┘\n"
      ]
     },
     "metadata": {},
     "output_type": "display_data"
    },
    {
     "data": {
      "text/html": [
       "<pre style=\"white-space:pre;overflow-x:auto;line-height:normal;font-family:Menlo,'DejaVu Sans Mono',consolas,'Courier New',monospace\"><span style=\"font-weight: bold\"> Total params: </span><span style=\"color: #00af00; text-decoration-color: #00af00\">67,400,674</span> (257.11 MB)\n",
       "</pre>\n"
      ],
      "text/plain": [
       "\u001b[1m Total params: \u001b[0m\u001b[38;5;34m67,400,674\u001b[0m (257.11 MB)\n"
      ]
     },
     "metadata": {},
     "output_type": "display_data"
    },
    {
     "data": {
      "text/html": [
       "<pre style=\"white-space:pre;overflow-x:auto;line-height:normal;font-family:Menlo,'DejaVu Sans Mono',consolas,'Courier New',monospace\"><span style=\"font-weight: bold\"> Trainable params: </span><span style=\"color: #00af00; text-decoration-color: #00af00\">67,398,754</span> (257.11 MB)\n",
       "</pre>\n"
      ],
      "text/plain": [
       "\u001b[1m Trainable params: \u001b[0m\u001b[38;5;34m67,398,754\u001b[0m (257.11 MB)\n"
      ]
     },
     "metadata": {},
     "output_type": "display_data"
    },
    {
     "data": {
      "text/html": [
       "<pre style=\"white-space:pre;overflow-x:auto;line-height:normal;font-family:Menlo,'DejaVu Sans Mono',consolas,'Courier New',monospace\"><span style=\"font-weight: bold\"> Non-trainable params: </span><span style=\"color: #00af00; text-decoration-color: #00af00\">1,920</span> (7.50 KB)\n",
       "</pre>\n"
      ],
      "text/plain": [
       "\u001b[1m Non-trainable params: \u001b[0m\u001b[38;5;34m1,920\u001b[0m (7.50 KB)\n"
      ]
     },
     "metadata": {},
     "output_type": "display_data"
    }
   ],
   "source": [
    "model.summary()"
   ]
  },
  {
   "cell_type": "code",
   "execution_count": 28,
   "id": "682b17b0",
   "metadata": {
    "execution": {
     "iopub.execute_input": "2024-12-29T08:02:32.422045Z",
     "iopub.status.busy": "2024-12-29T08:02:32.421608Z",
     "iopub.status.idle": "2024-12-29T08:02:32.426481Z",
     "shell.execute_reply": "2024-12-29T08:02:32.425549Z"
    },
    "papermill": {
     "duration": 0.374587,
     "end_time": "2024-12-29T08:02:32.428136",
     "exception": false,
     "start_time": "2024-12-29T08:02:32.053549",
     "status": "completed"
    },
    "tags": []
   },
   "outputs": [],
   "source": [
    "lr_schedule = tf.keras.optimizers.schedules.ExponentialDecay(\n",
    "    initial_learning_rate=0.0001,\n",
    "    decay_steps=10000,\n",
    "    decay_rate=0.96,\n",
    "    staircase=True)"
   ]
  },
  {
   "cell_type": "code",
   "execution_count": 29,
   "id": "4471ca60",
   "metadata": {
    "execution": {
     "iopub.execute_input": "2024-12-29T08:02:33.083714Z",
     "iopub.status.busy": "2024-12-29T08:02:33.083358Z",
     "iopub.status.idle": "2024-12-29T08:02:33.088567Z",
     "shell.execute_reply": "2024-12-29T08:02:33.087644Z"
    },
    "papermill": {
     "duration": 0.318183,
     "end_time": "2024-12-29T08:02:33.090291",
     "exception": false,
     "start_time": "2024-12-29T08:02:32.772108",
     "status": "completed"
    },
    "tags": []
   },
   "outputs": [],
   "source": [
    "# Callbacks\n",
    "checkpoint = ModelCheckpoint(\n",
    "    'simple_CNN_mouth_modelV6_3.keras',  # Changed to .keras\n",
    "    monitor='val_accuracy',\n",
    "    save_best_only=True,\n",
    "    mode='max',\n",
    "    verbose=1\n",
    ")\n",
    "\n",
    "early_stopping = EarlyStopping(\n",
    "    monitor='val_accuracy',\n",
    "    patience=40,\n",
    "    restore_best_weights=True\n",
    ")"
   ]
  },
  {
   "cell_type": "markdown",
   "id": "6e0eef5f",
   "metadata": {
    "papermill": {
     "duration": 0.350018,
     "end_time": "2024-12-29T08:02:33.745906",
     "exception": false,
     "start_time": "2024-12-29T08:02:33.395888",
     "status": "completed"
    },
    "tags": []
   },
   "source": [
    "## 2. Compile model 2"
   ]
  },
  {
   "cell_type": "code",
   "execution_count": 30,
   "id": "8fa1e186",
   "metadata": {
    "execution": {
     "iopub.execute_input": "2024-12-29T08:02:34.367084Z",
     "iopub.status.busy": "2024-12-29T08:02:34.366722Z",
     "iopub.status.idle": "2024-12-29T08:02:34.374995Z",
     "shell.execute_reply": "2024-12-29T08:02:34.374152Z"
    },
    "papermill": {
     "duration": 0.321214,
     "end_time": "2024-12-29T08:02:34.376680",
     "exception": false,
     "start_time": "2024-12-29T08:02:34.055466",
     "status": "completed"
    },
    "tags": []
   },
   "outputs": [],
   "source": [
    "# Compile Model\n",
    "with tf.device('/device:GPU:0'):\n",
    "    model.compile(optimizer=tf.keras.optimizers.Adam(learning_rate=lr_schedule),\n",
    "                  loss='categorical_crossentropy',  # Changed to categorical_crossentropy\n",
    "                  metrics=['accuracy'])"
   ]
  },
  {
   "cell_type": "markdown",
   "id": "305d6e40",
   "metadata": {
    "papermill": {
     "duration": 0.306717,
     "end_time": "2024-12-29T08:02:35.025864",
     "exception": false,
     "start_time": "2024-12-29T08:02:34.719147",
     "status": "completed"
    },
    "tags": []
   },
   "source": [
    "## 3. Training model"
   ]
  },
  {
   "cell_type": "code",
   "execution_count": 31,
   "id": "c2b01adb",
   "metadata": {
    "execution": {
     "iopub.execute_input": "2024-12-29T08:02:35.674967Z",
     "iopub.status.busy": "2024-12-29T08:02:35.674591Z",
     "iopub.status.idle": "2024-12-29T08:19:20.995893Z",
     "shell.execute_reply": "2024-12-29T08:19:20.994899Z"
    },
    "papermill": {
     "duration": 1005.669768,
     "end_time": "2024-12-29T08:19:20.998115",
     "exception": false,
     "start_time": "2024-12-29T08:02:35.328347",
     "status": "completed"
    },
    "tags": []
   },
   "outputs": [
    {
     "name": "stdout",
     "output_type": "stream",
     "text": [
      "Epoch 1/100\n"
     ]
    },
    {
     "name": "stderr",
     "output_type": "stream",
     "text": [
      "/opt/conda/lib/python3.10/site-packages/keras/src/trainers/data_adapters/py_dataset_adapter.py:121: UserWarning: Your `PyDataset` class should call `super().__init__(**kwargs)` in its constructor. `**kwargs` can include `workers`, `use_multiprocessing`, `max_queue_size`. Do not pass these arguments to `fit()`, as they will be ignored.\n",
      "  self._warn_if_super_not_called()\n"
     ]
    },
    {
     "name": "stdout",
     "output_type": "stream",
     "text": [
      "\u001b[1m269/270\u001b[0m \u001b[32m━━━━━━━━━━━━━━━━━━━\u001b[0m\u001b[37m━\u001b[0m \u001b[1m0s\u001b[0m 116ms/step - accuracy: 0.8311 - loss: 0.5244\n",
      "Epoch 1: val_accuracy improved from -inf to 0.51587, saving model to simple_CNN_mouth_modelV6_3.keras\n",
      "\u001b[1m270/270\u001b[0m \u001b[32m━━━━━━━━━━━━━━━━━━━━\u001b[0m\u001b[37m\u001b[0m \u001b[1m57s\u001b[0m 152ms/step - accuracy: 0.8313 - loss: 0.5237 - val_accuracy: 0.5159 - val_loss: 9.4706\n",
      "Epoch 2/100\n",
      "\u001b[1m270/270\u001b[0m \u001b[32m━━━━━━━━━━━━━━━━━━━━\u001b[0m\u001b[37m\u001b[0m \u001b[1m0s\u001b[0m 46ms/step - accuracy: 0.8937 - loss: 0.2770\n",
      "Epoch 2: val_accuracy did not improve from 0.51587\n",
      "\u001b[1m270/270\u001b[0m \u001b[32m━━━━━━━━━━━━━━━━━━━━\u001b[0m\u001b[37m\u001b[0m \u001b[1m14s\u001b[0m 50ms/step - accuracy: 0.8937 - loss: 0.2771 - val_accuracy: 0.5159 - val_loss: 19.8929\n",
      "Epoch 3/100\n",
      "\u001b[1m269/270\u001b[0m \u001b[32m━━━━━━━━━━━━━━━━━━━\u001b[0m\u001b[37m━\u001b[0m \u001b[1m0s\u001b[0m 46ms/step - accuracy: 0.9118 - loss: 0.2238\n",
      "Epoch 3: val_accuracy improved from 0.51587 to 0.74717, saving model to simple_CNN_mouth_modelV6_3.keras\n",
      "\u001b[1m270/270\u001b[0m \u001b[32m━━━━━━━━━━━━━━━━━━━━\u001b[0m\u001b[37m\u001b[0m \u001b[1m18s\u001b[0m 65ms/step - accuracy: 0.9118 - loss: 0.2237 - val_accuracy: 0.7472 - val_loss: 3.5830\n",
      "Epoch 4/100\n",
      "\u001b[1m270/270\u001b[0m \u001b[32m━━━━━━━━━━━━━━━━━━━━\u001b[0m\u001b[37m\u001b[0m \u001b[1m0s\u001b[0m 48ms/step - accuracy: 0.9418 - loss: 0.1845\n",
      "Epoch 4: val_accuracy improved from 0.74717 to 0.92290, saving model to simple_CNN_mouth_modelV6_3.keras\n",
      "\u001b[1m270/270\u001b[0m \u001b[32m━━━━━━━━━━━━━━━━━━━━\u001b[0m\u001b[37m\u001b[0m \u001b[1m19s\u001b[0m 72ms/step - accuracy: 0.9418 - loss: 0.1845 - val_accuracy: 0.9229 - val_loss: 0.4131\n",
      "Epoch 5/100\n",
      "\u001b[1m270/270\u001b[0m \u001b[32m━━━━━━━━━━━━━━━━━━━━\u001b[0m\u001b[37m\u001b[0m \u001b[1m0s\u001b[0m 46ms/step - accuracy: 0.9453 - loss: 0.1562\n",
      "Epoch 5: val_accuracy did not improve from 0.92290\n",
      "\u001b[1m270/270\u001b[0m \u001b[32m━━━━━━━━━━━━━━━━━━━━\u001b[0m\u001b[37m\u001b[0m \u001b[1m14s\u001b[0m 50ms/step - accuracy: 0.9453 - loss: 0.1562 - val_accuracy: 0.9036 - val_loss: 0.9613\n",
      "Epoch 6/100\n",
      "\u001b[1m270/270\u001b[0m \u001b[32m━━━━━━━━━━━━━━━━━━━━\u001b[0m\u001b[37m\u001b[0m \u001b[1m0s\u001b[0m 48ms/step - accuracy: 0.9567 - loss: 0.1329\n",
      "Epoch 6: val_accuracy did not improve from 0.92290\n",
      "\u001b[1m270/270\u001b[0m \u001b[32m━━━━━━━━━━━━━━━━━━━━\u001b[0m\u001b[37m\u001b[0m \u001b[1m15s\u001b[0m 54ms/step - accuracy: 0.9567 - loss: 0.1329 - val_accuracy: 0.8957 - val_loss: 1.5413\n",
      "Epoch 7/100\n",
      "\u001b[1m270/270\u001b[0m \u001b[32m━━━━━━━━━━━━━━━━━━━━\u001b[0m\u001b[37m\u001b[0m \u001b[1m0s\u001b[0m 48ms/step - accuracy: 0.9605 - loss: 0.0999\n",
      "Epoch 7: val_accuracy did not improve from 0.92290\n",
      "\u001b[1m270/270\u001b[0m \u001b[32m━━━━━━━━━━━━━━━━━━━━\u001b[0m\u001b[37m\u001b[0m \u001b[1m16s\u001b[0m 60ms/step - accuracy: 0.9605 - loss: 0.0999 - val_accuracy: 0.9104 - val_loss: 0.8862\n",
      "Epoch 8/100\n",
      "\u001b[1m269/270\u001b[0m \u001b[32m━━━━━━━━━━━━━━━━━━━\u001b[0m\u001b[37m━\u001b[0m \u001b[1m0s\u001b[0m 51ms/step - accuracy: 0.9603 - loss: 0.1136\n",
      "Epoch 8: val_accuracy did not improve from 0.92290\n",
      "\u001b[1m270/270\u001b[0m \u001b[32m━━━━━━━━━━━━━━━━━━━━\u001b[0m\u001b[37m\u001b[0m \u001b[1m15s\u001b[0m 54ms/step - accuracy: 0.9603 - loss: 0.1137 - val_accuracy: 0.8889 - val_loss: 1.4706\n",
      "Epoch 9/100\n",
      "\u001b[1m270/270\u001b[0m \u001b[32m━━━━━━━━━━━━━━━━━━━━\u001b[0m\u001b[37m\u001b[0m \u001b[1m0s\u001b[0m 56ms/step - accuracy: 0.9655 - loss: 0.0947\n",
      "Epoch 9: val_accuracy improved from 0.92290 to 0.94104, saving model to simple_CNN_mouth_modelV6_3.keras\n",
      "\u001b[1m270/270\u001b[0m \u001b[32m━━━━━━━━━━━━━━━━━━━━\u001b[0m\u001b[37m\u001b[0m \u001b[1m20s\u001b[0m 75ms/step - accuracy: 0.9655 - loss: 0.0947 - val_accuracy: 0.9410 - val_loss: 0.1402\n",
      "Epoch 10/100\n",
      "\u001b[1m270/270\u001b[0m \u001b[32m━━━━━━━━━━━━━━━━━━━━\u001b[0m\u001b[37m\u001b[0m \u001b[1m0s\u001b[0m 47ms/step - accuracy: 0.9767 - loss: 0.0767\n",
      "Epoch 10: val_accuracy improved from 0.94104 to 0.94331, saving model to simple_CNN_mouth_modelV6_3.keras\n",
      "\u001b[1m270/270\u001b[0m \u001b[32m━━━━━━━━━━━━━━━━━━━━\u001b[0m\u001b[37m\u001b[0m \u001b[1m18s\u001b[0m 66ms/step - accuracy: 0.9767 - loss: 0.0767 - val_accuracy: 0.9433 - val_loss: 0.5747\n",
      "Epoch 11/100\n",
      "\u001b[1m269/270\u001b[0m \u001b[32m━━━━━━━━━━━━━━━━━━━\u001b[0m\u001b[37m━\u001b[0m \u001b[1m0s\u001b[0m 47ms/step - accuracy: 0.9709 - loss: 0.0777\n",
      "Epoch 11: val_accuracy did not improve from 0.94331\n",
      "\u001b[1m270/270\u001b[0m \u001b[32m━━━━━━━━━━━━━━━━━━━━\u001b[0m\u001b[37m\u001b[0m \u001b[1m14s\u001b[0m 51ms/step - accuracy: 0.9709 - loss: 0.0778 - val_accuracy: 0.9331 - val_loss: 0.3791\n",
      "Epoch 12/100\n",
      "\u001b[1m269/270\u001b[0m \u001b[32m━━━━━━━━━━━━━━━━━━━\u001b[0m\u001b[37m━\u001b[0m \u001b[1m0s\u001b[0m 46ms/step - accuracy: 0.9754 - loss: 0.0687\n",
      "Epoch 12: val_accuracy did not improve from 0.94331\n",
      "\u001b[1m270/270\u001b[0m \u001b[32m━━━━━━━━━━━━━━━━━━━━\u001b[0m\u001b[37m\u001b[0m \u001b[1m14s\u001b[0m 50ms/step - accuracy: 0.9754 - loss: 0.0687 - val_accuracy: 0.8345 - val_loss: 2.6206\n",
      "Epoch 13/100\n",
      "\u001b[1m270/270\u001b[0m \u001b[32m━━━━━━━━━━━━━━━━━━━━\u001b[0m\u001b[37m\u001b[0m \u001b[1m0s\u001b[0m 46ms/step - accuracy: 0.9796 - loss: 0.0639\n",
      "Epoch 13: val_accuracy did not improve from 0.94331\n",
      "\u001b[1m270/270\u001b[0m \u001b[32m━━━━━━━━━━━━━━━━━━━━\u001b[0m\u001b[37m\u001b[0m \u001b[1m14s\u001b[0m 50ms/step - accuracy: 0.9796 - loss: 0.0640 - val_accuracy: 0.8923 - val_loss: 0.4638\n",
      "Epoch 14/100\n",
      "\u001b[1m269/270\u001b[0m \u001b[32m━━━━━━━━━━━━━━━━━━━\u001b[0m\u001b[37m━\u001b[0m \u001b[1m0s\u001b[0m 46ms/step - accuracy: 0.9600 - loss: 0.1063\n",
      "Epoch 14: val_accuracy did not improve from 0.94331\n",
      "\u001b[1m270/270\u001b[0m \u001b[32m━━━━━━━━━━━━━━━━━━━━\u001b[0m\u001b[37m\u001b[0m \u001b[1m14s\u001b[0m 50ms/step - accuracy: 0.9600 - loss: 0.1064 - val_accuracy: 0.8605 - val_loss: 0.4129\n",
      "Epoch 15/100\n",
      "\u001b[1m269/270\u001b[0m \u001b[32m━━━━━━━━━━━━━━━━━━━\u001b[0m\u001b[37m━\u001b[0m \u001b[1m0s\u001b[0m 46ms/step - accuracy: 0.9676 - loss: 0.1034\n",
      "Epoch 15: val_accuracy did not improve from 0.94331\n",
      "\u001b[1m270/270\u001b[0m \u001b[32m━━━━━━━━━━━━━━━━━━━━\u001b[0m\u001b[37m\u001b[0m \u001b[1m14s\u001b[0m 50ms/step - accuracy: 0.9676 - loss: 0.1033 - val_accuracy: 0.9014 - val_loss: 0.5021\n",
      "Epoch 16/100\n",
      "\u001b[1m269/270\u001b[0m \u001b[32m━━━━━━━━━━━━━━━━━━━\u001b[0m\u001b[37m━\u001b[0m \u001b[1m0s\u001b[0m 46ms/step - accuracy: 0.9750 - loss: 0.0686\n",
      "Epoch 16: val_accuracy improved from 0.94331 to 0.95578, saving model to simple_CNN_mouth_modelV6_3.keras\n",
      "\u001b[1m270/270\u001b[0m \u001b[32m━━━━━━━━━━━━━━━━━━━━\u001b[0m\u001b[37m\u001b[0m \u001b[1m18s\u001b[0m 65ms/step - accuracy: 0.9750 - loss: 0.0686 - val_accuracy: 0.9558 - val_loss: 0.1463\n",
      "Epoch 17/100\n",
      "\u001b[1m269/270\u001b[0m \u001b[32m━━━━━━━━━━━━━━━━━━━\u001b[0m\u001b[37m━\u001b[0m \u001b[1m0s\u001b[0m 46ms/step - accuracy: 0.9787 - loss: 0.0645\n",
      "Epoch 17: val_accuracy did not improve from 0.95578\n",
      "\u001b[1m270/270\u001b[0m \u001b[32m━━━━━━━━━━━━━━━━━━━━\u001b[0m\u001b[37m\u001b[0m \u001b[1m14s\u001b[0m 50ms/step - accuracy: 0.9787 - loss: 0.0645 - val_accuracy: 0.9308 - val_loss: 0.2821\n",
      "Epoch 18/100\n",
      "\u001b[1m269/270\u001b[0m \u001b[32m━━━━━━━━━━━━━━━━━━━\u001b[0m\u001b[37m━\u001b[0m \u001b[1m0s\u001b[0m 46ms/step - accuracy: 0.9800 - loss: 0.0517\n",
      "Epoch 18: val_accuracy did not improve from 0.95578\n",
      "\u001b[1m270/270\u001b[0m \u001b[32m━━━━━━━━━━━━━━━━━━━━\u001b[0m\u001b[37m\u001b[0m \u001b[1m14s\u001b[0m 50ms/step - accuracy: 0.9800 - loss: 0.0520 - val_accuracy: 0.8855 - val_loss: 1.3533\n",
      "Epoch 19/100\n",
      "\u001b[1m269/270\u001b[0m \u001b[32m━━━━━━━━━━━━━━━━━━━\u001b[0m\u001b[37m━\u001b[0m \u001b[1m0s\u001b[0m 46ms/step - accuracy: 0.9613 - loss: 0.1104\n",
      "Epoch 19: val_accuracy did not improve from 0.95578\n",
      "\u001b[1m270/270\u001b[0m \u001b[32m━━━━━━━━━━━━━━━━━━━━\u001b[0m\u001b[37m\u001b[0m \u001b[1m14s\u001b[0m 50ms/step - accuracy: 0.9613 - loss: 0.1106 - val_accuracy: 0.9433 - val_loss: 0.1724\n",
      "Epoch 20/100\n",
      "\u001b[1m269/270\u001b[0m \u001b[32m━━━━━━━━━━━━━━━━━━━\u001b[0m\u001b[37m━\u001b[0m \u001b[1m0s\u001b[0m 46ms/step - accuracy: 0.9701 - loss: 0.0864\n",
      "Epoch 20: val_accuracy improved from 0.95578 to 0.96145, saving model to simple_CNN_mouth_modelV6_3.keras\n",
      "\u001b[1m270/270\u001b[0m \u001b[32m━━━━━━━━━━━━━━━━━━━━\u001b[0m\u001b[37m\u001b[0m \u001b[1m18s\u001b[0m 66ms/step - accuracy: 0.9702 - loss: 0.0864 - val_accuracy: 0.9615 - val_loss: 0.1127\n",
      "Epoch 21/100\n",
      "\u001b[1m269/270\u001b[0m \u001b[32m━━━━━━━━━━━━━━━━━━━\u001b[0m\u001b[37m━\u001b[0m \u001b[1m0s\u001b[0m 46ms/step - accuracy: 0.9826 - loss: 0.0513\n",
      "Epoch 21: val_accuracy improved from 0.96145 to 0.96599, saving model to simple_CNN_mouth_modelV6_3.keras\n",
      "\u001b[1m270/270\u001b[0m \u001b[32m━━━━━━━━━━━━━━━━━━━━\u001b[0m\u001b[37m\u001b[0m \u001b[1m18s\u001b[0m 66ms/step - accuracy: 0.9826 - loss: 0.0513 - val_accuracy: 0.9660 - val_loss: 0.1405\n",
      "Epoch 22/100\n",
      "\u001b[1m270/270\u001b[0m \u001b[32m━━━━━━━━━━━━━━━━━━━━\u001b[0m\u001b[37m\u001b[0m \u001b[1m0s\u001b[0m 46ms/step - accuracy: 0.9807 - loss: 0.0506\n",
      "Epoch 22: val_accuracy did not improve from 0.96599\n",
      "\u001b[1m270/270\u001b[0m \u001b[32m━━━━━━━━━━━━━━━━━━━━\u001b[0m\u001b[37m\u001b[0m \u001b[1m14s\u001b[0m 50ms/step - accuracy: 0.9806 - loss: 0.0507 - val_accuracy: 0.9501 - val_loss: 0.1674\n",
      "Epoch 23/100\n",
      "\u001b[1m269/270\u001b[0m \u001b[32m━━━━━━━━━━━━━━━━━━━\u001b[0m\u001b[37m━\u001b[0m \u001b[1m0s\u001b[0m 47ms/step - accuracy: 0.9740 - loss: 0.0745\n",
      "Epoch 23: val_accuracy did not improve from 0.96599\n",
      "\u001b[1m270/270\u001b[0m \u001b[32m━━━━━━━━━━━━━━━━━━━━\u001b[0m\u001b[37m\u001b[0m \u001b[1m14s\u001b[0m 51ms/step - accuracy: 0.9740 - loss: 0.0745 - val_accuracy: 0.9649 - val_loss: 0.0992\n",
      "Epoch 24/100\n",
      "\u001b[1m269/270\u001b[0m \u001b[32m━━━━━━━━━━━━━━━━━━━\u001b[0m\u001b[37m━\u001b[0m \u001b[1m0s\u001b[0m 47ms/step - accuracy: 0.9828 - loss: 0.0503\n",
      "Epoch 24: val_accuracy did not improve from 0.96599\n",
      "\u001b[1m270/270\u001b[0m \u001b[32m━━━━━━━━━━━━━━━━━━━━\u001b[0m\u001b[37m\u001b[0m \u001b[1m14s\u001b[0m 51ms/step - accuracy: 0.9828 - loss: 0.0503 - val_accuracy: 0.9603 - val_loss: 0.1326\n",
      "Epoch 25/100\n",
      "\u001b[1m269/270\u001b[0m \u001b[32m━━━━━━━━━━━━━━━━━━━\u001b[0m\u001b[37m━\u001b[0m \u001b[1m0s\u001b[0m 47ms/step - accuracy: 0.9827 - loss: 0.0453\n",
      "Epoch 25: val_accuracy improved from 0.96599 to 0.96825, saving model to simple_CNN_mouth_modelV6_3.keras\n",
      "\u001b[1m270/270\u001b[0m \u001b[32m━━━━━━━━━━━━━━━━━━━━\u001b[0m\u001b[37m\u001b[0m \u001b[1m18s\u001b[0m 66ms/step - accuracy: 0.9828 - loss: 0.0453 - val_accuracy: 0.9683 - val_loss: 0.0833\n",
      "Epoch 26/100\n",
      "\u001b[1m269/270\u001b[0m \u001b[32m━━━━━━━━━━━━━━━━━━━\u001b[0m\u001b[37m━\u001b[0m \u001b[1m0s\u001b[0m 46ms/step - accuracy: 0.9910 - loss: 0.0294\n",
      "Epoch 26: val_accuracy did not improve from 0.96825\n",
      "\u001b[1m270/270\u001b[0m \u001b[32m━━━━━━━━━━━━━━━━━━━━\u001b[0m\u001b[37m\u001b[0m \u001b[1m14s\u001b[0m 50ms/step - accuracy: 0.9910 - loss: 0.0294 - val_accuracy: 0.9535 - val_loss: 0.1395\n",
      "Epoch 27/100\n",
      "\u001b[1m269/270\u001b[0m \u001b[32m━━━━━━━━━━━━━━━━━━━\u001b[0m\u001b[37m━\u001b[0m \u001b[1m0s\u001b[0m 46ms/step - accuracy: 0.9878 - loss: 0.0418\n",
      "Epoch 27: val_accuracy improved from 0.96825 to 0.97732, saving model to simple_CNN_mouth_modelV6_3.keras\n",
      "\u001b[1m270/270\u001b[0m \u001b[32m━━━━━━━━━━━━━━━━━━━━\u001b[0m\u001b[37m\u001b[0m \u001b[1m18s\u001b[0m 65ms/step - accuracy: 0.9878 - loss: 0.0418 - val_accuracy: 0.9773 - val_loss: 0.1115\n",
      "Epoch 28/100\n",
      "\u001b[1m269/270\u001b[0m \u001b[32m━━━━━━━━━━━━━━━━━━━\u001b[0m\u001b[37m━\u001b[0m \u001b[1m0s\u001b[0m 46ms/step - accuracy: 0.9875 - loss: 0.0334\n",
      "Epoch 28: val_accuracy did not improve from 0.97732\n",
      "\u001b[1m270/270\u001b[0m \u001b[32m━━━━━━━━━━━━━━━━━━━━\u001b[0m\u001b[37m\u001b[0m \u001b[1m13s\u001b[0m 49ms/step - accuracy: 0.9875 - loss: 0.0335 - val_accuracy: 0.9626 - val_loss: 0.2181\n",
      "Epoch 29/100\n",
      "\u001b[1m270/270\u001b[0m \u001b[32m━━━━━━━━━━━━━━━━━━━━\u001b[0m\u001b[37m\u001b[0m \u001b[1m0s\u001b[0m 46ms/step - accuracy: 0.9836 - loss: 0.0447\n",
      "Epoch 29: val_accuracy did not improve from 0.97732\n",
      "\u001b[1m270/270\u001b[0m \u001b[32m━━━━━━━━━━━━━━━━━━━━\u001b[0m\u001b[37m\u001b[0m \u001b[1m14s\u001b[0m 50ms/step - accuracy: 0.9836 - loss: 0.0447 - val_accuracy: 0.9660 - val_loss: 0.2893\n",
      "Epoch 30/100\n",
      "\u001b[1m269/270\u001b[0m \u001b[32m━━━━━━━━━━━━━━━━━━━\u001b[0m\u001b[37m━\u001b[0m \u001b[1m0s\u001b[0m 48ms/step - accuracy: 0.9908 - loss: 0.0224\n",
      "Epoch 30: val_accuracy did not improve from 0.97732\n",
      "\u001b[1m270/270\u001b[0m \u001b[32m━━━━━━━━━━━━━━━━━━━━\u001b[0m\u001b[37m\u001b[0m \u001b[1m14s\u001b[0m 51ms/step - accuracy: 0.9908 - loss: 0.0224 - val_accuracy: 0.8027 - val_loss: 1.7034\n",
      "Epoch 31/100\n",
      "\u001b[1m269/270\u001b[0m \u001b[32m━━━━━━━━━━━━━━━━━━━\u001b[0m\u001b[37m━\u001b[0m \u001b[1m0s\u001b[0m 46ms/step - accuracy: 0.9798 - loss: 0.0560\n",
      "Epoch 31: val_accuracy did not improve from 0.97732\n",
      "\u001b[1m270/270\u001b[0m \u001b[32m━━━━━━━━━━━━━━━━━━━━\u001b[0m\u001b[37m\u001b[0m \u001b[1m14s\u001b[0m 50ms/step - accuracy: 0.9798 - loss: 0.0560 - val_accuracy: 0.9626 - val_loss: 0.1006\n",
      "Epoch 32/100\n",
      "\u001b[1m269/270\u001b[0m \u001b[32m━━━━━━━━━━━━━━━━━━━\u001b[0m\u001b[37m━\u001b[0m \u001b[1m0s\u001b[0m 46ms/step - accuracy: 0.9872 - loss: 0.0391\n",
      "Epoch 32: val_accuracy did not improve from 0.97732\n",
      "\u001b[1m270/270\u001b[0m \u001b[32m━━━━━━━━━━━━━━━━━━━━\u001b[0m\u001b[37m\u001b[0m \u001b[1m14s\u001b[0m 50ms/step - accuracy: 0.9871 - loss: 0.0391 - val_accuracy: 0.9751 - val_loss: 0.1005\n",
      "Epoch 33/100\n",
      "\u001b[1m270/270\u001b[0m \u001b[32m━━━━━━━━━━━━━━━━━━━━\u001b[0m\u001b[37m\u001b[0m \u001b[1m0s\u001b[0m 46ms/step - accuracy: 0.9879 - loss: 0.0414\n",
      "Epoch 33: val_accuracy did not improve from 0.97732\n",
      "\u001b[1m270/270\u001b[0m \u001b[32m━━━━━━━━━━━━━━━━━━━━\u001b[0m\u001b[37m\u001b[0m \u001b[1m14s\u001b[0m 50ms/step - accuracy: 0.9879 - loss: 0.0414 - val_accuracy: 0.9660 - val_loss: 0.1729\n",
      "Epoch 34/100\n",
      "\u001b[1m269/270\u001b[0m \u001b[32m━━━━━━━━━━━━━━━━━━━\u001b[0m\u001b[37m━\u001b[0m \u001b[1m0s\u001b[0m 46ms/step - accuracy: 0.9893 - loss: 0.0336\n",
      "Epoch 34: val_accuracy did not improve from 0.97732\n",
      "\u001b[1m270/270\u001b[0m \u001b[32m━━━━━━━━━━━━━━━━━━━━\u001b[0m\u001b[37m\u001b[0m \u001b[1m14s\u001b[0m 50ms/step - accuracy: 0.9893 - loss: 0.0337 - val_accuracy: 0.9218 - val_loss: 0.3179\n",
      "Epoch 35/100\n",
      "\u001b[1m270/270\u001b[0m \u001b[32m━━━━━━━━━━━━━━━━━━━━\u001b[0m\u001b[37m\u001b[0m \u001b[1m0s\u001b[0m 46ms/step - accuracy: 0.9812 - loss: 0.0552\n",
      "Epoch 35: val_accuracy did not improve from 0.97732\n",
      "\u001b[1m270/270\u001b[0m \u001b[32m━━━━━━━━━━━━━━━━━━━━\u001b[0m\u001b[37m\u001b[0m \u001b[1m14s\u001b[0m 50ms/step - accuracy: 0.9812 - loss: 0.0552 - val_accuracy: 0.9626 - val_loss: 0.1889\n",
      "Epoch 36/100\n",
      "\u001b[1m269/270\u001b[0m \u001b[32m━━━━━━━━━━━━━━━━━━━\u001b[0m\u001b[37m━\u001b[0m \u001b[1m0s\u001b[0m 46ms/step - accuracy: 0.9904 - loss: 0.0277\n",
      "Epoch 36: val_accuracy did not improve from 0.97732\n",
      "\u001b[1m270/270\u001b[0m \u001b[32m━━━━━━━━━━━━━━━━━━━━\u001b[0m\u001b[37m\u001b[0m \u001b[1m14s\u001b[0m 50ms/step - accuracy: 0.9904 - loss: 0.0277 - val_accuracy: 0.9660 - val_loss: 0.1542\n",
      "Epoch 37/100\n",
      "\u001b[1m269/270\u001b[0m \u001b[32m━━━━━━━━━━━━━━━━━━━\u001b[0m\u001b[37m━\u001b[0m \u001b[1m0s\u001b[0m 46ms/step - accuracy: 0.9928 - loss: 0.0193\n",
      "Epoch 37: val_accuracy did not improve from 0.97732\n",
      "\u001b[1m270/270\u001b[0m \u001b[32m━━━━━━━━━━━━━━━━━━━━\u001b[0m\u001b[37m\u001b[0m \u001b[1m14s\u001b[0m 50ms/step - accuracy: 0.9927 - loss: 0.0193 - val_accuracy: 0.9739 - val_loss: 0.1207\n",
      "Epoch 38/100\n",
      "\u001b[1m269/270\u001b[0m \u001b[32m━━━━━━━━━━━━━━━━━━━\u001b[0m\u001b[37m━\u001b[0m \u001b[1m0s\u001b[0m 46ms/step - accuracy: 0.9934 - loss: 0.0180\n",
      "Epoch 38: val_accuracy did not improve from 0.97732\n",
      "\u001b[1m270/270\u001b[0m \u001b[32m━━━━━━━━━━━━━━━━━━━━\u001b[0m\u001b[37m\u001b[0m \u001b[1m14s\u001b[0m 50ms/step - accuracy: 0.9933 - loss: 0.0181 - val_accuracy: 0.9717 - val_loss: 0.1211\n",
      "Epoch 39/100\n",
      "\u001b[1m269/270\u001b[0m \u001b[32m━━━━━━━━━━━━━━━━━━━\u001b[0m\u001b[37m━\u001b[0m \u001b[1m0s\u001b[0m 46ms/step - accuracy: 0.9811 - loss: 0.0686\n",
      "Epoch 39: val_accuracy did not improve from 0.97732\n",
      "\u001b[1m270/270\u001b[0m \u001b[32m━━━━━━━━━━━━━━━━━━━━\u001b[0m\u001b[37m\u001b[0m \u001b[1m13s\u001b[0m 49ms/step - accuracy: 0.9811 - loss: 0.0685 - val_accuracy: 0.9569 - val_loss: 0.1604\n",
      "Epoch 40/100\n",
      "\u001b[1m269/270\u001b[0m \u001b[32m━━━━━━━━━━━━━━━━━━━\u001b[0m\u001b[37m━\u001b[0m \u001b[1m0s\u001b[0m 46ms/step - accuracy: 0.9884 - loss: 0.0381\n",
      "Epoch 40: val_accuracy did not improve from 0.97732\n",
      "\u001b[1m270/270\u001b[0m \u001b[32m━━━━━━━━━━━━━━━━━━━━\u001b[0m\u001b[37m\u001b[0m \u001b[1m13s\u001b[0m 49ms/step - accuracy: 0.9884 - loss: 0.0381 - val_accuracy: 0.9705 - val_loss: 0.1237\n",
      "Epoch 41/100\n",
      "\u001b[1m269/270\u001b[0m \u001b[32m━━━━━━━━━━━━━━━━━━━\u001b[0m\u001b[37m━\u001b[0m \u001b[1m0s\u001b[0m 46ms/step - accuracy: 0.9922 - loss: 0.0266\n",
      "Epoch 41: val_accuracy did not improve from 0.97732\n",
      "\u001b[1m270/270\u001b[0m \u001b[32m━━━━━━━━━━━━━━━━━━━━\u001b[0m\u001b[37m\u001b[0m \u001b[1m13s\u001b[0m 49ms/step - accuracy: 0.9922 - loss: 0.0265 - val_accuracy: 0.9717 - val_loss: 0.1597\n",
      "Epoch 42/100\n",
      "\u001b[1m269/270\u001b[0m \u001b[32m━━━━━━━━━━━━━━━━━━━\u001b[0m\u001b[37m━\u001b[0m \u001b[1m0s\u001b[0m 46ms/step - accuracy: 0.9941 - loss: 0.0162\n",
      "Epoch 42: val_accuracy did not improve from 0.97732\n",
      "\u001b[1m270/270\u001b[0m \u001b[32m━━━━━━━━━━━━━━━━━━━━\u001b[0m\u001b[37m\u001b[0m \u001b[1m14s\u001b[0m 50ms/step - accuracy: 0.9941 - loss: 0.0162 - val_accuracy: 0.9660 - val_loss: 0.2046\n",
      "Epoch 43/100\n",
      "\u001b[1m269/270\u001b[0m \u001b[32m━━━━━━━━━━━━━━━━━━━\u001b[0m\u001b[37m━\u001b[0m \u001b[1m0s\u001b[0m 46ms/step - accuracy: 0.9939 - loss: 0.0185\n",
      "Epoch 43: val_accuracy did not improve from 0.97732\n",
      "\u001b[1m270/270\u001b[0m \u001b[32m━━━━━━━━━━━━━━━━━━━━\u001b[0m\u001b[37m\u001b[0m \u001b[1m14s\u001b[0m 50ms/step - accuracy: 0.9939 - loss: 0.0186 - val_accuracy: 0.9660 - val_loss: 0.2167\n",
      "Epoch 44/100\n",
      "\u001b[1m269/270\u001b[0m \u001b[32m━━━━━━━━━━━━━━━━━━━\u001b[0m\u001b[37m━\u001b[0m \u001b[1m0s\u001b[0m 46ms/step - accuracy: 0.9831 - loss: 0.0489\n",
      "Epoch 44: val_accuracy did not improve from 0.97732\n",
      "\u001b[1m270/270\u001b[0m \u001b[32m━━━━━━━━━━━━━━━━━━━━\u001b[0m\u001b[37m\u001b[0m \u001b[1m14s\u001b[0m 50ms/step - accuracy: 0.9830 - loss: 0.0490 - val_accuracy: 0.9773 - val_loss: 0.1008\n",
      "Epoch 45/100\n",
      "\u001b[1m270/270\u001b[0m \u001b[32m━━━━━━━━━━━━━━━━━━━━\u001b[0m\u001b[37m\u001b[0m \u001b[1m0s\u001b[0m 47ms/step - accuracy: 0.9895 - loss: 0.0371\n",
      "Epoch 45: val_accuracy did not improve from 0.97732\n",
      "\u001b[1m270/270\u001b[0m \u001b[32m━━━━━━━━━━━━━━━━━━━━\u001b[0m\u001b[37m\u001b[0m \u001b[1m14s\u001b[0m 50ms/step - accuracy: 0.9894 - loss: 0.0371 - val_accuracy: 0.9717 - val_loss: 0.0969\n",
      "Epoch 46/100\n",
      "\u001b[1m270/270\u001b[0m \u001b[32m━━━━━━━━━━━━━━━━━━━━\u001b[0m\u001b[37m\u001b[0m \u001b[1m0s\u001b[0m 47ms/step - accuracy: 0.9962 - loss: 0.0148\n",
      "Epoch 46: val_accuracy did not improve from 0.97732\n",
      "\u001b[1m270/270\u001b[0m \u001b[32m━━━━━━━━━━━━━━━━━━━━\u001b[0m\u001b[37m\u001b[0m \u001b[1m14s\u001b[0m 51ms/step - accuracy: 0.9962 - loss: 0.0148 - val_accuracy: 0.9705 - val_loss: 0.1100\n",
      "Epoch 47/100\n",
      "\u001b[1m270/270\u001b[0m \u001b[32m━━━━━━━━━━━━━━━━━━━━\u001b[0m\u001b[37m\u001b[0m \u001b[1m0s\u001b[0m 47ms/step - accuracy: 0.9949 - loss: 0.0146\n",
      "Epoch 47: val_accuracy did not improve from 0.97732\n",
      "\u001b[1m270/270\u001b[0m \u001b[32m━━━━━━━━━━━━━━━━━━━━\u001b[0m\u001b[37m\u001b[0m \u001b[1m14s\u001b[0m 51ms/step - accuracy: 0.9949 - loss: 0.0146 - val_accuracy: 0.9739 - val_loss: 0.1079\n",
      "Epoch 48/100\n",
      "\u001b[1m269/270\u001b[0m \u001b[32m━━━━━━━━━━━━━━━━━━━\u001b[0m\u001b[37m━\u001b[0m \u001b[1m0s\u001b[0m 46ms/step - accuracy: 0.9934 - loss: 0.0198\n",
      "Epoch 48: val_accuracy did not improve from 0.97732\n",
      "\u001b[1m270/270\u001b[0m \u001b[32m━━━━━━━━━━━━━━━━━━━━\u001b[0m\u001b[37m\u001b[0m \u001b[1m14s\u001b[0m 50ms/step - accuracy: 0.9934 - loss: 0.0199 - val_accuracy: 0.9615 - val_loss: 0.1953\n",
      "Epoch 49/100\n",
      "\u001b[1m269/270\u001b[0m \u001b[32m━━━━━━━━━━━━━━━━━━━\u001b[0m\u001b[37m━\u001b[0m \u001b[1m0s\u001b[0m 46ms/step - accuracy: 0.9923 - loss: 0.0223\n",
      "Epoch 49: val_accuracy did not improve from 0.97732\n",
      "\u001b[1m270/270\u001b[0m \u001b[32m━━━━━━━━━━━━━━━━━━━━\u001b[0m\u001b[37m\u001b[0m \u001b[1m14s\u001b[0m 50ms/step - accuracy: 0.9923 - loss: 0.0222 - val_accuracy: 0.9705 - val_loss: 0.1275\n",
      "Epoch 50/100\n",
      "\u001b[1m270/270\u001b[0m \u001b[32m━━━━━━━━━━━━━━━━━━━━\u001b[0m\u001b[37m\u001b[0m \u001b[1m0s\u001b[0m 46ms/step - accuracy: 0.9941 - loss: 0.0161\n",
      "Epoch 50: val_accuracy did not improve from 0.97732\n",
      "\u001b[1m270/270\u001b[0m \u001b[32m━━━━━━━━━━━━━━━━━━━━\u001b[0m\u001b[37m\u001b[0m \u001b[1m14s\u001b[0m 50ms/step - accuracy: 0.9941 - loss: 0.0161 - val_accuracy: 0.9717 - val_loss: 0.1132\n",
      "Epoch 51/100\n",
      "\u001b[1m269/270\u001b[0m \u001b[32m━━━━━━━━━━━━━━━━━━━\u001b[0m\u001b[37m━\u001b[0m \u001b[1m0s\u001b[0m 46ms/step - accuracy: 0.9971 - loss: 0.0125\n",
      "Epoch 51: val_accuracy did not improve from 0.97732\n",
      "\u001b[1m270/270\u001b[0m \u001b[32m━━━━━━━━━━━━━━━━━━━━\u001b[0m\u001b[37m\u001b[0m \u001b[1m14s\u001b[0m 50ms/step - accuracy: 0.9971 - loss: 0.0125 - val_accuracy: 0.9603 - val_loss: 0.1371\n",
      "Epoch 52/100\n",
      "\u001b[1m269/270\u001b[0m \u001b[32m━━━━━━━━━━━━━━━━━━━\u001b[0m\u001b[37m━\u001b[0m \u001b[1m0s\u001b[0m 47ms/step - accuracy: 0.9974 - loss: 0.0110\n",
      "Epoch 52: val_accuracy did not improve from 0.97732\n",
      "\u001b[1m270/270\u001b[0m \u001b[32m━━━━━━━━━━━━━━━━━━━━\u001b[0m\u001b[37m\u001b[0m \u001b[1m14s\u001b[0m 50ms/step - accuracy: 0.9973 - loss: 0.0110 - val_accuracy: 0.9705 - val_loss: 0.0920\n",
      "Epoch 53/100\n",
      "\u001b[1m270/270\u001b[0m \u001b[32m━━━━━━━━━━━━━━━━━━━━\u001b[0m\u001b[37m\u001b[0m \u001b[1m0s\u001b[0m 46ms/step - accuracy: 0.9967 - loss: 0.0113\n",
      "Epoch 53: val_accuracy did not improve from 0.97732\n",
      "\u001b[1m270/270\u001b[0m \u001b[32m━━━━━━━━━━━━━━━━━━━━\u001b[0m\u001b[37m\u001b[0m \u001b[1m14s\u001b[0m 50ms/step - accuracy: 0.9967 - loss: 0.0113 - val_accuracy: 0.9637 - val_loss: 0.1270\n",
      "Epoch 54/100\n",
      "\u001b[1m270/270\u001b[0m \u001b[32m━━━━━━━━━━━━━━━━━━━━\u001b[0m\u001b[37m\u001b[0m \u001b[1m0s\u001b[0m 46ms/step - accuracy: 0.9930 - loss: 0.0192\n",
      "Epoch 54: val_accuracy did not improve from 0.97732\n",
      "\u001b[1m270/270\u001b[0m \u001b[32m━━━━━━━━━━━━━━━━━━━━\u001b[0m\u001b[37m\u001b[0m \u001b[1m14s\u001b[0m 50ms/step - accuracy: 0.9930 - loss: 0.0192 - val_accuracy: 0.9490 - val_loss: 0.1703\n",
      "Epoch 55/100\n",
      "\u001b[1m269/270\u001b[0m \u001b[32m━━━━━━━━━━━━━━━━━━━\u001b[0m\u001b[37m━\u001b[0m \u001b[1m0s\u001b[0m 46ms/step - accuracy: 0.9931 - loss: 0.0226\n",
      "Epoch 55: val_accuracy did not improve from 0.97732\n",
      "\u001b[1m270/270\u001b[0m \u001b[32m━━━━━━━━━━━━━━━━━━━━\u001b[0m\u001b[37m\u001b[0m \u001b[1m14s\u001b[0m 50ms/step - accuracy: 0.9931 - loss: 0.0226 - val_accuracy: 0.9751 - val_loss: 0.1369\n",
      "Epoch 56/100\n",
      "\u001b[1m269/270\u001b[0m \u001b[32m━━━━━━━━━━━━━━━━━━━\u001b[0m\u001b[37m━\u001b[0m \u001b[1m0s\u001b[0m 46ms/step - accuracy: 0.9882 - loss: 0.0393\n",
      "Epoch 56: val_accuracy did not improve from 0.97732\n",
      "\u001b[1m270/270\u001b[0m \u001b[32m━━━━━━━━━━━━━━━━━━━━\u001b[0m\u001b[37m\u001b[0m \u001b[1m14s\u001b[0m 50ms/step - accuracy: 0.9882 - loss: 0.0394 - val_accuracy: 0.9739 - val_loss: 0.1110\n",
      "Epoch 57/100\n",
      "\u001b[1m269/270\u001b[0m \u001b[32m━━━━━━━━━━━━━━━━━━━\u001b[0m\u001b[37m━\u001b[0m \u001b[1m0s\u001b[0m 46ms/step - accuracy: 0.9879 - loss: 0.0262\n",
      "Epoch 57: val_accuracy did not improve from 0.97732\n",
      "\u001b[1m270/270\u001b[0m \u001b[32m━━━━━━━━━━━━━━━━━━━━\u001b[0m\u001b[37m\u001b[0m \u001b[1m14s\u001b[0m 50ms/step - accuracy: 0.9879 - loss: 0.0261 - val_accuracy: 0.9762 - val_loss: 0.0968\n",
      "Epoch 58/100\n",
      "\u001b[1m269/270\u001b[0m \u001b[32m━━━━━━━━━━━━━━━━━━━\u001b[0m\u001b[37m━\u001b[0m \u001b[1m0s\u001b[0m 46ms/step - accuracy: 0.9955 - loss: 0.0147\n",
      "Epoch 58: val_accuracy did not improve from 0.97732\n",
      "\u001b[1m270/270\u001b[0m \u001b[32m━━━━━━━━━━━━━━━━━━━━\u001b[0m\u001b[37m\u001b[0m \u001b[1m14s\u001b[0m 50ms/step - accuracy: 0.9955 - loss: 0.0147 - val_accuracy: 0.9773 - val_loss: 0.0923\n",
      "Epoch 59/100\n",
      "\u001b[1m269/270\u001b[0m \u001b[32m━━━━━━━━━━━━━━━━━━━\u001b[0m\u001b[37m━\u001b[0m \u001b[1m0s\u001b[0m 46ms/step - accuracy: 0.9968 - loss: 0.0115\n",
      "Epoch 59: val_accuracy did not improve from 0.97732\n",
      "\u001b[1m270/270\u001b[0m \u001b[32m━━━━━━━━━━━━━━━━━━━━\u001b[0m\u001b[37m\u001b[0m \u001b[1m14s\u001b[0m 50ms/step - accuracy: 0.9968 - loss: 0.0115 - val_accuracy: 0.8435 - val_loss: 0.8243\n",
      "Epoch 60/100\n",
      "\u001b[1m270/270\u001b[0m \u001b[32m━━━━━━━━━━━━━━━━━━━━\u001b[0m\u001b[37m\u001b[0m \u001b[1m0s\u001b[0m 47ms/step - accuracy: 0.9924 - loss: 0.0265\n",
      "Epoch 60: val_accuracy did not improve from 0.97732\n",
      "\u001b[1m270/270\u001b[0m \u001b[32m━━━━━━━━━━━━━━━━━━━━\u001b[0m\u001b[37m\u001b[0m \u001b[1m14s\u001b[0m 50ms/step - accuracy: 0.9924 - loss: 0.0265 - val_accuracy: 0.9728 - val_loss: 0.1121\n",
      "Epoch 61/100\n",
      "\u001b[1m270/270\u001b[0m \u001b[32m━━━━━━━━━━━━━━━━━━━━\u001b[0m\u001b[37m\u001b[0m \u001b[1m0s\u001b[0m 46ms/step - accuracy: 0.9918 - loss: 0.0216\n",
      "Epoch 61: val_accuracy did not improve from 0.97732\n",
      "\u001b[1m270/270\u001b[0m \u001b[32m━━━━━━━━━━━━━━━━━━━━\u001b[0m\u001b[37m\u001b[0m \u001b[1m14s\u001b[0m 50ms/step - accuracy: 0.9918 - loss: 0.0216 - val_accuracy: 0.9660 - val_loss: 0.1316\n",
      "Epoch 62/100\n",
      "\u001b[1m269/270\u001b[0m \u001b[32m━━━━━━━━━━━━━━━━━━━\u001b[0m\u001b[37m━\u001b[0m \u001b[1m0s\u001b[0m 47ms/step - accuracy: 0.9908 - loss: 0.0266\n",
      "Epoch 62: val_accuracy did not improve from 0.97732\n",
      "\u001b[1m270/270\u001b[0m \u001b[32m━━━━━━━━━━━━━━━━━━━━\u001b[0m\u001b[37m\u001b[0m \u001b[1m14s\u001b[0m 51ms/step - accuracy: 0.9908 - loss: 0.0266 - val_accuracy: 0.9660 - val_loss: 0.1626\n",
      "Epoch 63/100\n",
      "\u001b[1m269/270\u001b[0m \u001b[32m━━━━━━━━━━━━━━━━━━━\u001b[0m\u001b[37m━\u001b[0m \u001b[1m0s\u001b[0m 46ms/step - accuracy: 0.9954 - loss: 0.0147\n",
      "Epoch 63: val_accuracy did not improve from 0.97732\n",
      "\u001b[1m270/270\u001b[0m \u001b[32m━━━━━━━━━━━━━━━━━━━━\u001b[0m\u001b[37m\u001b[0m \u001b[1m14s\u001b[0m 50ms/step - accuracy: 0.9954 - loss: 0.0148 - val_accuracy: 0.9773 - val_loss: 0.1267\n",
      "Epoch 64/100\n",
      "\u001b[1m269/270\u001b[0m \u001b[32m━━━━━━━━━━━━━━━━━━━\u001b[0m\u001b[37m━\u001b[0m \u001b[1m0s\u001b[0m 46ms/step - accuracy: 0.9935 - loss: 0.0172\n",
      "Epoch 64: val_accuracy did not improve from 0.97732\n",
      "\u001b[1m270/270\u001b[0m \u001b[32m━━━━━━━━━━━━━━━━━━━━\u001b[0m\u001b[37m\u001b[0m \u001b[1m14s\u001b[0m 50ms/step - accuracy: 0.9935 - loss: 0.0172 - val_accuracy: 0.9694 - val_loss: 0.1400\n",
      "Epoch 65/100\n",
      "\u001b[1m270/270\u001b[0m \u001b[32m━━━━━━━━━━━━━━━━━━━━\u001b[0m\u001b[37m\u001b[0m \u001b[1m0s\u001b[0m 46ms/step - accuracy: 0.9949 - loss: 0.0161\n",
      "Epoch 65: val_accuracy did not improve from 0.97732\n",
      "\u001b[1m270/270\u001b[0m \u001b[32m━━━━━━━━━━━━━━━━━━━━\u001b[0m\u001b[37m\u001b[0m \u001b[1m14s\u001b[0m 50ms/step - accuracy: 0.9948 - loss: 0.0162 - val_accuracy: 0.8515 - val_loss: 0.6463\n",
      "Epoch 66/100\n",
      "\u001b[1m269/270\u001b[0m \u001b[32m━━━━━━━━━━━━━━━━━━━\u001b[0m\u001b[37m━\u001b[0m \u001b[1m0s\u001b[0m 46ms/step - accuracy: 0.9829 - loss: 0.0512\n",
      "Epoch 66: val_accuracy did not improve from 0.97732\n",
      "\u001b[1m270/270\u001b[0m \u001b[32m━━━━━━━━━━━━━━━━━━━━\u001b[0m\u001b[37m\u001b[0m \u001b[1m14s\u001b[0m 50ms/step - accuracy: 0.9829 - loss: 0.0512 - val_accuracy: 0.9717 - val_loss: 0.1056\n",
      "Epoch 67/100\n",
      "\u001b[1m269/270\u001b[0m \u001b[32m━━━━━━━━━━━━━━━━━━━\u001b[0m\u001b[37m━\u001b[0m \u001b[1m0s\u001b[0m 46ms/step - accuracy: 0.9889 - loss: 0.0388\n",
      "Epoch 67: val_accuracy did not improve from 0.97732\n",
      "\u001b[1m270/270\u001b[0m \u001b[32m━━━━━━━━━━━━━━━━━━━━\u001b[0m\u001b[37m\u001b[0m \u001b[1m14s\u001b[0m 50ms/step - accuracy: 0.9889 - loss: 0.0388 - val_accuracy: 0.9762 - val_loss: 0.0923\n"
     ]
    }
   ],
   "source": [
    "with tf.device('/device:GPU:0'):\n",
    "    model_info = model.fit(\n",
    "        train_generator,\n",
    "        epochs=num_epoch,\n",
    "        validation_data=validation_generator,\n",
    "        callbacks=[checkpoint, early_stopping]\n",
    "    )"
   ]
  },
  {
   "cell_type": "code",
   "execution_count": 32,
   "id": "116348eb",
   "metadata": {
    "execution": {
     "iopub.execute_input": "2024-12-29T08:19:22.571228Z",
     "iopub.status.busy": "2024-12-29T08:19:22.570846Z",
     "iopub.status.idle": "2024-12-29T08:19:26.460911Z",
     "shell.execute_reply": "2024-12-29T08:19:26.459906Z"
    },
    "papermill": {
     "duration": 4.701614,
     "end_time": "2024-12-29T08:19:26.463087",
     "exception": false,
     "start_time": "2024-12-29T08:19:21.761473",
     "status": "completed"
    },
    "tags": []
   },
   "outputs": [],
   "source": [
    "model_path = \"simple_CNN_mouth_modelV6_3.keras\"\n",
    "model.save(model_path)"
   ]
  },
  {
   "cell_type": "markdown",
   "id": "9f495345",
   "metadata": {
    "papermill": {
     "duration": 0.823515,
     "end_time": "2024-12-29T08:19:28.104019",
     "exception": false,
     "start_time": "2024-12-29T08:19:27.280504",
     "status": "completed"
    },
    "tags": []
   },
   "source": [
    "## 4. Plot the training graph of model 2"
   ]
  },
  {
   "cell_type": "code",
   "execution_count": 33,
   "id": "e4031d73",
   "metadata": {
    "execution": {
     "iopub.execute_input": "2024-12-29T08:19:29.771433Z",
     "iopub.status.busy": "2024-12-29T08:19:29.771100Z",
     "iopub.status.idle": "2024-12-29T08:19:30.276902Z",
     "shell.execute_reply": "2024-12-29T08:19:30.276041Z"
    },
    "papermill": {
     "duration": 1.347513,
     "end_time": "2024-12-29T08:19:30.278685",
     "exception": false,
     "start_time": "2024-12-29T08:19:28.931172",
     "status": "completed"
    },
    "tags": []
   },
   "outputs": [
    {
     "data": {
      "image/png": "[encoded data removed]",
      "text/plain": [
       "<Figure size 1000x400 with 2 Axes>"
      ]
     },
     "metadata": {},
     "output_type": "display_data"
    }
   ],
   "source": [
    "plot_model_history(model_info)"
   ]
  },
  {
   "cell_type": "markdown",
   "id": "25858f06",
   "metadata": {
    "papermill": {
     "duration": 0.745848,
     "end_time": "2024-12-29T08:19:31.828450",
     "exception": false,
     "start_time": "2024-12-29T08:19:31.082602",
     "status": "completed"
    },
    "tags": []
   },
   "source": [
    "## 5. Testing"
   ]
  },
  {
   "cell_type": "code",
   "execution_count": 34,
   "id": "a5bc61b5",
   "metadata": {
    "execution": {
     "iopub.execute_input": "2024-12-29T08:19:33.490809Z",
     "iopub.status.busy": "2024-12-29T08:19:33.490439Z",
     "iopub.status.idle": "2024-12-29T08:19:44.389523Z",
     "shell.execute_reply": "2024-12-29T08:19:44.388694Z"
    },
    "papermill": {
     "duration": 11.717755,
     "end_time": "2024-12-29T08:19:44.391119",
     "exception": false,
     "start_time": "2024-12-29T08:19:32.673364",
     "status": "completed"
    },
    "tags": []
   },
   "outputs": [
    {
     "data": {
      "image/png": "[encoded data removed]",
      "text/plain": [
       "<Figure size 640x480 with 1 Axes>"
      ]
     },
     "metadata": {},
     "output_type": "display_data"
    },
    {
     "name": "stdout",
     "output_type": "stream",
     "text": [
      "\u001b[1m1/1\u001b[0m \u001b[32m━━━━━━━━━━━━━━━━━━━━\u001b[0m\u001b[37m\u001b[0m \u001b[1m1s\u001b[0m 770ms/step\n",
      "[[2.0964799e-06 9.9999785e-01]]\n",
      "Predicted class: Yawn\n"
     ]
    }
   ],
   "source": [
    "CLASS_LABELS = {0: \"No Yawn\", 1: \"Yawn\"}\n",
    "\n",
    "model = tf.keras.models.load_model(model_path)\n",
    "\n",
    "path = '/kaggle/input/drowsiness-dataset/Dataset/Train/Yawn/1026.jpg'\n",
    "\n",
    "plt.imshow(mpimg.imread(path))\n",
    "plt.show()\n",
    "\n",
    "# Open image, convert to grayscale and resize\n",
    "img = preprocess_image(path)\n",
    "x = np.expand_dims(img, axis=0)\n",
    "\n",
    "y_predict = model.predict(x)\n",
    "print(y_predict)\n",
    "\n",
    "# Get the predicted class and label\n",
    "prediction = int(np.argmax(y_predict))\n",
    "print(\"Predicted class:\", CLASS_LABELS[prediction])"
   ]
  },
  {
   "cell_type": "markdown",
   "id": "caa28c6d",
   "metadata": {
    "papermill": {
     "duration": 0.834317,
     "end_time": "2024-12-29T08:19:46.001117",
     "exception": false,
     "start_time": "2024-12-29T08:19:45.166800",
     "status": "completed"
    },
    "tags": []
   },
   "source": [
    "## 6. Get actual and predicted labels for confusion matrix and classification report"
   ]
  },
  {
   "cell_type": "code",
   "execution_count": 35,
   "id": "fb247942",
   "metadata": {
    "execution": {
     "iopub.execute_input": "2024-12-29T08:19:47.669134Z",
     "iopub.status.busy": "2024-12-29T08:19:47.668766Z",
     "iopub.status.idle": "2024-12-29T08:19:59.249076Z",
     "shell.execute_reply": "2024-12-29T08:19:59.248107Z"
    },
    "papermill": {
     "duration": 12.426349,
     "end_time": "2024-12-29T08:19:59.250649",
     "exception": false,
     "start_time": "2024-12-29T08:19:46.824300",
     "status": "completed"
    },
    "tags": []
   },
   "outputs": [
    {
     "name": "stdout",
     "output_type": "stream",
     "text": [
      "\u001b[1m1/1\u001b[0m \u001b[32m━━━━━━━━━━━━━━━━━━━━\u001b[0m\u001b[37m\u001b[0m \u001b[1m0s\u001b[0m 471ms/step\n",
      "\u001b[1m1/1\u001b[0m \u001b[32m━━━━━━━━━━━━━━━━━━━━\u001b[0m\u001b[37m\u001b[0m \u001b[1m0s\u001b[0m 20ms/step\n",
      "\u001b[1m1/1\u001b[0m \u001b[32m━━━━━━━━━━━━━━━━━━━━\u001b[0m\u001b[37m\u001b[0m \u001b[1m0s\u001b[0m 20ms/step\n",
      "\u001b[1m1/1\u001b[0m \u001b[32m━━━━━━━━━━━━━━━━━━━━\u001b[0m\u001b[37m\u001b[0m \u001b[1m0s\u001b[0m 20ms/step\n",
      "\u001b[1m1/1\u001b[0m \u001b[32m━━━━━━━━━━━━━━━━━━━━\u001b[0m\u001b[37m\u001b[0m \u001b[1m0s\u001b[0m 19ms/step\n",
      "\u001b[1m1/1\u001b[0m \u001b[32m━━━━━━━━━━━━━━━━━━━━\u001b[0m\u001b[37m\u001b[0m \u001b[1m0s\u001b[0m 20ms/step\n",
      "\u001b[1m1/1\u001b[0m \u001b[32m━━━━━━━━━━━━━━━━━━━━\u001b[0m\u001b[37m\u001b[0m \u001b[1m0s\u001b[0m 20ms/step\n",
      "\u001b[1m1/1\u001b[0m \u001b[32m━━━━━━━━━━━━━━━━━━━━\u001b[0m\u001b[37m\u001b[0m \u001b[1m0s\u001b[0m 21ms/step\n",
      "\u001b[1m1/1\u001b[0m \u001b[32m━━━━━━━━━━━━━━━━━━━━\u001b[0m\u001b[37m\u001b[0m \u001b[1m0s\u001b[0m 20ms/step\n",
      "\u001b[1m1/1\u001b[0m \u001b[32m━━━━━━━━━━━━━━━━━━━━\u001b[0m\u001b[37m\u001b[0m \u001b[1m0s\u001b[0m 21ms/step\n",
      "\u001b[1m1/1\u001b[0m \u001b[32m━━━━━━━━━━━━━━━━━━━━\u001b[0m\u001b[37m\u001b[0m \u001b[1m0s\u001b[0m 20ms/step\n",
      "\u001b[1m1/1\u001b[0m \u001b[32m━━━━━━━━━━━━━━━━━━━━\u001b[0m\u001b[37m\u001b[0m \u001b[1m0s\u001b[0m 20ms/step\n",
      "\u001b[1m1/1\u001b[0m \u001b[32m━━━━━━━━━━━━━━━━━━━━\u001b[0m\u001b[37m\u001b[0m \u001b[1m0s\u001b[0m 20ms/step\n",
      "\u001b[1m1/1\u001b[0m \u001b[32m━━━━━━━━━━━━━━━━━━━━\u001b[0m\u001b[37m\u001b[0m \u001b[1m0s\u001b[0m 20ms/step\n",
      "\u001b[1m1/1\u001b[0m \u001b[32m━━━━━━━━━━━━━━━━━━━━\u001b[0m\u001b[37m\u001b[0m \u001b[1m0s\u001b[0m 20ms/step\n",
      "\u001b[1m1/1\u001b[0m \u001b[32m━━━━━━━━━━━━━━━━━━━━\u001b[0m\u001b[37m\u001b[0m \u001b[1m0s\u001b[0m 19ms/step\n",
      "\u001b[1m1/1\u001b[0m \u001b[32m━━━━━━━━━━━━━━━━━━━━\u001b[0m\u001b[37m\u001b[0m \u001b[1m0s\u001b[0m 20ms/step\n",
      "\u001b[1m1/1\u001b[0m \u001b[32m━━━━━━━━━━━━━━━━━━━━\u001b[0m\u001b[37m\u001b[0m \u001b[1m0s\u001b[0m 19ms/step\n",
      "\u001b[1m1/1\u001b[0m \u001b[32m━━━━━━━━━━━━━━━━━━━━\u001b[0m\u001b[37m\u001b[0m \u001b[1m0s\u001b[0m 19ms/step\n",
      "\u001b[1m1/1\u001b[0m \u001b[32m━━━━━━━━━━━━━━━━━━━━\u001b[0m\u001b[37m\u001b[0m \u001b[1m0s\u001b[0m 20ms/step\n",
      "\u001b[1m1/1\u001b[0m \u001b[32m━━━━━━━━━━━━━━━━━━━━\u001b[0m\u001b[37m\u001b[0m \u001b[1m0s\u001b[0m 20ms/step\n",
      "\u001b[1m1/1\u001b[0m \u001b[32m━━━━━━━━━━━━━━━━━━━━\u001b[0m\u001b[37m\u001b[0m \u001b[1m0s\u001b[0m 21ms/step\n",
      "\u001b[1m1/1\u001b[0m \u001b[32m━━━━━━━━━━━━━━━━━━━━\u001b[0m\u001b[37m\u001b[0m \u001b[1m0s\u001b[0m 20ms/step\n",
      "\u001b[1m1/1\u001b[0m \u001b[32m━━━━━━━━━━━━━━━━━━━━\u001b[0m\u001b[37m\u001b[0m \u001b[1m0s\u001b[0m 19ms/step\n",
      "\u001b[1m1/1\u001b[0m \u001b[32m━━━━━━━━━━━━━━━━━━━━\u001b[0m\u001b[37m\u001b[0m \u001b[1m0s\u001b[0m 20ms/step\n",
      "\u001b[1m1/1\u001b[0m \u001b[32m━━━━━━━━━━━━━━━━━━━━\u001b[0m\u001b[37m\u001b[0m \u001b[1m0s\u001b[0m 19ms/step\n",
      "\u001b[1m1/1\u001b[0m \u001b[32m━━━━━━━━━━━━━━━━━━━━\u001b[0m\u001b[37m\u001b[0m \u001b[1m0s\u001b[0m 20ms/step\n",
      "\u001b[1m1/1\u001b[0m \u001b[32m━━━━━━━━━━━━━━━━━━━━\u001b[0m\u001b[37m\u001b[0m \u001b[1m0s\u001b[0m 20ms/step\n",
      "\u001b[1m1/1\u001b[0m \u001b[32m━━━━━━━━━━━━━━━━━━━━\u001b[0m\u001b[37m\u001b[0m \u001b[1m0s\u001b[0m 20ms/step\n",
      "\u001b[1m1/1\u001b[0m \u001b[32m━━━━━━━━━━━━━━━━━━━━\u001b[0m\u001b[37m\u001b[0m \u001b[1m0s\u001b[0m 19ms/step\n",
      "\u001b[1m1/1\u001b[0m \u001b[32m━━━━━━━━━━━━━━━━━━━━\u001b[0m\u001b[37m\u001b[0m \u001b[1m0s\u001b[0m 19ms/step\n",
      "\u001b[1m1/1\u001b[0m \u001b[32m━━━━━━━━━━━━━━━━━━━━\u001b[0m\u001b[37m\u001b[0m \u001b[1m0s\u001b[0m 20ms/step\n",
      "\u001b[1m1/1\u001b[0m \u001b[32m━━━━━━━━━━━━━━━━━━━━\u001b[0m\u001b[37m\u001b[0m \u001b[1m0s\u001b[0m 20ms/step\n",
      "\u001b[1m1/1\u001b[0m \u001b[32m━━━━━━━━━━━━━━━━━━━━\u001b[0m\u001b[37m\u001b[0m \u001b[1m0s\u001b[0m 19ms/step\n",
      "\u001b[1m1/1\u001b[0m \u001b[32m━━━━━━━━━━━━━━━━━━━━\u001b[0m\u001b[37m\u001b[0m \u001b[1m0s\u001b[0m 19ms/step\n",
      "\u001b[1m1/1\u001b[0m \u001b[32m━━━━━━━━━━━━━━━━━━━━\u001b[0m\u001b[37m\u001b[0m \u001b[1m0s\u001b[0m 19ms/step\n",
      "\u001b[1m1/1\u001b[0m \u001b[32m━━━━━━━━━━━━━━━━━━━━\u001b[0m\u001b[37m\u001b[0m \u001b[1m0s\u001b[0m 18ms/step\n",
      "\u001b[1m1/1\u001b[0m \u001b[32m━━━━━━━━━━━━━━━━━━━━\u001b[0m\u001b[37m\u001b[0m \u001b[1m0s\u001b[0m 19ms/step\n",
      "\u001b[1m1/1\u001b[0m \u001b[32m━━━━━━━━━━━━━━━━━━━━\u001b[0m\u001b[37m\u001b[0m \u001b[1m0s\u001b[0m 18ms/step\n",
      "\u001b[1m1/1\u001b[0m \u001b[32m━━━━━━━━━━━━━━━━━━━━\u001b[0m\u001b[37m\u001b[0m \u001b[1m0s\u001b[0m 19ms/step\n",
      "\u001b[1m1/1\u001b[0m \u001b[32m━━━━━━━━━━━━━━━━━━━━\u001b[0m\u001b[37m\u001b[0m \u001b[1m0s\u001b[0m 19ms/step\n",
      "\u001b[1m1/1\u001b[0m \u001b[32m━━━━━━━━━━━━━━━━━━━━\u001b[0m\u001b[37m\u001b[0m \u001b[1m0s\u001b[0m 19ms/step\n",
      "\u001b[1m1/1\u001b[0m \u001b[32m━━━━━━━━━━━━━━━━━━━━\u001b[0m\u001b[37m\u001b[0m \u001b[1m0s\u001b[0m 19ms/step\n",
      "\u001b[1m1/1\u001b[0m \u001b[32m━━━━━━━━━━━━━━━━━━━━\u001b[0m\u001b[37m\u001b[0m \u001b[1m0s\u001b[0m 20ms/step\n",
      "\u001b[1m1/1\u001b[0m \u001b[32m━━━━━━━━━━━━━━━━━━━━\u001b[0m\u001b[37m\u001b[0m \u001b[1m0s\u001b[0m 20ms/step\n",
      "\u001b[1m1/1\u001b[0m \u001b[32m━━━━━━━━━━━━━━━━━━━━\u001b[0m\u001b[37m\u001b[0m \u001b[1m0s\u001b[0m 19ms/step\n",
      "\u001b[1m1/1\u001b[0m \u001b[32m━━━━━━━━━━━━━━━━━━━━\u001b[0m\u001b[37m\u001b[0m \u001b[1m0s\u001b[0m 19ms/step\n",
      "\u001b[1m1/1\u001b[0m \u001b[32m━━━━━━━━━━━━━━━━━━━━\u001b[0m\u001b[37m\u001b[0m \u001b[1m0s\u001b[0m 19ms/step\n",
      "\u001b[1m1/1\u001b[0m \u001b[32m━━━━━━━━━━━━━━━━━━━━\u001b[0m\u001b[37m\u001b[0m \u001b[1m0s\u001b[0m 19ms/step\n",
      "\u001b[1m1/1\u001b[0m \u001b[32m━━━━━━━━━━━━━━━━━━━━\u001b[0m\u001b[37m\u001b[0m \u001b[1m0s\u001b[0m 19ms/step\n",
      "\u001b[1m1/1\u001b[0m \u001b[32m━━━━━━━━━━━━━━━━━━━━\u001b[0m\u001b[37m\u001b[0m \u001b[1m0s\u001b[0m 19ms/step\n",
      "\u001b[1m1/1\u001b[0m \u001b[32m━━━━━━━━━━━━━━━━━━━━\u001b[0m\u001b[37m\u001b[0m \u001b[1m0s\u001b[0m 19ms/step\n",
      "\u001b[1m1/1\u001b[0m \u001b[32m━━━━━━━━━━━━━━━━━━━━\u001b[0m\u001b[37m\u001b[0m \u001b[1m0s\u001b[0m 19ms/step\n",
      "\u001b[1m1/1\u001b[0m \u001b[32m━━━━━━━━━━━━━━━━━━━━\u001b[0m\u001b[37m\u001b[0m \u001b[1m0s\u001b[0m 19ms/step\n",
      "\u001b[1m1/1\u001b[0m \u001b[32m━━━━━━━━━━━━━━━━━━━━\u001b[0m\u001b[37m\u001b[0m \u001b[1m0s\u001b[0m 20ms/step\n",
      "\u001b[1m1/1\u001b[0m \u001b[32m━━━━━━━━━━━━━━━━━━━━\u001b[0m\u001b[37m\u001b[0m \u001b[1m0s\u001b[0m 19ms/step\n",
      "\u001b[1m1/1\u001b[0m \u001b[32m━━━━━━━━━━━━━━━━━━━━\u001b[0m\u001b[37m\u001b[0m \u001b[1m0s\u001b[0m 20ms/step\n",
      "\u001b[1m1/1\u001b[0m \u001b[32m━━━━━━━━━━━━━━━━━━━━\u001b[0m\u001b[37m\u001b[0m \u001b[1m1s\u001b[0m 1s/step\n"
     ]
    }
   ],
   "source": [
    "y_test = []\n",
    "y_pred = []\n",
    "\n",
    "for i in range(len(test_generator)):\n",
    "  batch_images, batch_labels = test_generator[i]\n",
    "  batch_predictions = model.predict(batch_images)\n",
    "  batch_pred_labels = np.argmax(batch_predictions, axis=1)\n",
    "  y_test.extend(np.argmax(batch_labels, axis=1))\n",
    "  y_pred.extend(batch_pred_labels)\n",
    "\n",
    "y_test = np.array(y_test)\n",
    "y_pred = np.array(y_pred)\n",
    "# Check shapes for matching\n",
    "if len(y_test) != len(y_pred):\n",
    "    print(\"Kích thước của y_test và y_pred không khớp. Điều chỉnh số bước (steps) hoặc batch_size.\")\n",
    "# Confusion matrix\n",
    "conf_mat = confusion_matrix(y_test, y_pred)"
   ]
  },
  {
   "cell_type": "markdown",
   "id": "318c26de",
   "metadata": {
    "papermill": {
     "duration": 0.814932,
     "end_time": "2024-12-29T08:20:00.819963",
     "exception": false,
     "start_time": "2024-12-29T08:20:00.005031",
     "status": "completed"
    },
    "tags": []
   },
   "source": [
    "## 7. Print confusion matrix of model 2"
   ]
  },
  {
   "cell_type": "code",
   "execution_count": 36,
   "id": "c369c5f1",
   "metadata": {
    "execution": {
     "iopub.execute_input": "2024-12-29T08:20:02.461065Z",
     "iopub.status.busy": "2024-12-29T08:20:02.460670Z",
     "iopub.status.idle": "2024-12-29T08:20:02.726862Z",
     "shell.execute_reply": "2024-12-29T08:20:02.725992Z"
    },
    "papermill": {
     "duration": 1.094652,
     "end_time": "2024-12-29T08:20:02.728577",
     "exception": false,
     "start_time": "2024-12-29T08:20:01.633925",
     "status": "completed"
    },
    "tags": []
   },
   "outputs": [
    {
     "data": {
      "image/png": "[encoded data removed]",
      "text/plain": [
       "<Figure size 1000x700 with 2 Axes>"
      ]
     },
     "metadata": {},
     "output_type": "display_data"
    }
   ],
   "source": [
    "cm = pd.DataFrame(conf_mat, columns=CLASSES, index=CLASSES)\n",
    "cm.index.name = 'Actual'\n",
    "cm.columns.name = 'Predicted'\n",
    "plt.figure(figsize=(10,7))\n",
    "sns.heatmap(cm, annot=True, fmt='d', cmap='Blues')\n",
    "plt.title('Confusion Matrix')\n",
    "plt.show()"
   ]
  },
  {
   "cell_type": "markdown",
   "id": "a42428b8",
   "metadata": {
    "papermill": {
     "duration": 0.908155,
     "end_time": "2024-12-29T08:20:04.405704",
     "exception": false,
     "start_time": "2024-12-29T08:20:03.497549",
     "status": "completed"
    },
    "tags": []
   },
   "source": [
    "## 8. Print classification report of model 2"
   ]
  },
  {
   "cell_type": "code",
   "execution_count": 37,
   "id": "8e3523d0",
   "metadata": {
    "execution": {
     "iopub.execute_input": "2024-12-29T08:20:05.993704Z",
     "iopub.status.busy": "2024-12-29T08:20:05.993356Z",
     "iopub.status.idle": "2024-12-29T08:20:06.003905Z",
     "shell.execute_reply": "2024-12-29T08:20:06.003156Z"
    },
    "papermill": {
     "duration": 0.782149,
     "end_time": "2024-12-29T08:20:06.005434",
     "exception": false,
     "start_time": "2024-12-29T08:20:05.223285",
     "status": "completed"
    },
    "tags": []
   },
   "outputs": [
    {
     "name": "stdout",
     "output_type": "stream",
     "text": [
      "              precision    recall  f1-score   support\n",
      "\n",
      "     No_yawn       0.97      0.96      0.96       469\n",
      "        Yawn       0.96      0.97      0.96       448\n",
      "\n",
      "    accuracy                           0.96       917\n",
      "   macro avg       0.96      0.96      0.96       917\n",
      "weighted avg       0.96      0.96      0.96       917\n",
      "\n"
     ]
    }
   ],
   "source": [
    "print(classification_report(y_test, y_pred, target_names=CLASSES))"
   ]
  }
 ],
 "metadata": {
  "kaggle": {
   "accelerator": "gpu",
   "dataSources": [
    {
     "datasetId": 6308694,
     "sourceId": 10207940,
     "sourceType": "datasetVersion"
    }
   ],
   "dockerImageVersionId": 30805,
   "isGpuEnabled": true,
   "isInternetEnabled": true,
   "language": "python",
   "sourceType": "notebook"
  },
  "kernelspec": {
   "display_name": "Python 3",
   "language": "python",
   "name": "python3"
  },
  "language_info": {
   "codemirror_mode": {
    "name": "ipython",
    "version": 3
   },
   "file_extension": ".py",
   "mimetype": "text/x-python",
   "name": "python",
   "nbconvert_exporter": "python",
   "pygments_lexer": "ipython3",
   "version": "3.10.14"
  },
  "papermill": {
   "default_parameters": {},
   "duration": 1620.914271,
   "end_time": "2024-12-29T08:20:09.877266",
   "environment_variables": {},
   "exception": null,
   "input_path": "__notebook__.ipynb",
   "output_path": "__notebook__.ipynb",
   "parameters": {},
   "start_time": "2024-12-29T07:53:08.962995",
   "version": "2.6.0"
  }
 },
 "nbformat": 4,
 "nbformat_minor": 5
}
